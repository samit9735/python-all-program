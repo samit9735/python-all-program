{
 "cells": [
  {
   "cell_type": "code",
   "execution_count": null,
   "id": "0977d6c6",
   "metadata": {},
   "outputs": [],
   "source": [
    "1. Modularity\n",
    "2. Readability\n",
    "3. redundancy\n",
    "\n",
    "10 lines of code\n",
    "\n",
    "50 time => 50*10=>500"
   ]
  },
  {
   "cell_type": "code",
   "execution_count": 1,
   "id": "6d9867ed",
   "metadata": {},
   "outputs": [],
   "source": [
    "def add_nums(x,y):\n",
    "    res=x+y\n",
    "    return res"
   ]
  },
  {
   "cell_type": "code",
   "execution_count": 2,
   "id": "2d2999c9",
   "metadata": {},
   "outputs": [
    {
     "data": {
      "text/plain": [
       "30"
      ]
     },
     "execution_count": 2,
     "metadata": {},
     "output_type": "execute_result"
    }
   ],
   "source": [
    "add_nums(10,20)"
   ]
  },
  {
   "cell_type": "code",
   "execution_count": 5,
   "id": "c85e576a",
   "metadata": {},
   "outputs": [
    {
     "ename": "TypeError",
     "evalue": "add_nums() missing 1 required positional argument: 'y'",
     "output_type": "error",
     "traceback": [
      "\u001b[1;31m---------------------------------------------------------------------------\u001b[0m",
      "\u001b[1;31mTypeError\u001b[0m                                 Traceback (most recent call last)",
      "Input \u001b[1;32mIn [5]\u001b[0m, in \u001b[0;36m<cell line: 1>\u001b[1;34m()\u001b[0m\n\u001b[1;32m----> 1\u001b[0m \u001b[43madd_nums\u001b[49m\u001b[43m(\u001b[49m\u001b[38;5;241;43m10\u001b[39;49m\u001b[43m)\u001b[49m\n",
      "\u001b[1;31mTypeError\u001b[0m: add_nums() missing 1 required positional argument: 'y'"
     ]
    }
   ],
   "source": [
    "add_nums(10)"
   ]
  },
  {
   "cell_type": "code",
   "execution_count": 24,
   "id": "c72b4d36",
   "metadata": {},
   "outputs": [],
   "source": [
    "def add_nums(x,y=0):    # Default variable\n",
    "    res=x+y\n",
    "    return res"
   ]
  },
  {
   "cell_type": "code",
   "execution_count": 7,
   "id": "87f88092",
   "metadata": {},
   "outputs": [
    {
     "data": {
      "text/plain": [
       "11"
      ]
     },
     "execution_count": 7,
     "metadata": {},
     "output_type": "execute_result"
    }
   ],
   "source": [
    "add_nums(5,6)"
   ]
  },
  {
   "cell_type": "code",
   "execution_count": 8,
   "id": "fd7f7ac2",
   "metadata": {},
   "outputs": [
    {
     "data": {
      "text/plain": [
       "5"
      ]
     },
     "execution_count": 8,
     "metadata": {},
     "output_type": "execute_result"
    }
   ],
   "source": [
    "add_nums(5)"
   ]
  },
  {
   "cell_type": "code",
   "execution_count": 13,
   "id": "1ea71d9e",
   "metadata": {},
   "outputs": [],
   "source": [
    "def add_nums(x=0,y=5):    # Default variable\n",
    "    res=x+y\n",
    "    return res"
   ]
  },
  {
   "cell_type": "code",
   "execution_count": 14,
   "id": "b799f3ea",
   "metadata": {},
   "outputs": [
    {
     "data": {
      "text/plain": [
       "30"
      ]
     },
     "execution_count": 14,
     "metadata": {},
     "output_type": "execute_result"
    }
   ],
   "source": [
    "add_nums(10,20)"
   ]
  },
  {
   "cell_type": "code",
   "execution_count": 15,
   "id": "74c1fed2",
   "metadata": {},
   "outputs": [
    {
     "data": {
      "text/plain": [
       "15"
      ]
     },
     "execution_count": 15,
     "metadata": {},
     "output_type": "execute_result"
    }
   ],
   "source": [
    "add_nums(10)"
   ]
  },
  {
   "cell_type": "code",
   "execution_count": 16,
   "id": "153890dc",
   "metadata": {},
   "outputs": [
    {
     "data": {
      "text/plain": [
       "5"
      ]
     },
     "execution_count": 16,
     "metadata": {},
     "output_type": "execute_result"
    }
   ],
   "source": [
    "add_nums()"
   ]
  },
  {
   "cell_type": "code",
   "execution_count": 17,
   "id": "62b01eb5",
   "metadata": {},
   "outputs": [
    {
     "ename": "TypeError",
     "evalue": "add_nums() takes from 0 to 2 positional arguments but 5 were given",
     "output_type": "error",
     "traceback": [
      "\u001b[1;31m---------------------------------------------------------------------------\u001b[0m",
      "\u001b[1;31mTypeError\u001b[0m                                 Traceback (most recent call last)",
      "Input \u001b[1;32mIn [17]\u001b[0m, in \u001b[0;36m<cell line: 1>\u001b[1;34m()\u001b[0m\n\u001b[1;32m----> 1\u001b[0m \u001b[43madd_nums\u001b[49m\u001b[43m(\u001b[49m\u001b[38;5;241;43m10\u001b[39;49m\u001b[43m,\u001b[49m\u001b[38;5;241;43m20\u001b[39;49m\u001b[43m,\u001b[49m\u001b[38;5;241;43m30\u001b[39;49m\u001b[43m,\u001b[49m\u001b[38;5;241;43m40\u001b[39;49m\u001b[43m,\u001b[49m\u001b[38;5;241;43m50\u001b[39;49m\u001b[43m)\u001b[49m\n",
      "\u001b[1;31mTypeError\u001b[0m: add_nums() takes from 0 to 2 positional arguments but 5 were given"
     ]
    }
   ],
   "source": [
    "add_nums(10,20,30,40,50)"
   ]
  },
  {
   "cell_type": "code",
   "execution_count": 21,
   "id": "960965b9",
   "metadata": {},
   "outputs": [],
   "source": [
    "def add_nums(x,y,*z):\n",
    "    print(\"type of x :{} and value is : {}\".format(type(x),x))\n",
    "    print(\"type of y :{} and value is : {}\".format(type(y),y))\n",
    "    print(\"type of z :{} and value is : {}\".format(type(z),z))"
   ]
  },
  {
   "cell_type": "code",
   "execution_count": 22,
   "id": "31c2f096",
   "metadata": {},
   "outputs": [
    {
     "name": "stdout",
     "output_type": "stream",
     "text": [
      "type of x :<class 'int'> and value is : 10\n",
      "type of y :<class 'int'> and value is : 20\n",
      "type of z :<class 'tuple'> and value is : (30, 40, 50)\n"
     ]
    }
   ],
   "source": [
    "add_nums(10,20,30,40,50)"
   ]
  },
  {
   "cell_type": "code",
   "execution_count": 25,
   "id": "7f953a8a",
   "metadata": {},
   "outputs": [],
   "source": [
    "def add_nums(x,y,*z):\n",
    "    res=x+y+sum(z)\n",
    "    return res"
   ]
  },
  {
   "cell_type": "code",
   "execution_count": 26,
   "id": "7e79cc87",
   "metadata": {},
   "outputs": [
    {
     "data": {
      "text/plain": [
       "150"
      ]
     },
     "execution_count": 26,
     "metadata": {},
     "output_type": "execute_result"
    }
   ],
   "source": [
    "add_nums(10,20,30,40,50)"
   ]
  },
  {
   "cell_type": "code",
   "execution_count": 27,
   "id": "f3c3351d",
   "metadata": {},
   "outputs": [
    {
     "data": {
      "text/plain": [
       "60"
      ]
     },
     "execution_count": 27,
     "metadata": {},
     "output_type": "execute_result"
    }
   ],
   "source": [
    "add_nums(10,20,30)"
   ]
  },
  {
   "cell_type": "code",
   "execution_count": 28,
   "id": "177a0e4e",
   "metadata": {},
   "outputs": [
    {
     "data": {
      "text/plain": [
       "30"
      ]
     },
     "execution_count": 28,
     "metadata": {},
     "output_type": "execute_result"
    }
   ],
   "source": [
    "add_nums(10,20)"
   ]
  },
  {
   "cell_type": "code",
   "execution_count": 29,
   "id": "f02d530e",
   "metadata": {},
   "outputs": [],
   "source": [
    "def add_nums(x,y=0,*z):\n",
    "    res=x+y+sum(z)\n",
    "    return res"
   ]
  },
  {
   "cell_type": "code",
   "execution_count": 30,
   "id": "bc36e4c8",
   "metadata": {},
   "outputs": [
    {
     "data": {
      "text/plain": [
       "10"
      ]
     },
     "execution_count": 30,
     "metadata": {},
     "output_type": "execute_result"
    }
   ],
   "source": [
    "add_nums(10)"
   ]
  },
  {
   "cell_type": "code",
   "execution_count": 31,
   "id": "ad1b3fb3",
   "metadata": {},
   "outputs": [
    {
     "data": {
      "text/plain": [
       "30"
      ]
     },
     "execution_count": 31,
     "metadata": {},
     "output_type": "execute_result"
    }
   ],
   "source": [
    "add_nums(10,20)"
   ]
  },
  {
   "cell_type": "code",
   "execution_count": 32,
   "id": "da1bb7bb",
   "metadata": {},
   "outputs": [
    {
     "data": {
      "text/plain": [
       "60"
      ]
     },
     "execution_count": 32,
     "metadata": {},
     "output_type": "execute_result"
    }
   ],
   "source": [
    "add_nums(10,20,30)"
   ]
  },
  {
   "cell_type": "code",
   "execution_count": 33,
   "id": "2c2bbfb1",
   "metadata": {},
   "outputs": [
    {
     "data": {
      "text/plain": [
       "100"
      ]
     },
     "execution_count": 33,
     "metadata": {},
     "output_type": "execute_result"
    }
   ],
   "source": [
    "add_nums(10,20,30,40)"
   ]
  },
  {
   "cell_type": "code",
   "execution_count": 42,
   "id": "c30a26b3",
   "metadata": {},
   "outputs": [],
   "source": [
    "def add_nums(x,y):\n",
    "    '''add_nums function takes 2 numbers as an input and perform sum of them'''\n",
    "    res=x+y\n",
    "    return res"
   ]
  },
  {
   "cell_type": "code",
   "execution_count": 43,
   "id": "1cc7b476",
   "metadata": {},
   "outputs": [
    {
     "data": {
      "text/plain": [
       "'add_nums function takes 2 numbers as an input and perform sum of them'"
      ]
     },
     "execution_count": 43,
     "metadata": {},
     "output_type": "execute_result"
    }
   ],
   "source": [
    "add_nums.__doc__"
   ]
  },
  {
   "cell_type": "code",
   "execution_count": 44,
   "id": "e99d9c42",
   "metadata": {},
   "outputs": [
    {
     "data": {
      "text/plain": [
       "300"
      ]
     },
     "execution_count": 44,
     "metadata": {},
     "output_type": "execute_result"
    }
   ],
   "source": [
    "add_nums(100,200)"
   ]
  },
  {
   "cell_type": "code",
   "execution_count": 46,
   "id": "c525ae33",
   "metadata": {},
   "outputs": [],
   "source": [
    "def myfunc(x,y=0,*z,**k):    # *args , **kwargs\n",
    "    print(\"x:{} , y:{}, z:{} , k:{}\".format(x,y,z,k))"
   ]
  },
  {
   "cell_type": "code",
   "execution_count": 47,
   "id": "f8a4407c",
   "metadata": {},
   "outputs": [
    {
     "name": "stdout",
     "output_type": "stream",
     "text": [
      "x:10 , y:20, z:(30, 40, 50) , k:{'name': 'Raghul Ramesh', 'city': 'Chennai', 'tech': 'Python'}\n"
     ]
    }
   ],
   "source": [
    "myfunc(10,20,30,40,50,name='Raghul Ramesh', city='Chennai', tech='Python')"
   ]
  },
  {
   "cell_type": "code",
   "execution_count": 57,
   "id": "e1e2d486",
   "metadata": {},
   "outputs": [],
   "source": [
    "def course_info(**x):\n",
    "    print(x)\n",
    "    for k in x.keys():\n",
    "        print(k + \" ===> \"+ str(x[k]))"
   ]
  },
  {
   "cell_type": "code",
   "execution_count": 58,
   "id": "2f1fed76",
   "metadata": {},
   "outputs": [
    {
     "name": "stdout",
     "output_type": "stream",
     "text": [
      "{'mode': 'online', 'tech': 'AI', 'duration': 90, 'current_topic': 'Python'}\n",
      "mode ===> online\n",
      "tech ===> AI\n",
      "duration ===> 90\n",
      "current_topic ===> Python\n"
     ]
    }
   ],
   "source": [
    "course_info(mode='online', tech='AI', duration=90 , current_topic='Python')"
   ]
  },
  {
   "cell_type": "code",
   "execution_count": null,
   "id": "53fb5a57",
   "metadata": {},
   "outputs": [],
   "source": [
    "# Why do we need to go for a function\n",
    "# How to create a function\n",
    "# different parameters used in funcitons: mandatory, optional, *args, **kwargs\n",
    "# function may or may not have a return statement\n",
    "# documentory string "
   ]
  },
  {
   "cell_type": "code",
   "execution_count": null,
   "id": "dd59a64e",
   "metadata": {},
   "outputs": [],
   "source": [
    "# SCOPE OF THE VARIABLE IN FUNCTION ( local, global)"
   ]
  }
 ],
 "metadata": {
  "kernelspec": {
   "display_name": "Python 3 (ipykernel)",
   "language": "python",
   "name": "python3"
  },
  "language_info": {
   "codemirror_mode": {
    "name": "ipython",
    "version": 3
   },
   "file_extension": ".py",
   "mimetype": "text/x-python",
   "name": "python",
   "nbconvert_exporter": "python",
   "pygments_lexer": "ipython3",
   "version": "3.8.10"
  }
 },
 "nbformat": 4,
 "nbformat_minor": 5
}
