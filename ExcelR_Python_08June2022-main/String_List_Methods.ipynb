{
 "cells": [
  {
   "cell_type": "code",
   "execution_count": 1,
   "id": "15a83af7",
   "metadata": {},
   "outputs": [],
   "source": [
    "name='Raghul Ramesh'"
   ]
  },
  {
   "cell_type": "code",
   "execution_count": 2,
   "id": "950c08e3",
   "metadata": {},
   "outputs": [
    {
     "data": {
      "text/plain": [
       "'Raghul Ramesh'"
      ]
     },
     "execution_count": 2,
     "metadata": {},
     "output_type": "execute_result"
    }
   ],
   "source": [
    "name"
   ]
  },
  {
   "cell_type": "code",
   "execution_count": 3,
   "id": "bceed143",
   "metadata": {},
   "outputs": [
    {
     "data": {
      "text/plain": [
       "'R'"
      ]
     },
     "execution_count": 3,
     "metadata": {},
     "output_type": "execute_result"
    }
   ],
   "source": [
    "name[0]"
   ]
  },
  {
   "cell_type": "code",
   "execution_count": 4,
   "id": "cf066d5b",
   "metadata": {},
   "outputs": [
    {
     "data": {
      "text/plain": [
       "'h'"
      ]
     },
     "execution_count": 4,
     "metadata": {},
     "output_type": "execute_result"
    }
   ],
   "source": [
    "name[12]"
   ]
  },
  {
   "cell_type": "code",
   "execution_count": 5,
   "id": "1c2da5fb",
   "metadata": {},
   "outputs": [
    {
     "data": {
      "text/plain": [
       "'h'"
      ]
     },
     "execution_count": 5,
     "metadata": {},
     "output_type": "execute_result"
    }
   ],
   "source": [
    "name[-1]"
   ]
  },
  {
   "cell_type": "code",
   "execution_count": 6,
   "id": "de880639",
   "metadata": {},
   "outputs": [
    {
     "data": {
      "text/plain": [
       "'s'"
      ]
     },
     "execution_count": 6,
     "metadata": {},
     "output_type": "execute_result"
    }
   ],
   "source": [
    "name[-2]"
   ]
  },
  {
   "cell_type": "code",
   "execution_count": 7,
   "id": "e19a8a05",
   "metadata": {},
   "outputs": [
    {
     "data": {
      "text/plain": [
       "'Raghul Ramesh'"
      ]
     },
     "execution_count": 7,
     "metadata": {},
     "output_type": "execute_result"
    }
   ],
   "source": [
    "name"
   ]
  },
  {
   "cell_type": "code",
   "execution_count": 8,
   "id": "059b24f6",
   "metadata": {},
   "outputs": [
    {
     "data": {
      "text/plain": [
       "'Raghul'"
      ]
     },
     "execution_count": 8,
     "metadata": {},
     "output_type": "execute_result"
    }
   ],
   "source": [
    "name[0:6]"
   ]
  },
  {
   "cell_type": "code",
   "execution_count": 9,
   "id": "f78414dd",
   "metadata": {},
   "outputs": [
    {
     "data": {
      "text/plain": [
       "'Ramesh'"
      ]
     },
     "execution_count": 9,
     "metadata": {},
     "output_type": "execute_result"
    }
   ],
   "source": [
    "name[7:13]"
   ]
  },
  {
   "cell_type": "code",
   "execution_count": 10,
   "id": "037c9371",
   "metadata": {},
   "outputs": [
    {
     "data": {
      "text/plain": [
       "'Raghul'"
      ]
     },
     "execution_count": 10,
     "metadata": {},
     "output_type": "execute_result"
    }
   ],
   "source": [
    "name[:6]"
   ]
  },
  {
   "cell_type": "code",
   "execution_count": 11,
   "id": "e057c0ca",
   "metadata": {},
   "outputs": [
    {
     "data": {
      "text/plain": [
       "'Ramesh'"
      ]
     },
     "execution_count": 11,
     "metadata": {},
     "output_type": "execute_result"
    }
   ],
   "source": [
    "name[7:]"
   ]
  },
  {
   "cell_type": "code",
   "execution_count": 12,
   "id": "c2ef977b",
   "metadata": {},
   "outputs": [
    {
     "data": {
      "text/plain": [
       "13"
      ]
     },
     "execution_count": 12,
     "metadata": {},
     "output_type": "execute_result"
    }
   ],
   "source": [
    "len(name)"
   ]
  },
  {
   "cell_type": "code",
   "execution_count": 13,
   "id": "e61881b0",
   "metadata": {},
   "outputs": [
    {
     "data": {
      "text/plain": [
       "str"
      ]
     },
     "execution_count": 13,
     "metadata": {},
     "output_type": "execute_result"
    }
   ],
   "source": [
    "type(name)"
   ]
  },
  {
   "cell_type": "code",
   "execution_count": 15,
   "id": "82809a43",
   "metadata": {},
   "outputs": [
    {
     "name": "stdout",
     "output_type": "stream",
     "text": [
      "['__add__', '__class__', '__contains__', '__delattr__', '__dir__', '__doc__', '__eq__', '__format__', '__ge__', '__getattribute__', '__getitem__', '__getnewargs__', '__gt__', '__hash__', '__init__', '__init_subclass__', '__iter__', '__le__', '__len__', '__lt__', '__mod__', '__mul__', '__ne__', '__new__', '__reduce__', '__reduce_ex__', '__repr__', '__rmod__', '__rmul__', '__setattr__', '__sizeof__', '__str__', '__subclasshook__', 'capitalize', 'casefold', 'center', 'count', 'encode', 'endswith', 'expandtabs', 'find', 'format', 'format_map', 'index', 'isalnum', 'isalpha', 'isascii', 'isdecimal', 'isdigit', 'isidentifier', 'islower', 'isnumeric', 'isprintable', 'isspace', 'istitle', 'isupper', 'join', 'ljust', 'lower', 'lstrip', 'maketrans', 'partition', 'replace', 'rfind', 'rindex', 'rjust', 'rpartition', 'rsplit', 'rstrip', 'split', 'splitlines', 'startswith', 'strip', 'swapcase', 'title', 'translate', 'upper', 'zfill']\n"
     ]
    }
   ],
   "source": [
    "print(dir(name))"
   ]
  },
  {
   "cell_type": "code",
   "execution_count": 16,
   "id": "6e0e0571",
   "metadata": {},
   "outputs": [
    {
     "data": {
      "text/plain": [
       "'Raghul Ramesh'"
      ]
     },
     "execution_count": 16,
     "metadata": {},
     "output_type": "execute_result"
    }
   ],
   "source": [
    "name"
   ]
  },
  {
   "cell_type": "code",
   "execution_count": 17,
   "id": "ef40cf59",
   "metadata": {},
   "outputs": [
    {
     "data": {
      "text/plain": [
       "'RAGHUL RAMESH'"
      ]
     },
     "execution_count": 17,
     "metadata": {},
     "output_type": "execute_result"
    }
   ],
   "source": [
    "name.upper()"
   ]
  },
  {
   "cell_type": "code",
   "execution_count": 18,
   "id": "f853a342",
   "metadata": {},
   "outputs": [
    {
     "data": {
      "text/plain": [
       "'Raghul Ramesh'"
      ]
     },
     "execution_count": 18,
     "metadata": {},
     "output_type": "execute_result"
    }
   ],
   "source": [
    "name"
   ]
  },
  {
   "cell_type": "code",
   "execution_count": 22,
   "id": "5d619070",
   "metadata": {},
   "outputs": [],
   "source": [
    "name=name.upper()"
   ]
  },
  {
   "cell_type": "code",
   "execution_count": 23,
   "id": "ed90854d",
   "metadata": {},
   "outputs": [
    {
     "data": {
      "text/plain": [
       "'RAGHUL RAMESH'"
      ]
     },
     "execution_count": 23,
     "metadata": {},
     "output_type": "execute_result"
    }
   ],
   "source": [
    "name"
   ]
  },
  {
   "cell_type": "code",
   "execution_count": 24,
   "id": "5566e8ac",
   "metadata": {},
   "outputs": [],
   "source": [
    "del name"
   ]
  },
  {
   "cell_type": "code",
   "execution_count": 25,
   "id": "38cd484f",
   "metadata": {},
   "outputs": [
    {
     "ename": "NameError",
     "evalue": "name 'name' is not defined",
     "output_type": "error",
     "traceback": [
      "\u001b[1;31m---------------------------------------------------------------------------\u001b[0m",
      "\u001b[1;31mNameError\u001b[0m                                 Traceback (most recent call last)",
      "Input \u001b[1;32mIn [25]\u001b[0m, in \u001b[0;36m<cell line: 1>\u001b[1;34m()\u001b[0m\n\u001b[1;32m----> 1\u001b[0m \u001b[43mname\u001b[49m\n",
      "\u001b[1;31mNameError\u001b[0m: name 'name' is not defined"
     ]
    }
   ],
   "source": [
    "name"
   ]
  },
  {
   "cell_type": "code",
   "execution_count": 26,
   "id": "a9410b45",
   "metadata": {},
   "outputs": [],
   "source": [
    "name='Raghul Ramesh'"
   ]
  },
  {
   "cell_type": "code",
   "execution_count": 27,
   "id": "fa2b937f",
   "metadata": {},
   "outputs": [
    {
     "data": {
      "text/plain": [
       "'raghul ramesh'"
      ]
     },
     "execution_count": 27,
     "metadata": {},
     "output_type": "execute_result"
    }
   ],
   "source": [
    "name.lower()"
   ]
  },
  {
   "cell_type": "code",
   "execution_count": 28,
   "id": "dd0d6d74",
   "metadata": {},
   "outputs": [
    {
     "data": {
      "text/plain": [
       "'Raghul Ramesh'"
      ]
     },
     "execution_count": 28,
     "metadata": {},
     "output_type": "execute_result"
    }
   ],
   "source": [
    "name"
   ]
  },
  {
   "cell_type": "code",
   "execution_count": 29,
   "id": "4a948499",
   "metadata": {},
   "outputs": [],
   "source": [
    "name='raghul ramesh'"
   ]
  },
  {
   "cell_type": "code",
   "execution_count": 30,
   "id": "4262cf58",
   "metadata": {},
   "outputs": [
    {
     "data": {
      "text/plain": [
       "'Raghul Ramesh'"
      ]
     },
     "execution_count": 30,
     "metadata": {},
     "output_type": "execute_result"
    }
   ],
   "source": [
    "name.title()"
   ]
  },
  {
   "cell_type": "code",
   "execution_count": 31,
   "id": "9ae0c764",
   "metadata": {},
   "outputs": [
    {
     "data": {
      "text/plain": [
       "'raghul ramesh'"
      ]
     },
     "execution_count": 31,
     "metadata": {},
     "output_type": "execute_result"
    }
   ],
   "source": [
    "name"
   ]
  },
  {
   "cell_type": "code",
   "execution_count": 32,
   "id": "975c4239",
   "metadata": {},
   "outputs": [
    {
     "data": {
      "text/plain": [
       "'Raghul ramesh'"
      ]
     },
     "execution_count": 32,
     "metadata": {},
     "output_type": "execute_result"
    }
   ],
   "source": [
    "name.capitalize()"
   ]
  },
  {
   "cell_type": "code",
   "execution_count": 33,
   "id": "f3260054",
   "metadata": {},
   "outputs": [],
   "source": [
    "info='''python programming\n",
    "java\n",
    "machine learning\n",
    "bigdata'''"
   ]
  },
  {
   "cell_type": "code",
   "execution_count": 35,
   "id": "1071e166",
   "metadata": {},
   "outputs": [
    {
     "name": "stdout",
     "output_type": "stream",
     "text": [
      "Python programming\n",
      "java\n",
      "machine learning\n",
      "bigdata\n"
     ]
    }
   ],
   "source": [
    "print(info.capitalize())"
   ]
  },
  {
   "cell_type": "code",
   "execution_count": 36,
   "id": "25486089",
   "metadata": {},
   "outputs": [],
   "source": [
    "columns=[\"sno\",\"customer\",\"location\",\"balance\"]"
   ]
  },
  {
   "cell_type": "code",
   "execution_count": 37,
   "id": "8621c1f2",
   "metadata": {},
   "outputs": [],
   "source": [
    "columns_update=[]\n",
    "for x in columns:\n",
    "    columns_update.append(x.title())"
   ]
  },
  {
   "cell_type": "code",
   "execution_count": 38,
   "id": "c3582aca",
   "metadata": {},
   "outputs": [
    {
     "data": {
      "text/plain": [
       "['Sno', 'Customer', 'Location', 'Balance']"
      ]
     },
     "execution_count": 38,
     "metadata": {},
     "output_type": "execute_result"
    }
   ],
   "source": [
    "columns_update"
   ]
  },
  {
   "cell_type": "code",
   "execution_count": 39,
   "id": "b89894ce",
   "metadata": {},
   "outputs": [
    {
     "data": {
      "text/plain": [
       "'raghul ramesh'"
      ]
     },
     "execution_count": 39,
     "metadata": {},
     "output_type": "execute_result"
    }
   ],
   "source": [
    "name"
   ]
  },
  {
   "cell_type": "code",
   "execution_count": 40,
   "id": "831c940d",
   "metadata": {},
   "outputs": [],
   "source": [
    "name='Raghul Ramesh'"
   ]
  },
  {
   "cell_type": "code",
   "execution_count": 41,
   "id": "b776ef7d",
   "metadata": {},
   "outputs": [
    {
     "data": {
      "text/plain": [
       "'rAGHUL rAMESH'"
      ]
     },
     "execution_count": 41,
     "metadata": {},
     "output_type": "execute_result"
    }
   ],
   "source": [
    "name.swapcase()"
   ]
  },
  {
   "cell_type": "code",
   "execution_count": 42,
   "id": "a77c6ccf",
   "metadata": {},
   "outputs": [
    {
     "data": {
      "text/plain": [
       "'raghul ramesh'"
      ]
     },
     "execution_count": 42,
     "metadata": {},
     "output_type": "execute_result"
    }
   ],
   "source": [
    "name.casefold()"
   ]
  },
  {
   "cell_type": "code",
   "execution_count": null,
   "id": "ca538c9f",
   "metadata": {},
   "outputs": [],
   "source": [
    "#'isalnum', 'isalpha', 'isascii', 'isdecimal', 'isdigit', 'isidentifier', 'islower', \n",
    "#'isnumeric', 'isprintable', 'isspace', 'istitle', 'isupper',"
   ]
  },
  {
   "cell_type": "code",
   "execution_count": 43,
   "id": "b74b9535",
   "metadata": {},
   "outputs": [],
   "source": [
    "city='chennai'"
   ]
  },
  {
   "cell_type": "code",
   "execution_count": 44,
   "id": "346d7352",
   "metadata": {},
   "outputs": [
    {
     "data": {
      "text/plain": [
       "True"
      ]
     },
     "execution_count": 44,
     "metadata": {},
     "output_type": "execute_result"
    }
   ],
   "source": [
    "city.islower()"
   ]
  },
  {
   "cell_type": "code",
   "execution_count": 45,
   "id": "bd228dfb",
   "metadata": {},
   "outputs": [
    {
     "data": {
      "text/plain": [
       "False"
      ]
     },
     "execution_count": 45,
     "metadata": {},
     "output_type": "execute_result"
    }
   ],
   "source": [
    "city.isupper()"
   ]
  },
  {
   "cell_type": "code",
   "execution_count": 46,
   "id": "207752b4",
   "metadata": {},
   "outputs": [
    {
     "data": {
      "text/plain": [
       "False"
      ]
     },
     "execution_count": 46,
     "metadata": {},
     "output_type": "execute_result"
    }
   ],
   "source": [
    "city.istitle()"
   ]
  },
  {
   "cell_type": "code",
   "execution_count": 47,
   "id": "4b010033",
   "metadata": {},
   "outputs": [
    {
     "data": {
      "text/plain": [
       "'Raghul Ramesh'"
      ]
     },
     "execution_count": 47,
     "metadata": {},
     "output_type": "execute_result"
    }
   ],
   "source": [
    "name"
   ]
  },
  {
   "cell_type": "code",
   "execution_count": 48,
   "id": "f358ea46",
   "metadata": {},
   "outputs": [
    {
     "data": {
      "text/plain": [
       "True"
      ]
     },
     "execution_count": 48,
     "metadata": {},
     "output_type": "execute_result"
    }
   ],
   "source": [
    "name.istitle()"
   ]
  },
  {
   "cell_type": "code",
   "execution_count": 49,
   "id": "987c682f",
   "metadata": {},
   "outputs": [
    {
     "data": {
      "text/plain": [
       "False"
      ]
     },
     "execution_count": 49,
     "metadata": {},
     "output_type": "execute_result"
    }
   ],
   "source": [
    "name.isspace()"
   ]
  },
  {
   "cell_type": "code",
   "execution_count": 50,
   "id": "278e8a33",
   "metadata": {},
   "outputs": [],
   "source": [
    "age=' '"
   ]
  },
  {
   "cell_type": "code",
   "execution_count": 51,
   "id": "a62f4d48",
   "metadata": {},
   "outputs": [
    {
     "data": {
      "text/plain": [
       "True"
      ]
     },
     "execution_count": 51,
     "metadata": {},
     "output_type": "execute_result"
    }
   ],
   "source": [
    "age.isspace()"
   ]
  },
  {
   "cell_type": "code",
   "execution_count": 52,
   "id": "afe430fb",
   "metadata": {},
   "outputs": [],
   "source": [
    "age='37'"
   ]
  },
  {
   "cell_type": "code",
   "execution_count": 53,
   "id": "d5815e88",
   "metadata": {},
   "outputs": [
    {
     "data": {
      "text/plain": [
       "True"
      ]
     },
     "execution_count": 53,
     "metadata": {},
     "output_type": "execute_result"
    }
   ],
   "source": [
    "age.isnumeric()"
   ]
  },
  {
   "cell_type": "code",
   "execution_count": 55,
   "id": "62c1427f",
   "metadata": {},
   "outputs": [
    {
     "data": {
      "text/plain": [
       "True"
      ]
     },
     "execution_count": 55,
     "metadata": {},
     "output_type": "execute_result"
    }
   ],
   "source": [
    "city.isalpha()"
   ]
  },
  {
   "cell_type": "code",
   "execution_count": 56,
   "id": "2a9e1d42",
   "metadata": {},
   "outputs": [],
   "source": [
    "emp='SC148372'"
   ]
  },
  {
   "cell_type": "code",
   "execution_count": 57,
   "id": "edf00c8d",
   "metadata": {},
   "outputs": [
    {
     "data": {
      "text/plain": [
       "True"
      ]
     },
     "execution_count": 57,
     "metadata": {},
     "output_type": "execute_result"
    }
   ],
   "source": [
    "emp.isalnum()"
   ]
  },
  {
   "cell_type": "code",
   "execution_count": 58,
   "id": "e731dd62",
   "metadata": {},
   "outputs": [],
   "source": [
    "# center, ljust , rjust"
   ]
  },
  {
   "cell_type": "code",
   "execution_count": 59,
   "id": "7b680dde",
   "metadata": {},
   "outputs": [
    {
     "data": {
      "text/plain": [
       "'Raghul Ramesh'"
      ]
     },
     "execution_count": 59,
     "metadata": {},
     "output_type": "execute_result"
    }
   ],
   "source": [
    "name"
   ]
  },
  {
   "cell_type": "code",
   "execution_count": 60,
   "id": "7de4a8fa",
   "metadata": {},
   "outputs": [
    {
     "data": {
      "text/plain": [
       "'                  Raghul Ramesh                   '"
      ]
     },
     "execution_count": 60,
     "metadata": {},
     "output_type": "execute_result"
    }
   ],
   "source": [
    "name.center(50)"
   ]
  },
  {
   "cell_type": "code",
   "execution_count": 61,
   "id": "994a59a4",
   "metadata": {},
   "outputs": [
    {
     "data": {
      "text/plain": [
       "'******************Raghul Ramesh*******************'"
      ]
     },
     "execution_count": 61,
     "metadata": {},
     "output_type": "execute_result"
    }
   ],
   "source": [
    "name.center(50,'*')"
   ]
  },
  {
   "cell_type": "code",
   "execution_count": 62,
   "id": "9cce6430",
   "metadata": {},
   "outputs": [
    {
     "data": {
      "text/plain": [
       "'------------------Raghul Ramesh-------------------'"
      ]
     },
     "execution_count": 62,
     "metadata": {},
     "output_type": "execute_result"
    }
   ],
   "source": [
    "name.center(50,'-')"
   ]
  },
  {
   "cell_type": "code",
   "execution_count": 63,
   "id": "715f25cf",
   "metadata": {},
   "outputs": [
    {
     "data": {
      "text/plain": [
       "'..................Raghul Ramesh...................'"
      ]
     },
     "execution_count": 63,
     "metadata": {},
     "output_type": "execute_result"
    }
   ],
   "source": [
    "name.center(50,'.')"
   ]
  },
  {
   "cell_type": "code",
   "execution_count": 64,
   "id": "fe57f880",
   "metadata": {},
   "outputs": [
    {
     "data": {
      "text/plain": [
       "'Raghul Ramesh                                     '"
      ]
     },
     "execution_count": 64,
     "metadata": {},
     "output_type": "execute_result"
    }
   ],
   "source": [
    "name.ljust(50)"
   ]
  },
  {
   "cell_type": "code",
   "execution_count": 65,
   "id": "511ebb42",
   "metadata": {},
   "outputs": [
    {
     "data": {
      "text/plain": [
       "'Raghul Ramesh_____________________________________'"
      ]
     },
     "execution_count": 65,
     "metadata": {},
     "output_type": "execute_result"
    }
   ],
   "source": [
    "name.ljust(50,'_')"
   ]
  },
  {
   "cell_type": "code",
   "execution_count": 68,
   "id": "25300b2a",
   "metadata": {},
   "outputs": [
    {
     "data": {
      "text/plain": [
       "'                                     Raghul Ramesh'"
      ]
     },
     "execution_count": 68,
     "metadata": {},
     "output_type": "execute_result"
    }
   ],
   "source": [
    "name.rjust(50)"
   ]
  },
  {
   "cell_type": "code",
   "execution_count": 69,
   "id": "75d75f69",
   "metadata": {},
   "outputs": [
    {
     "data": {
      "text/plain": [
       "'~~~~~~~~~~~~~~~~~~~~~~~~~~~~~~~~~~~~~Raghul Ramesh'"
      ]
     },
     "execution_count": 69,
     "metadata": {},
     "output_type": "execute_result"
    }
   ],
   "source": [
    "name.rjust(50,'~')"
   ]
  },
  {
   "cell_type": "code",
   "execution_count": 70,
   "id": "924770f7",
   "metadata": {},
   "outputs": [],
   "source": [
    "# index , fine"
   ]
  },
  {
   "cell_type": "code",
   "execution_count": 71,
   "id": "25432346",
   "metadata": {},
   "outputs": [
    {
     "data": {
      "text/plain": [
       "'Raghul Ramesh'"
      ]
     },
     "execution_count": 71,
     "metadata": {},
     "output_type": "execute_result"
    }
   ],
   "source": [
    "name"
   ]
  },
  {
   "cell_type": "code",
   "execution_count": 72,
   "id": "1466c445",
   "metadata": {},
   "outputs": [
    {
     "data": {
      "text/plain": [
       "1"
      ]
     },
     "execution_count": 72,
     "metadata": {},
     "output_type": "execute_result"
    }
   ],
   "source": [
    "name.index('a')"
   ]
  },
  {
   "cell_type": "code",
   "execution_count": 74,
   "id": "5b39a2e7",
   "metadata": {},
   "outputs": [
    {
     "data": {
      "text/plain": [
       "8"
      ]
     },
     "execution_count": 74,
     "metadata": {},
     "output_type": "execute_result"
    }
   ],
   "source": [
    "name.rindex('a')"
   ]
  },
  {
   "cell_type": "code",
   "execution_count": 91,
   "id": "fb520eea",
   "metadata": {},
   "outputs": [],
   "source": [
    "name=\"Ram Raj Rakesh\""
   ]
  },
  {
   "cell_type": "code",
   "execution_count": 92,
   "id": "c408ae7c",
   "metadata": {},
   "outputs": [
    {
     "data": {
      "text/plain": [
       "3"
      ]
     },
     "execution_count": 92,
     "metadata": {},
     "output_type": "execute_result"
    }
   ],
   "source": [
    "name.count('a')"
   ]
  },
  {
   "cell_type": "code",
   "execution_count": 83,
   "id": "cb113a50",
   "metadata": {},
   "outputs": [
    {
     "data": {
      "text/plain": [
       "1"
      ]
     },
     "execution_count": 83,
     "metadata": {},
     "output_type": "execute_result"
    }
   ],
   "source": [
    "name.index('a')"
   ]
  },
  {
   "cell_type": "code",
   "execution_count": 84,
   "id": "2a51e039",
   "metadata": {},
   "outputs": [
    {
     "data": {
      "text/plain": [
       "9"
      ]
     },
     "execution_count": 84,
     "metadata": {},
     "output_type": "execute_result"
    }
   ],
   "source": [
    "name.rindex('a')"
   ]
  },
  {
   "cell_type": "code",
   "execution_count": 85,
   "id": "7c20ab47",
   "metadata": {},
   "outputs": [
    {
     "data": {
      "text/plain": [
       "5"
      ]
     },
     "execution_count": 85,
     "metadata": {},
     "output_type": "execute_result"
    }
   ],
   "source": [
    "name.index('a',2)"
   ]
  },
  {
   "cell_type": "code",
   "execution_count": 86,
   "id": "3145f8fc",
   "metadata": {},
   "outputs": [
    {
     "data": {
      "text/plain": [
       "9"
      ]
     },
     "execution_count": 86,
     "metadata": {},
     "output_type": "execute_result"
    }
   ],
   "source": [
    "name.index('a',6)"
   ]
  },
  {
   "cell_type": "code",
   "execution_count": 87,
   "id": "1744bc7d",
   "metadata": {},
   "outputs": [],
   "source": [
    "name='Raghul Ramesh'"
   ]
  },
  {
   "cell_type": "code",
   "execution_count": 88,
   "id": "14d5f86f",
   "metadata": {},
   "outputs": [
    {
     "data": {
      "text/plain": [
       "7"
      ]
     },
     "execution_count": 88,
     "metadata": {},
     "output_type": "execute_result"
    }
   ],
   "source": [
    "name.index('Ramesh')"
   ]
  },
  {
   "cell_type": "code",
   "execution_count": 89,
   "id": "f8d8bffa",
   "metadata": {},
   "outputs": [
    {
     "ename": "ValueError",
     "evalue": "substring not found",
     "output_type": "error",
     "traceback": [
      "\u001b[1;31m---------------------------------------------------------------------------\u001b[0m",
      "\u001b[1;31mValueError\u001b[0m                                Traceback (most recent call last)",
      "Input \u001b[1;32mIn [89]\u001b[0m, in \u001b[0;36m<cell line: 1>\u001b[1;34m()\u001b[0m\n\u001b[1;32m----> 1\u001b[0m \u001b[43mname\u001b[49m\u001b[38;5;241;43m.\u001b[39;49m\u001b[43mindex\u001b[49m\u001b[43m(\u001b[49m\u001b[38;5;124;43m'\u001b[39;49m\u001b[38;5;124;43mz\u001b[39;49m\u001b[38;5;124;43m'\u001b[39;49m\u001b[43m)\u001b[49m\n",
      "\u001b[1;31mValueError\u001b[0m: substring not found"
     ]
    }
   ],
   "source": [
    "name.index('z')"
   ]
  },
  {
   "cell_type": "code",
   "execution_count": 90,
   "id": "c26bc1f5",
   "metadata": {},
   "outputs": [
    {
     "data": {
      "text/plain": [
       "2"
      ]
     },
     "execution_count": 90,
     "metadata": {},
     "output_type": "execute_result"
    }
   ],
   "source": [
    "name.count('a')"
   ]
  },
  {
   "cell_type": "code",
   "execution_count": 101,
   "id": "ef278bde",
   "metadata": {},
   "outputs": [],
   "source": [
    "name='Raghul Ramesh'"
   ]
  },
  {
   "cell_type": "code",
   "execution_count": 102,
   "id": "01051907",
   "metadata": {},
   "outputs": [
    {
     "data": {
      "text/plain": [
       "1"
      ]
     },
     "execution_count": 102,
     "metadata": {},
     "output_type": "execute_result"
    }
   ],
   "source": [
    "name.find('a')"
   ]
  },
  {
   "cell_type": "code",
   "execution_count": 103,
   "id": "a204974f",
   "metadata": {},
   "outputs": [
    {
     "data": {
      "text/plain": [
       "8"
      ]
     },
     "execution_count": 103,
     "metadata": {},
     "output_type": "execute_result"
    }
   ],
   "source": [
    "name.rfind('a')"
   ]
  },
  {
   "cell_type": "code",
   "execution_count": 104,
   "id": "076f54c4",
   "metadata": {},
   "outputs": [
    {
     "data": {
      "text/plain": [
       "-1"
      ]
     },
     "execution_count": 104,
     "metadata": {},
     "output_type": "execute_result"
    }
   ],
   "source": [
    "name.find('z')"
   ]
  },
  {
   "cell_type": "code",
   "execution_count": 121,
   "id": "93a5c6a7",
   "metadata": {},
   "outputs": [],
   "source": [
    "city='Chennai-Cochin-Bangalore-_Hyderabad-Pune-Mumbai-Kolkatta-Delhi'"
   ]
  },
  {
   "cell_type": "code",
   "execution_count": 108,
   "id": "15e89bce",
   "metadata": {},
   "outputs": [
    {
     "name": "stdout",
     "output_type": "stream",
     "text": [
      "['Chennai', 'Cochin', 'Bangalore', 'Hyderabad', 'Pune', 'Mumbai', 'Kolkatta', 'Delhi']\n"
     ]
    }
   ],
   "source": [
    "print(city.split('-'))"
   ]
  },
  {
   "cell_type": "code",
   "execution_count": 110,
   "id": "59e0f375",
   "metadata": {},
   "outputs": [
    {
     "data": {
      "text/plain": [
       "('Chennai', '-', 'Cochin-Bangalore-Hyderabad-Pune-Mumbai-Kolkatta-Delhi')"
      ]
     },
     "execution_count": 110,
     "metadata": {},
     "output_type": "execute_result"
    }
   ],
   "source": [
    "#partition\n",
    "city.partition('-')"
   ]
  },
  {
   "cell_type": "code",
   "execution_count": 111,
   "id": "4a30bc1b",
   "metadata": {},
   "outputs": [
    {
     "data": {
      "text/plain": [
       "('Chennai-Cochin-Bangalore-Hyderabad-Pune-Mumbai-Kolkatta', '-', 'Delhi')"
      ]
     },
     "execution_count": 111,
     "metadata": {},
     "output_type": "execute_result"
    }
   ],
   "source": [
    "city.rpartition('-')"
   ]
  },
  {
   "cell_type": "code",
   "execution_count": 122,
   "id": "74c44514",
   "metadata": {},
   "outputs": [
    {
     "data": {
      "text/plain": [
       "['Chennai-Cochin-Bangalore', 'Hyderabad-Pune-Mumbai-Kolkatta-Delhi']"
      ]
     },
     "execution_count": 122,
     "metadata": {},
     "output_type": "execute_result"
    }
   ],
   "source": [
    "city.split('-_')"
   ]
  },
  {
   "cell_type": "code",
   "execution_count": 115,
   "id": "b6cf75d6",
   "metadata": {},
   "outputs": [
    {
     "name": "stdout",
     "output_type": "stream",
     "text": [
      "Help on built-in function split:\n",
      "\n",
      "split(sep=None, maxsplit=-1) method of builtins.str instance\n",
      "    Return a list of the words in the string, using sep as the delimiter string.\n",
      "    \n",
      "    sep\n",
      "      The delimiter according which to split the string.\n",
      "      None (the default value) means split according to any whitespace,\n",
      "      and discard empty strings from the result.\n",
      "    maxsplit\n",
      "      Maximum number of splits to do.\n",
      "      -1 (the default value) means no limit.\n",
      "\n"
     ]
    }
   ],
   "source": [
    "help(city.split)"
   ]
  },
  {
   "cell_type": "code",
   "execution_count": 123,
   "id": "0ed61ff6",
   "metadata": {},
   "outputs": [],
   "source": [
    "# strip, lstrip, rstrip"
   ]
  },
  {
   "cell_type": "code",
   "execution_count": 124,
   "id": "c87d6e1b",
   "metadata": {},
   "outputs": [],
   "source": [
    "name=\"         Raghul Ramesh        \""
   ]
  },
  {
   "cell_type": "code",
   "execution_count": 125,
   "id": "fd8ec6a0",
   "metadata": {},
   "outputs": [
    {
     "data": {
      "text/plain": [
       "'         Raghul Ramesh        '"
      ]
     },
     "execution_count": 125,
     "metadata": {},
     "output_type": "execute_result"
    }
   ],
   "source": [
    "name"
   ]
  },
  {
   "cell_type": "code",
   "execution_count": 126,
   "id": "f9576734",
   "metadata": {},
   "outputs": [
    {
     "data": {
      "text/plain": [
       "'Raghul Ramesh'"
      ]
     },
     "execution_count": 126,
     "metadata": {},
     "output_type": "execute_result"
    }
   ],
   "source": [
    "name.strip()"
   ]
  },
  {
   "cell_type": "code",
   "execution_count": 127,
   "id": "c73011bf",
   "metadata": {},
   "outputs": [
    {
     "data": {
      "text/plain": [
       "'Raghul Ramesh        '"
      ]
     },
     "execution_count": 127,
     "metadata": {},
     "output_type": "execute_result"
    }
   ],
   "source": [
    "name.lstrip()"
   ]
  },
  {
   "cell_type": "code",
   "execution_count": 128,
   "id": "a7ae75af",
   "metadata": {},
   "outputs": [
    {
     "data": {
      "text/plain": [
       "'         Raghul Ramesh'"
      ]
     },
     "execution_count": 128,
     "metadata": {},
     "output_type": "execute_result"
    }
   ],
   "source": [
    "name.rstrip()"
   ]
  },
  {
   "cell_type": "code",
   "execution_count": 131,
   "id": "a745c923",
   "metadata": {},
   "outputs": [
    {
     "data": {
      "text/plain": [
       "'RaghulRamesh'"
      ]
     },
     "execution_count": 131,
     "metadata": {},
     "output_type": "execute_result"
    }
   ],
   "source": [
    "name.replace(' ','')"
   ]
  },
  {
   "cell_type": "code",
   "execution_count": null,
   "id": "88f6b2f3",
   "metadata": {},
   "outputs": [],
   "source": [
    "#ljust,rjust"
   ]
  },
  {
   "cell_type": "code",
   "execution_count": 135,
   "id": "b26504cc",
   "metadata": {},
   "outputs": [],
   "source": [
    "salary='5000000'"
   ]
  },
  {
   "cell_type": "code",
   "execution_count": 137,
   "id": "edfcd719",
   "metadata": {},
   "outputs": [
    {
     "data": {
      "text/plain": [
       "'5000000000'"
      ]
     },
     "execution_count": 137,
     "metadata": {},
     "output_type": "execute_result"
    }
   ],
   "source": [
    "salary.ljust(10,'0')"
   ]
  },
  {
   "cell_type": "code",
   "execution_count": 138,
   "id": "a8da250d",
   "metadata": {},
   "outputs": [
    {
     "data": {
      "text/plain": [
       "'0005000000'"
      ]
     },
     "execution_count": 138,
     "metadata": {},
     "output_type": "execute_result"
    }
   ],
   "source": [
    "salary.zfill(10)"
   ]
  },
  {
   "cell_type": "code",
   "execution_count": null,
   "id": "e6a502f3",
   "metadata": {},
   "outputs": [],
   "source": []
  },
  {
   "cell_type": "code",
   "execution_count": null,
   "id": "335b28cd",
   "metadata": {},
   "outputs": [],
   "source": []
  },
  {
   "cell_type": "code",
   "execution_count": 94,
   "id": "a2f96e39",
   "metadata": {},
   "outputs": [],
   "source": [
    "mystr='''\n",
    "Congress plans for a show of strength with a march to the Enforcement Directorate offices today with senior leader Rahul Gandhi, has received a jolt, with the Delhi police refusing to allow it. Permission was denied in view of the \"communal and law and order situation,\" the Delhi Police said.\n",
    "Congress sources said the party has approached the Delhi Police again, asking them to reconsider the decision.\n",
    "\n",
    "Mr Gandhi has been summoned to the offices of the Enforcement Directorate on Monday for questioning in the National Herald money laundering case.\n",
    "\n",
    "The Congress has planned a nationwide stir on the day. The workers in its state units are expected to hold protests outside the city offices of the agency.\n",
    "\n",
    "In Delhi, the party's MPs and other senior leaders are expected to hold a foot-march to the ED offices.'''"
   ]
  },
  {
   "cell_type": "code",
   "execution_count": 96,
   "id": "325009f2",
   "metadata": {},
   "outputs": [
    {
     "name": "stdout",
     "output_type": "stream",
     "text": [
      "the present in mystr at 17 number of occurances\n",
      "of present in mystr at 8 number of occurances\n",
      "a present in mystr at 50 number of occurances\n",
      "to present in mystr at 10 number of occurances\n",
      "or present in mystr at 10 number of occurances\n"
     ]
    }
   ],
   "source": [
    "words=['the','of','a','to','or']\n",
    "\n",
    "for each_word  in words:\n",
    "    print(\"{} present in {} at {} number of occurances\".format(each_word,'mystr',mystr.count(each_word)))"
   ]
  },
  {
   "cell_type": "code",
   "execution_count": 97,
   "id": "54f08b4b",
   "metadata": {},
   "outputs": [
    {
     "data": {
      "text/plain": [
       "17"
      ]
     },
     "execution_count": 97,
     "metadata": {},
     "output_type": "execute_result"
    }
   ],
   "source": [
    "mystr.count('the')"
   ]
  },
  {
   "cell_type": "code",
   "execution_count": 99,
   "id": "bc36f28f",
   "metadata": {},
   "outputs": [
    {
     "name": "stdout",
     "output_type": "stream",
     "text": [
      "state present in mystr at 1 number of occurances\n",
      "MPs present in mystr at 1 number of occurances\n",
      "outside present in mystr at 1 number of occurances\n",
      "summoned present in mystr at 1 number of occurances\n",
      "the present in mystr at 17 number of occurances\n",
      "National present in mystr at 1 number of occurances\n",
      "leaders present in mystr at 1 number of occurances\n",
      "allow present in mystr at 1 number of occurances\n",
      "leader present in mystr at 2 number of occurances\n",
      "police present in mystr at 1 number of occurances\n",
      "senior present in mystr at 2 number of occurances\n",
      "nationwide present in mystr at 1 number of occurances\n",
      "show present in mystr at 1 number of occurances\n",
      "Permission present in mystr at 1 number of occurances\n",
      "asking present in mystr at 1 number of occurances\n",
      "its present in mystr at 2 number of occurances\n",
      "workers present in mystr at 1 number of occurances\n",
      "city present in mystr at 1 number of occurances\n",
      "plans present in mystr at 1 number of occurances\n",
      "\n",
      "Congress present in mystr at 2 number of occurances\n",
      "questioning present in mystr at 1 number of occurances\n",
      "The present in mystr at 2 number of occurances\n",
      "again, present in mystr at 1 number of occurances\n",
      "on present in mystr at 15 number of occurances\n",
      "refusing present in mystr at 1 number of occurances\n",
      "march present in mystr at 2 number of occurances\n",
      "today present in mystr at 1 number of occurances\n",
      "been present in mystr at 1 number of occurances\n",
      "to present in mystr at 10 number of occurances\n",
      "money present in mystr at 1 number of occurances\n",
      "view present in mystr at 1 number of occurances\n",
      "said present in mystr at 2 number of occurances\n",
      "Delhi, present in mystr at 1 number of occurances\n",
      "has present in mystr at 4 number of occurances\n",
      "protests present in mystr at 1 number of occurances\n",
      "order present in mystr at 1 number of occurances\n",
      "for present in mystr at 4 number of occurances\n",
      "it. present in mystr at 1 number of occurances\n",
      "stir present in mystr at 1 number of occurances\n",
      "sources present in mystr at 1 number of occurances\n",
      "with present in mystr at 3 number of occurances\n",
      "agency.\n",
      "\n",
      "In present in mystr at 1 number of occurances\n",
      "Police present in mystr at 2 number of occurances\n",
      "expected present in mystr at 2 number of occurances\n",
      "Enforcement present in mystr at 2 number of occurances\n",
      "Delhi present in mystr at 4 number of occurances\n",
      "planned present in mystr at 1 number of occurances\n",
      "are present in mystr at 2 number of occurances\n",
      "a present in mystr at 50 number of occurances\n",
      "strength present in mystr at 1 number of occurances\n",
      "law present in mystr at 1 number of occurances\n",
      "Gandhi present in mystr at 2 number of occurances\n",
      "reconsider present in mystr at 1 number of occurances\n",
      "party present in mystr at 2 number of occurances\n",
      "of present in mystr at 8 number of occurances\n",
      "Gandhi, present in mystr at 1 number of occurances\n",
      "situation,\" present in mystr at 1 number of occurances\n",
      "Congress present in mystr at 3 number of occurances\n",
      "decision.\n",
      "\n",
      "Mr present in mystr at 1 number of occurances\n",
      "Rahul present in mystr at 1 number of occurances\n",
      "other present in mystr at 1 number of occurances\n",
      "denied present in mystr at 1 number of occurances\n",
      "Monday present in mystr at 1 number of occurances\n",
      "received present in mystr at 1 number of occurances\n",
      "laundering present in mystr at 1 number of occurances\n",
      "was present in mystr at 1 number of occurances\n",
      "units present in mystr at 1 number of occurances\n",
      "foot-march present in mystr at 1 number of occurances\n",
      "approached present in mystr at 1 number of occurances\n",
      "Herald present in mystr at 1 number of occurances\n",
      "them present in mystr at 1 number of occurances\n",
      "and present in mystr at 5 number of occurances\n",
      "case.\n",
      "\n",
      "The present in mystr at 1 number of occurances\n",
      "hold present in mystr at 2 number of occurances\n",
      "jolt, present in mystr at 1 number of occurances\n",
      "in present in mystr at 8 number of occurances\n",
      "offices. present in mystr at 1 number of occurances\n",
      "said.\n",
      "Congress present in mystr at 1 number of occurances\n",
      "day. present in mystr at 1 number of occurances\n",
      "\"communal present in mystr at 1 number of occurances\n",
      "Directorate present in mystr at 2 number of occurances\n",
      "ED present in mystr at 1 number of occurances\n",
      "party's present in mystr at 1 number of occurances\n",
      "offices present in mystr at 4 number of occurances\n"
     ]
    }
   ],
   "source": [
    "words=set(mystr.split(' '))\n",
    "\n",
    "for each_word  in words:\n",
    "    print(\"{} present in {} at {} number of occurances\".format(each_word,'mystr',mystr.count(each_word)))"
   ]
  },
  {
   "cell_type": "code",
   "execution_count": 140,
   "id": "638a9cce",
   "metadata": {},
   "outputs": [],
   "source": [
    "mylist=['Congress plans for a show of strength with a march to the Enforcement Directorate offices today with senior leader Rahul Gandhi, has received a jolt, with the Delhi police refusing to allow it. Permission was denied in view of the \"communal and law and order situation,\" the Delhi Police said.',\n",
    "        'Congress sources said the party has approached the Delhi Police again, asking them to reconsider the decision.']"
   ]
  },
  {
   "cell_type": "code",
   "execution_count": 147,
   "id": "d217d3a8",
   "metadata": {},
   "outputs": [
    {
     "name": "stdout",
     "output_type": "stream",
     "text": [
      "Word:denied is present 1 times\n",
      "Word:sources is present 1 times\n",
      "Word:received is present 1 times\n",
      "Word:with is present 3 times\n",
      "Word:again, is present 1 times\n",
      "Word:was is present 1 times\n",
      "Word:the is present 8 times\n",
      "Word:said. is present 1 times\n",
      "Word:Police is present 2 times\n",
      "Word:allow is present 1 times\n",
      "Word:leader is present 1 times\n",
      "Word:approached is present 1 times\n",
      "Word:refusing is present 1 times\n",
      "Word:them is present 1 times\n",
      "Word:and is present 3 times\n",
      "Word:march is present 1 times\n",
      "Word:police is present 1 times\n",
      "Word:Enforcement is present 1 times\n",
      "Word:senior is present 1 times\n",
      "Word:Delhi is present 3 times\n",
      "Word:decision. is present 1 times\n",
      "Word:show is present 1 times\n",
      "Word:jolt, is present 1 times\n",
      "Word:Permission is present 1 times\n",
      "Word:in is present 4 times\n",
      "Word:asking is present 1 times\n",
      "Word:today is present 1 times\n",
      "Word:to is present 5 times\n",
      "Word:a is present 27 times\n",
      "Word:strength is present 1 times\n",
      "Word:law is present 1 times\n",
      "Word:plans is present 1 times\n",
      "Word:view is present 1 times\n",
      "Word:reconsider is present 1 times\n",
      "Word:\"communal is present 1 times\n",
      "Word:said is present 2 times\n",
      "Word:of is present 3 times\n",
      "Word:Directorate is present 1 times\n",
      "Word:Gandhi, is present 1 times\n",
      "Word:Congress is present 2 times\n",
      "Word:situation,\" is present 1 times\n",
      "Word:party is present 1 times\n",
      "Word:has is present 2 times\n",
      "Word:Rahul is present 1 times\n",
      "Word:order is present 1 times\n",
      "Word:for is present 2 times\n",
      "Word:it. is present 1 times\n",
      "Word:offices is present 1 times\n"
     ]
    }
   ],
   "source": [
    "data=list(set(' '.join(mylist).split(' ')))\n",
    "mydata=' '.join(mylist)\n",
    "for x in data:\n",
    "    print(\"Word:{} is present {} times\".format(x,mydata.count(x)))   #regex (\\ba\\b)"
   ]
  },
  {
   "cell_type": "code",
   "execution_count": 161,
   "id": "63fd5fc1",
   "metadata": {},
   "outputs": [],
   "source": [
    "text='Delhi is the capital of India, Delhi is poluted city and Delhi is the richest city'"
   ]
  },
  {
   "cell_type": "code",
   "execution_count": 162,
   "id": "35b5e646",
   "metadata": {},
   "outputs": [],
   "source": [
    "words=list(set(text.split(' ')))\n",
    "for x in words:\n",
    "    cnt=text.count(x)\n",
    "    if text.count(x)>1:\n",
    "        text=text.replace(x,'',cnt-1)"
   ]
  },
  {
   "cell_type": "code",
   "execution_count": 163,
   "id": "0518a1cc",
   "metadata": {},
   "outputs": [
    {
     "data": {
      "text/plain": [
       "'   capital of India,   poluted  and Delhi is the richest city'"
      ]
     },
     "execution_count": 163,
     "metadata": {},
     "output_type": "execute_result"
    }
   ],
   "source": [
    "text"
   ]
  },
  {
   "cell_type": "code",
   "execution_count": 164,
   "id": "b112a74d",
   "metadata": {},
   "outputs": [],
   "source": [
    "text='Delhi is the capital of India, Delhi is poluted city and Delhi is the richest city'"
   ]
  },
  {
   "cell_type": "code",
   "execution_count": 166,
   "id": "56303a8b",
   "metadata": {},
   "outputs": [
    {
     "name": "stdout",
     "output_type": "stream",
     "text": [
      "['Delhi', 'is', 'the', 'capital', 'of', 'India,', 'Delhi', 'is', 'poluted', 'city', 'and', 'Delhi', 'is', 'the', 'richest', 'city']\n"
     ]
    }
   ],
   "source": [
    "print(text.split(' '))"
   ]
  },
  {
   "cell_type": "code",
   "execution_count": 169,
   "id": "c70b5788",
   "metadata": {},
   "outputs": [
    {
     "name": "stdout",
     "output_type": "stream",
     "text": [
      "['city', 'richest', 'of', 'poluted', 'capital', 'and', 'Delhi', 'is', 'India,', 'the']\n"
     ]
    }
   ],
   "source": [
    "print(list(set(text.split(' '))))"
   ]
  },
  {
   "cell_type": "code",
   "execution_count": 5,
   "id": "1726b934",
   "metadata": {},
   "outputs": [],
   "source": [
    "data=\"The covid cases are high in india but india reported as very less or none\""
   ]
  },
  {
   "cell_type": "code",
   "execution_count": 3,
   "id": "1ba08f0a",
   "metadata": {},
   "outputs": [
    {
     "data": {
      "text/plain": [
       "'The covid cases are high in india but reported as very high or more'"
      ]
     },
     "execution_count": 3,
     "metadata": {},
     "output_type": "execute_result"
    }
   ],
   "source": [
    "data.replace('less','high').replace('none','more')"
   ]
  },
  {
   "cell_type": "code",
   "execution_count": 4,
   "id": "077355a3",
   "metadata": {},
   "outputs": [
    {
     "data": {
      "text/plain": [
       "'The covid cases are high in india but reported as very less or none'"
      ]
     },
     "execution_count": 4,
     "metadata": {},
     "output_type": "execute_result"
    }
   ],
   "source": [
    "data"
   ]
  },
  {
   "cell_type": "code",
   "execution_count": 6,
   "id": "c9308d9c",
   "metadata": {},
   "outputs": [
    {
     "data": {
      "text/plain": [
       "'The covid cases are high in china but china reported as very less or none'"
      ]
     },
     "execution_count": 6,
     "metadata": {},
     "output_type": "execute_result"
    }
   ],
   "source": [
    "data.replace(\"india\",\"china\")"
   ]
  },
  {
   "cell_type": "code",
   "execution_count": 7,
   "id": "e45717a3",
   "metadata": {},
   "outputs": [
    {
     "data": {
      "text/plain": [
       "'The covid cases are high in china but india reported as very less or none'"
      ]
     },
     "execution_count": 7,
     "metadata": {},
     "output_type": "execute_result"
    }
   ],
   "source": [
    "data.replace(\"india\",\"china\",1)"
   ]
  },
  {
   "cell_type": "code",
   "execution_count": 8,
   "id": "1147faed",
   "metadata": {},
   "outputs": [
    {
     "data": {
      "text/plain": [
       "'The covid cases are high in china but china reported as very less or none'"
      ]
     },
     "execution_count": 8,
     "metadata": {},
     "output_type": "execute_result"
    }
   ],
   "source": [
    "data.replace(\"india\",\"china\",2)"
   ]
  },
  {
   "cell_type": "code",
   "execution_count": 9,
   "id": "ea35b8ac",
   "metadata": {},
   "outputs": [
    {
     "data": {
      "text/plain": [
       "'The covid cases are high in india but india reported as very less or none'"
      ]
     },
     "execution_count": 9,
     "metadata": {},
     "output_type": "execute_result"
    }
   ],
   "source": [
    "data"
   ]
  },
  {
   "cell_type": "code",
   "execution_count": 10,
   "id": "95dc35b4",
   "metadata": {},
   "outputs": [],
   "source": [
    "company=\"W!#a$l%m^&a(*r_+t\""
   ]
  },
  {
   "cell_type": "code",
   "execution_count": 11,
   "id": "53739161",
   "metadata": {},
   "outputs": [
    {
     "data": {
      "text/plain": [
       "'W!#a$l%m^&a(*r_+t'"
      ]
     },
     "execution_count": 11,
     "metadata": {},
     "output_type": "execute_result"
    }
   ],
   "source": [
    "company"
   ]
  },
  {
   "cell_type": "code",
   "execution_count": 18,
   "id": "d36eaabe",
   "metadata": {},
   "outputs": [
    {
     "data": {
      "text/plain": [
       "'Walmart'"
      ]
     },
     "execution_count": 18,
     "metadata": {},
     "output_type": "execute_result"
    }
   ],
   "source": [
    "company.replace('!','').replace('#','').replace('$','').replace('&','').replace('%','').\\\n",
    "replace('^','').replace('(','').replace('*','').replace('_','').replace('+','')"
   ]
  },
  {
   "cell_type": "code",
   "execution_count": 29,
   "id": "e9c18642",
   "metadata": {},
   "outputs": [
    {
     "data": {
      "text/plain": [
       "'Walmart'"
      ]
     },
     "execution_count": 29,
     "metadata": {},
     "output_type": "execute_result"
    }
   ],
   "source": [
    "company.translate({126: None,\n",
    " 33: None,\n",
    " 64: None,\n",
    " 35: None,\n",
    " 36: None,\n",
    " 37: None,\n",
    " 94: None,\n",
    " 38: None,\n",
    " 42: None,\n",
    " 40: None,\n",
    " 41: None,\n",
    " 95: None,\n",
    " 43: None,\n",
    " 123: None,\n",
    " 125: None,\n",
    " 124: None})"
   ]
  },
  {
   "cell_type": "code",
   "execution_count": 26,
   "id": "5d1c273a",
   "metadata": {},
   "outputs": [
    {
     "data": {
      "text/plain": [
       "36"
      ]
     },
     "execution_count": 26,
     "metadata": {},
     "output_type": "execute_result"
    }
   ],
   "source": [
    "ord('$')"
   ]
  },
  {
   "cell_type": "code",
   "execution_count": 28,
   "id": "511ba457",
   "metadata": {},
   "outputs": [
    {
     "data": {
      "text/plain": [
       "{126: 32,\n",
       " 33: 32,\n",
       " 64: 32,\n",
       " 35: 32,\n",
       " 36: 32,\n",
       " 37: 32,\n",
       " 94: 32,\n",
       " 38: 32,\n",
       " 42: 32,\n",
       " 40: 32,\n",
       " 41: 32,\n",
       " 95: 32,\n",
       " 43: 32,\n",
       " 123: 32,\n",
       " 125: 32,\n",
       " 124: 32}"
      ]
     },
     "execution_count": 28,
     "metadata": {},
     "output_type": "execute_result"
    }
   ],
   "source": [
    "company.maketrans('~!@#$%^&*()_+{}|','                ')"
   ]
  },
  {
   "cell_type": "code",
   "execution_count": 32,
   "id": "2c21be17",
   "metadata": {},
   "outputs": [],
   "source": [
    "chg=data.maketrans('abcde','ABCDE')"
   ]
  },
  {
   "cell_type": "code",
   "execution_count": 33,
   "id": "92195d1b",
   "metadata": {},
   "outputs": [
    {
     "data": {
      "text/plain": [
       "'ThE CoviD CAsEs ArE high in inDiA But inDiA rEportED As vEry lEss or nonE'"
      ]
     },
     "execution_count": 33,
     "metadata": {},
     "output_type": "execute_result"
    }
   ],
   "source": [
    "data.translate(chg)"
   ]
  },
  {
   "cell_type": "code",
   "execution_count": 34,
   "id": "cd192151",
   "metadata": {},
   "outputs": [
    {
     "data": {
      "text/plain": [
       "97"
      ]
     },
     "execution_count": 34,
     "metadata": {},
     "output_type": "execute_result"
    }
   ],
   "source": [
    "ord('a')"
   ]
  },
  {
   "cell_type": "code",
   "execution_count": 36,
   "id": "4aac8145",
   "metadata": {},
   "outputs": [
    {
     "data": {
      "text/plain": [
       "64"
      ]
     },
     "execution_count": 36,
     "metadata": {},
     "output_type": "execute_result"
    }
   ],
   "source": [
    "ord('@')"
   ]
  },
  {
   "cell_type": "code",
   "execution_count": 38,
   "id": "2246c1f5",
   "metadata": {},
   "outputs": [],
   "source": [
    "x=data.maketrans(\"india\",\"china\")"
   ]
  },
  {
   "cell_type": "code",
   "execution_count": 39,
   "id": "3c7865f1",
   "metadata": {},
   "outputs": [
    {
     "data": {
      "text/plain": [
       "'The covni cases are hngh nh nhina but nhina reportei as very less or hohe'"
      ]
     },
     "execution_count": 39,
     "metadata": {},
     "output_type": "execute_result"
    }
   ],
   "source": [
    "data.translate(x)"
   ]
  },
  {
   "cell_type": "code",
   "execution_count": 40,
   "id": "0a5996a7",
   "metadata": {},
   "outputs": [
    {
     "name": "stdout",
     "output_type": "stream",
     "text": [
      "Help on built-in function maketrans:\n",
      "\n",
      "maketrans(...)\n",
      "    Return a translation table usable for str.translate().\n",
      "    \n",
      "    If there is only one argument, it must be a dictionary mapping Unicode\n",
      "    ordinals (integers) or characters to Unicode ordinals, strings or None.\n",
      "    Character keys will be then converted to ordinals.\n",
      "    If there are two arguments, they must be strings of equal length, and\n",
      "    in the resulting dictionary, each character in x will be mapped to the\n",
      "    character at the same position in y. If there is a third argument, it\n",
      "    must be a string, whose characters will be mapped to None in the result.\n",
      "\n"
     ]
    }
   ],
   "source": [
    "help(company.maketrans)"
   ]
  },
  {
   "cell_type": "markdown",
   "id": "8a263436",
   "metadata": {},
   "source": [
    "# LIST (Mutable Object)"
   ]
  },
  {
   "cell_type": "code",
   "execution_count": 41,
   "id": "c41d5326",
   "metadata": {},
   "outputs": [],
   "source": [
    "#Create a list\n",
    "\n",
    "mylist=[]"
   ]
  },
  {
   "cell_type": "code",
   "execution_count": 42,
   "id": "a9f6af7c",
   "metadata": {},
   "outputs": [
    {
     "data": {
      "text/plain": [
       "list"
      ]
     },
     "execution_count": 42,
     "metadata": {},
     "output_type": "execute_result"
    }
   ],
   "source": [
    "type(mylist)"
   ]
  },
  {
   "cell_type": "code",
   "execution_count": 43,
   "id": "b3d470ba",
   "metadata": {},
   "outputs": [],
   "source": [
    "list2=list()"
   ]
  },
  {
   "cell_type": "code",
   "execution_count": 44,
   "id": "e27cea2e",
   "metadata": {},
   "outputs": [
    {
     "data": {
      "text/plain": [
       "list"
      ]
     },
     "execution_count": 44,
     "metadata": {},
     "output_type": "execute_result"
    }
   ],
   "source": [
    "type(list2)"
   ]
  },
  {
   "cell_type": "code",
   "execution_count": 45,
   "id": "bb696e58",
   "metadata": {},
   "outputs": [],
   "source": [
    "info=['Tuesday','June',2022,'Python',False, 10.55]"
   ]
  },
  {
   "cell_type": "code",
   "execution_count": 46,
   "id": "d3054f40",
   "metadata": {},
   "outputs": [
    {
     "data": {
      "text/plain": [
       "list"
      ]
     },
     "execution_count": 46,
     "metadata": {},
     "output_type": "execute_result"
    }
   ],
   "source": [
    "type(info)"
   ]
  },
  {
   "cell_type": "code",
   "execution_count": 47,
   "id": "6b071d94",
   "metadata": {},
   "outputs": [
    {
     "data": {
      "text/plain": [
       "6"
      ]
     },
     "execution_count": 47,
     "metadata": {},
     "output_type": "execute_result"
    }
   ],
   "source": [
    "len(info)"
   ]
  },
  {
   "cell_type": "code",
   "execution_count": 48,
   "id": "3680c318",
   "metadata": {},
   "outputs": [
    {
     "data": {
      "text/plain": [
       "True"
      ]
     },
     "execution_count": 48,
     "metadata": {},
     "output_type": "execute_result"
    }
   ],
   "source": [
    "'Python' in info"
   ]
  },
  {
   "cell_type": "code",
   "execution_count": 49,
   "id": "cdec9521",
   "metadata": {},
   "outputs": [
    {
     "data": {
      "text/plain": [
       "False"
      ]
     },
     "execution_count": 49,
     "metadata": {},
     "output_type": "execute_result"
    }
   ],
   "source": [
    "'ExcelR' in info"
   ]
  },
  {
   "cell_type": "code",
   "execution_count": 50,
   "id": "64acd712",
   "metadata": {},
   "outputs": [],
   "source": [
    "nums=[1,4,8,5,12,16,6]"
   ]
  },
  {
   "cell_type": "code",
   "execution_count": 51,
   "id": "652ffae6",
   "metadata": {},
   "outputs": [
    {
     "data": {
      "text/plain": [
       "7"
      ]
     },
     "execution_count": 51,
     "metadata": {},
     "output_type": "execute_result"
    }
   ],
   "source": [
    "len(nums)"
   ]
  },
  {
   "cell_type": "code",
   "execution_count": 52,
   "id": "3c035c1d",
   "metadata": {},
   "outputs": [
    {
     "data": {
      "text/plain": [
       "1"
      ]
     },
     "execution_count": 52,
     "metadata": {},
     "output_type": "execute_result"
    }
   ],
   "source": [
    "min(nums)"
   ]
  },
  {
   "cell_type": "code",
   "execution_count": 53,
   "id": "610181c7",
   "metadata": {},
   "outputs": [
    {
     "data": {
      "text/plain": [
       "16"
      ]
     },
     "execution_count": 53,
     "metadata": {},
     "output_type": "execute_result"
    }
   ],
   "source": [
    "max(nums)"
   ]
  },
  {
   "cell_type": "code",
   "execution_count": 54,
   "id": "6500f562",
   "metadata": {},
   "outputs": [
    {
     "data": {
      "text/plain": [
       "52"
      ]
     },
     "execution_count": 54,
     "metadata": {},
     "output_type": "execute_result"
    }
   ],
   "source": [
    "sum(nums)"
   ]
  },
  {
   "cell_type": "code",
   "execution_count": 55,
   "id": "d05bcedb",
   "metadata": {},
   "outputs": [
    {
     "data": {
      "text/plain": [
       "7.428571428571429"
      ]
     },
     "execution_count": 55,
     "metadata": {},
     "output_type": "execute_result"
    }
   ],
   "source": [
    "sum(nums)/len(nums)"
   ]
  },
  {
   "cell_type": "code",
   "execution_count": 56,
   "id": "fae4cb9c",
   "metadata": {},
   "outputs": [],
   "source": [
    "nums=[1,2,3,4,5]"
   ]
  },
  {
   "cell_type": "code",
   "execution_count": 57,
   "id": "71128071",
   "metadata": {},
   "outputs": [
    {
     "name": "stdout",
     "output_type": "stream",
     "text": [
      "['__add__', '__class__', '__contains__', '__delattr__', '__delitem__', '__dir__', '__doc__', '__eq__', '__format__', '__ge__', '__getattribute__', '__getitem__', '__gt__', '__hash__', '__iadd__', '__imul__', '__init__', '__init_subclass__', '__iter__', '__le__', '__len__', '__lt__', '__mul__', '__ne__', '__new__', '__reduce__', '__reduce_ex__', '__repr__', '__reversed__', '__rmul__', '__setattr__', '__setitem__', '__sizeof__', '__str__', '__subclasshook__', 'append', 'clear', 'copy', 'count', 'extend', 'index', 'insert', 'pop', 'remove', 'reverse', 'sort']\n"
     ]
    }
   ],
   "source": [
    "print(dir(nums))"
   ]
  },
  {
   "cell_type": "code",
   "execution_count": 58,
   "id": "b71694d5",
   "metadata": {},
   "outputs": [
    {
     "data": {
      "text/plain": [
       "[1, 2, 3, 4, 5]"
      ]
     },
     "execution_count": 58,
     "metadata": {},
     "output_type": "execute_result"
    }
   ],
   "source": [
    "nums"
   ]
  },
  {
   "cell_type": "code",
   "execution_count": 59,
   "id": "f59ac233",
   "metadata": {},
   "outputs": [],
   "source": [
    "nums.append(6)"
   ]
  },
  {
   "cell_type": "code",
   "execution_count": 60,
   "id": "de762aa3",
   "metadata": {},
   "outputs": [
    {
     "data": {
      "text/plain": [
       "[1, 2, 3, 4, 5, 6]"
      ]
     },
     "execution_count": 60,
     "metadata": {},
     "output_type": "execute_result"
    }
   ],
   "source": [
    "nums"
   ]
  },
  {
   "cell_type": "code",
   "execution_count": 61,
   "id": "10c5a36d",
   "metadata": {},
   "outputs": [],
   "source": [
    "nums.append('Python')"
   ]
  },
  {
   "cell_type": "code",
   "execution_count": 62,
   "id": "8bc2f2f8",
   "metadata": {},
   "outputs": [
    {
     "data": {
      "text/plain": [
       "[1, 2, 3, 4, 5, 6, 'Python']"
      ]
     },
     "execution_count": 62,
     "metadata": {},
     "output_type": "execute_result"
    }
   ],
   "source": [
    "nums"
   ]
  },
  {
   "cell_type": "code",
   "execution_count": 64,
   "id": "96ad8c7d",
   "metadata": {},
   "outputs": [],
   "source": [
    "nums.append([14,'June',2022])"
   ]
  },
  {
   "cell_type": "code",
   "execution_count": 65,
   "id": "2136466a",
   "metadata": {},
   "outputs": [
    {
     "data": {
      "text/plain": [
       "[1, 2, 3, 4, 5, 6, 'Python', [14, 'June', 2022]]"
      ]
     },
     "execution_count": 65,
     "metadata": {},
     "output_type": "execute_result"
    }
   ],
   "source": [
    "nums"
   ]
  },
  {
   "cell_type": "code",
   "execution_count": 66,
   "id": "d78b39e5",
   "metadata": {},
   "outputs": [
    {
     "data": {
      "text/plain": [
       "[14, 'June', 2022]"
      ]
     },
     "execution_count": 66,
     "metadata": {},
     "output_type": "execute_result"
    }
   ],
   "source": [
    "nums[-1]"
   ]
  },
  {
   "cell_type": "code",
   "execution_count": 67,
   "id": "d49fe29d",
   "metadata": {},
   "outputs": [],
   "source": [
    "# extend"
   ]
  },
  {
   "cell_type": "code",
   "execution_count": 68,
   "id": "d6b45d43",
   "metadata": {},
   "outputs": [
    {
     "data": {
      "text/plain": [
       "[1, 2, 3, 4, 5, 6, 'Python', [14, 'June', 2022]]"
      ]
     },
     "execution_count": 68,
     "metadata": {},
     "output_type": "execute_result"
    }
   ],
   "source": [
    "nums"
   ]
  },
  {
   "cell_type": "code",
   "execution_count": 73,
   "id": "5d5d549b",
   "metadata": {},
   "outputs": [],
   "source": [
    "nums.extend('Chennai')"
   ]
  },
  {
   "cell_type": "code",
   "execution_count": 74,
   "id": "ed307cf6",
   "metadata": {},
   "outputs": [
    {
     "name": "stdout",
     "output_type": "stream",
     "text": [
      "[1, 2, 3, 4, 5, 6, 'Python', [14, 'June', 2022], '1', '0', '0', 'C', 'h', 'e', 'n', 'n', 'a', 'i']\n"
     ]
    }
   ],
   "source": [
    "print(nums)"
   ]
  },
  {
   "cell_type": "code",
   "execution_count": 75,
   "id": "530fed9d",
   "metadata": {},
   "outputs": [],
   "source": [
    "nums=nums[0:8]"
   ]
  },
  {
   "cell_type": "code",
   "execution_count": 76,
   "id": "5d697fcd",
   "metadata": {},
   "outputs": [
    {
     "data": {
      "text/plain": [
       "[1, 2, 3, 4, 5, 6, 'Python', [14, 'June', 2022]]"
      ]
     },
     "execution_count": 76,
     "metadata": {},
     "output_type": "execute_result"
    }
   ],
   "source": [
    "nums"
   ]
  },
  {
   "cell_type": "code",
   "execution_count": 77,
   "id": "89d15beb",
   "metadata": {},
   "outputs": [],
   "source": [
    "nums.extend([100])"
   ]
  },
  {
   "cell_type": "code",
   "execution_count": 78,
   "id": "56567994",
   "metadata": {},
   "outputs": [
    {
     "data": {
      "text/plain": [
       "[1, 2, 3, 4, 5, 6, 'Python', [14, 'June', 2022], 100]"
      ]
     },
     "execution_count": 78,
     "metadata": {},
     "output_type": "execute_result"
    }
   ],
   "source": [
    "nums"
   ]
  },
  {
   "cell_type": "code",
   "execution_count": 79,
   "id": "a1d27e12",
   "metadata": {},
   "outputs": [],
   "source": [
    "nums.extend(['Chennai','Bengaluru','Hyderabad'])"
   ]
  },
  {
   "cell_type": "code",
   "execution_count": 80,
   "id": "f4e3b604",
   "metadata": {},
   "outputs": [
    {
     "name": "stdout",
     "output_type": "stream",
     "text": [
      "[1, 2, 3, 4, 5, 6, 'Python', [14, 'June', 2022], 100, 'Chennai', 'Bengaluru', 'Hyderabad']\n"
     ]
    }
   ],
   "source": [
    "print(nums)"
   ]
  },
  {
   "cell_type": "code",
   "execution_count": 81,
   "id": "78dffabb",
   "metadata": {},
   "outputs": [
    {
     "data": {
      "text/plain": [
       "'Hyderabad'"
      ]
     },
     "execution_count": 81,
     "metadata": {},
     "output_type": "execute_result"
    }
   ],
   "source": [
    "nums[-1]"
   ]
  },
  {
   "cell_type": "code",
   "execution_count": 82,
   "id": "b101c621",
   "metadata": {},
   "outputs": [
    {
     "data": {
      "text/plain": [
       "'Bengaluru'"
      ]
     },
     "execution_count": 82,
     "metadata": {},
     "output_type": "execute_result"
    }
   ],
   "source": [
    "nums[-2]"
   ]
  },
  {
   "cell_type": "code",
   "execution_count": 83,
   "id": "4a606c8a",
   "metadata": {},
   "outputs": [
    {
     "data": {
      "text/plain": [
       "'Chennai'"
      ]
     },
     "execution_count": 83,
     "metadata": {},
     "output_type": "execute_result"
    }
   ],
   "source": [
    "nums[-3]"
   ]
  },
  {
   "cell_type": "code",
   "execution_count": 84,
   "id": "37097ade",
   "metadata": {},
   "outputs": [
    {
     "name": "stdout",
     "output_type": "stream",
     "text": [
      "[1, 2, 3, 4, 5, 6, 'Python', [14, 'June', 2022], 100, 'Chennai', 'Bengaluru', 'Hyderabad']\n"
     ]
    }
   ],
   "source": [
    "print(nums)"
   ]
  },
  {
   "cell_type": "code",
   "execution_count": 85,
   "id": "5ab3bd45",
   "metadata": {},
   "outputs": [],
   "source": [
    "#nums.insert(where,what)\n",
    "\n",
    "nums.insert(0,'ExcelR')"
   ]
  },
  {
   "cell_type": "code",
   "execution_count": 86,
   "id": "3a1a5795",
   "metadata": {},
   "outputs": [
    {
     "name": "stdout",
     "output_type": "stream",
     "text": [
      "['ExcelR', 1, 2, 3, 4, 5, 6, 'Python', [14, 'June', 2022], 100, 'Chennai', 'Bengaluru', 'Hyderabad']\n"
     ]
    }
   ],
   "source": [
    "print(nums)"
   ]
  },
  {
   "cell_type": "code",
   "execution_count": 87,
   "id": "8d35e074",
   "metadata": {},
   "outputs": [],
   "source": [
    "nums.insert(11,'Delhi')"
   ]
  },
  {
   "cell_type": "code",
   "execution_count": 88,
   "id": "f20843b0",
   "metadata": {},
   "outputs": [
    {
     "name": "stdout",
     "output_type": "stream",
     "text": [
      "['ExcelR', 1, 2, 3, 4, 5, 6, 'Python', [14, 'June', 2022], 100, 'Chennai', 'Delhi', 'Bengaluru', 'Hyderabad']\n"
     ]
    }
   ],
   "source": [
    "print(nums)"
   ]
  },
  {
   "cell_type": "code",
   "execution_count": 89,
   "id": "88f130e7",
   "metadata": {},
   "outputs": [],
   "source": [
    "nums.insert(-3,'Mumbai')"
   ]
  },
  {
   "cell_type": "code",
   "execution_count": 90,
   "id": "15ac60d4",
   "metadata": {},
   "outputs": [
    {
     "name": "stdout",
     "output_type": "stream",
     "text": [
      "['ExcelR', 1, 2, 3, 4, 5, 6, 'Python', [14, 'June', 2022], 100, 'Chennai', 'Mumbai', 'Delhi', 'Bengaluru', 'Hyderabad']\n"
     ]
    }
   ],
   "source": [
    "print(nums)"
   ]
  },
  {
   "cell_type": "code",
   "execution_count": 96,
   "id": "97266586",
   "metadata": {},
   "outputs": [
    {
     "data": {
      "text/plain": [
       "[14, 'Tuesday', 'June', 2022]"
      ]
     },
     "execution_count": 96,
     "metadata": {},
     "output_type": "execute_result"
    }
   ],
   "source": [
    "nums[8].insert(1,'Tuesday')"
   ]
  },
  {
   "cell_type": "code",
   "execution_count": 94,
   "id": "1dfd4139",
   "metadata": {},
   "outputs": [
    {
     "name": "stdout",
     "output_type": "stream",
     "text": [
      "['ExcelR', 1, 2, 3, 4, 5, 6, 'Python', [14, 'Tuesday', 'June', 2022], 100, 'Chennai', 'Mumbai', 'Delhi', 'Bengaluru', 'Hyderabad']\n"
     ]
    }
   ],
   "source": [
    "print(nums)"
   ]
  },
  {
   "cell_type": "code",
   "execution_count": 97,
   "id": "b458ae41",
   "metadata": {},
   "outputs": [],
   "source": [
    "#remove   : remove, pop\n",
    "\n",
    "nums.remove('Delhi')"
   ]
  },
  {
   "cell_type": "code",
   "execution_count": 98,
   "id": "bea1c178",
   "metadata": {},
   "outputs": [
    {
     "name": "stdout",
     "output_type": "stream",
     "text": [
      "['ExcelR', 1, 2, 3, 4, 5, 6, 'Python', [14, 'Tuesday', 'June', 2022], 100, 'Chennai', 'Mumbai', 'Bengaluru', 'Hyderabad']\n"
     ]
    }
   ],
   "source": [
    "print(nums)"
   ]
  },
  {
   "cell_type": "code",
   "execution_count": 99,
   "id": "c98a1e72",
   "metadata": {},
   "outputs": [],
   "source": [
    "nums.remove('Mumbai')"
   ]
  },
  {
   "cell_type": "code",
   "execution_count": 100,
   "id": "8ac7b729",
   "metadata": {},
   "outputs": [
    {
     "name": "stdout",
     "output_type": "stream",
     "text": [
      "['ExcelR', 1, 2, 3, 4, 5, 6, 'Python', [14, 'Tuesday', 'June', 2022], 100, 'Chennai', 'Bengaluru', 'Hyderabad']\n"
     ]
    }
   ],
   "source": [
    "print(nums)"
   ]
  },
  {
   "cell_type": "code",
   "execution_count": 102,
   "id": "86ccdcc8",
   "metadata": {},
   "outputs": [],
   "source": [
    "nums.remove(4)"
   ]
  },
  {
   "cell_type": "code",
   "execution_count": 103,
   "id": "09bfa4d3",
   "metadata": {},
   "outputs": [
    {
     "name": "stdout",
     "output_type": "stream",
     "text": [
      "['ExcelR', 1, 2, 3, 5, 6, 'Python', [14, 'Tuesday', 'June', 2022], 100, 'Chennai', 'Bengaluru', 'Hyderabad']\n"
     ]
    }
   ],
   "source": [
    "print(nums)"
   ]
  },
  {
   "cell_type": "code",
   "execution_count": 104,
   "id": "0e3e7731",
   "metadata": {},
   "outputs": [
    {
     "name": "stdout",
     "output_type": "stream",
     "text": [
      "['ExcelR', 1, 2, 3, 5, 6, 'Python', [14, 'Tuesday', 'June', 2022], 100, 'Chennai', 'Bengaluru', 'Hyderabad']\n"
     ]
    }
   ],
   "source": [
    "print(nums)"
   ]
  },
  {
   "cell_type": "code",
   "execution_count": 105,
   "id": "bce4a058",
   "metadata": {},
   "outputs": [],
   "source": [
    "nums.append(5)"
   ]
  },
  {
   "cell_type": "code",
   "execution_count": 106,
   "id": "af81e95a",
   "metadata": {},
   "outputs": [
    {
     "name": "stdout",
     "output_type": "stream",
     "text": [
      "['ExcelR', 1, 2, 3, 5, 6, 'Python', [14, 'Tuesday', 'June', 2022], 100, 'Chennai', 'Bengaluru', 'Hyderabad', 5]\n"
     ]
    }
   ],
   "source": [
    "print(nums)"
   ]
  },
  {
   "cell_type": "code",
   "execution_count": 107,
   "id": "c2ee248f",
   "metadata": {},
   "outputs": [],
   "source": [
    "nums.remove(5)"
   ]
  },
  {
   "cell_type": "code",
   "execution_count": 108,
   "id": "2e38aae5",
   "metadata": {},
   "outputs": [
    {
     "name": "stdout",
     "output_type": "stream",
     "text": [
      "['ExcelR', 1, 2, 3, 6, 'Python', [14, 'Tuesday', 'June', 2022], 100, 'Chennai', 'Bengaluru', 'Hyderabad', 5]\n"
     ]
    }
   ],
   "source": [
    "print(nums)"
   ]
  },
  {
   "cell_type": "code",
   "execution_count": 109,
   "id": "8a070b0c",
   "metadata": {},
   "outputs": [
    {
     "data": {
      "text/plain": [
       "[14, 'Tuesday', 'June', 2022]"
      ]
     },
     "execution_count": 109,
     "metadata": {},
     "output_type": "execute_result"
    }
   ],
   "source": [
    "nums.pop(6)"
   ]
  },
  {
   "cell_type": "code",
   "execution_count": 110,
   "id": "9113d3b4",
   "metadata": {},
   "outputs": [
    {
     "name": "stdout",
     "output_type": "stream",
     "text": [
      "['ExcelR', 1, 2, 3, 6, 'Python', 100, 'Chennai', 'Bengaluru', 'Hyderabad', 5]\n"
     ]
    }
   ],
   "source": [
    "print(nums)"
   ]
  },
  {
   "cell_type": "code",
   "execution_count": 111,
   "id": "aad054b5",
   "metadata": {},
   "outputs": [
    {
     "data": {
      "text/plain": [
       "'ExcelR'"
      ]
     },
     "execution_count": 111,
     "metadata": {},
     "output_type": "execute_result"
    }
   ],
   "source": [
    "nums.pop(0)"
   ]
  },
  {
   "cell_type": "code",
   "execution_count": 112,
   "id": "fbd58326",
   "metadata": {},
   "outputs": [
    {
     "name": "stdout",
     "output_type": "stream",
     "text": [
      "[1, 2, 3, 6, 'Python', 100, 'Chennai', 'Bengaluru', 'Hyderabad', 5]\n"
     ]
    }
   ],
   "source": [
    "print(nums)"
   ]
  },
  {
   "cell_type": "code",
   "execution_count": 113,
   "id": "330c2f69",
   "metadata": {},
   "outputs": [
    {
     "data": {
      "text/plain": [
       "5"
      ]
     },
     "execution_count": 113,
     "metadata": {},
     "output_type": "execute_result"
    }
   ],
   "source": [
    "nums.pop()"
   ]
  },
  {
   "cell_type": "code",
   "execution_count": 114,
   "id": "6a8cf19e",
   "metadata": {},
   "outputs": [
    {
     "name": "stdout",
     "output_type": "stream",
     "text": [
      "[1, 2, 3, 6, 'Python', 100, 'Chennai', 'Bengaluru', 'Hyderabad']\n"
     ]
    }
   ],
   "source": [
    "print(nums)"
   ]
  },
  {
   "cell_type": "code",
   "execution_count": 115,
   "id": "c1880dd4",
   "metadata": {},
   "outputs": [
    {
     "data": {
      "text/plain": [
       "'Hyderabad'"
      ]
     },
     "execution_count": 115,
     "metadata": {},
     "output_type": "execute_result"
    }
   ],
   "source": [
    "nums.pop()"
   ]
  },
  {
   "cell_type": "code",
   "execution_count": 116,
   "id": "22a520ab",
   "metadata": {},
   "outputs": [
    {
     "data": {
      "text/plain": [
       "[1, 2, 3, 6, 'Python', 100, 'Chennai', 'Bengaluru']"
      ]
     },
     "execution_count": 116,
     "metadata": {},
     "output_type": "execute_result"
    }
   ],
   "source": [
    "nums"
   ]
  },
  {
   "cell_type": "code",
   "execution_count": 120,
   "id": "2cea8885",
   "metadata": {},
   "outputs": [
    {
     "name": "stdout",
     "output_type": "stream",
     "text": [
      "Help on built-in function pop:\n",
      "\n",
      "pop(index=-1, /) method of builtins.list instance\n",
      "    Remove and return item at index (default last).\n",
      "    \n",
      "    Raises IndexError if list is empty or index is out of range.\n",
      "\n"
     ]
    }
   ],
   "source": [
    "help(nums.pop)"
   ]
  },
  {
   "cell_type": "code",
   "execution_count": 127,
   "id": "288d15fd",
   "metadata": {},
   "outputs": [],
   "source": [
    "for x in ['Bengaluru', 'Cochin']:\n",
    "    nums.remove(x)"
   ]
  },
  {
   "cell_type": "code",
   "execution_count": 125,
   "id": "8087d370",
   "metadata": {},
   "outputs": [],
   "source": [
    "nums.append('Cochin')"
   ]
  },
  {
   "cell_type": "code",
   "execution_count": 126,
   "id": "baffd2ac",
   "metadata": {},
   "outputs": [
    {
     "data": {
      "text/plain": [
       "[1, 2, 3, 6, 100, 'Bengaluru', 'Cochin']"
      ]
     },
     "execution_count": 126,
     "metadata": {},
     "output_type": "execute_result"
    }
   ],
   "source": [
    "nums"
   ]
  },
  {
   "cell_type": "code",
   "execution_count": 128,
   "id": "3617cf83",
   "metadata": {},
   "outputs": [
    {
     "data": {
      "text/plain": [
       "[1, 2, 3, 6, 100]"
      ]
     },
     "execution_count": 128,
     "metadata": {},
     "output_type": "execute_result"
    }
   ],
   "source": [
    "nums"
   ]
  },
  {
   "cell_type": "code",
   "execution_count": 129,
   "id": "840228b5",
   "metadata": {},
   "outputs": [],
   "source": [
    "nums=[1,4,6,3,7,8,9,5,3,2,66,44,22,78,100]"
   ]
  },
  {
   "cell_type": "code",
   "execution_count": 130,
   "id": "2dff82fd",
   "metadata": {},
   "outputs": [],
   "source": [
    "nums.reverse()"
   ]
  },
  {
   "cell_type": "code",
   "execution_count": 131,
   "id": "b1e5124a",
   "metadata": {},
   "outputs": [
    {
     "data": {
      "text/plain": [
       "[100, 78, 22, 44, 66, 2, 3, 5, 9, 8, 7, 3, 6, 4, 1]"
      ]
     },
     "execution_count": 131,
     "metadata": {},
     "output_type": "execute_result"
    }
   ],
   "source": [
    "nums"
   ]
  },
  {
   "cell_type": "code",
   "execution_count": 132,
   "id": "d9966bba",
   "metadata": {},
   "outputs": [],
   "source": [
    "nums.sort()"
   ]
  },
  {
   "cell_type": "code",
   "execution_count": 133,
   "id": "9e4d4887",
   "metadata": {},
   "outputs": [
    {
     "data": {
      "text/plain": [
       "[1, 2, 3, 3, 4, 5, 6, 7, 8, 9, 22, 44, 66, 78, 100]"
      ]
     },
     "execution_count": 133,
     "metadata": {},
     "output_type": "execute_result"
    }
   ],
   "source": [
    "nums"
   ]
  },
  {
   "cell_type": "code",
   "execution_count": 134,
   "id": "68635ce2",
   "metadata": {},
   "outputs": [],
   "source": [
    "nums.sort(reverse=True)"
   ]
  },
  {
   "cell_type": "code",
   "execution_count": 135,
   "id": "6284b815",
   "metadata": {},
   "outputs": [
    {
     "data": {
      "text/plain": [
       "[100, 78, 66, 44, 22, 9, 8, 7, 6, 5, 4, 3, 3, 2, 1]"
      ]
     },
     "execution_count": 135,
     "metadata": {},
     "output_type": "execute_result"
    }
   ],
   "source": [
    "nums"
   ]
  },
  {
   "cell_type": "code",
   "execution_count": 136,
   "id": "99f81534",
   "metadata": {},
   "outputs": [],
   "source": [
    "#append extend insert  remove pop  reverse sort \n",
    "#copy, clear, count, index"
   ]
  },
  {
   "cell_type": "code",
   "execution_count": 137,
   "id": "199502d0",
   "metadata": {},
   "outputs": [
    {
     "data": {
      "text/plain": [
       "[100, 78, 66, 44, 22, 9, 8, 7, 6, 5, 4, 3, 3, 2, 1]"
      ]
     },
     "execution_count": 137,
     "metadata": {},
     "output_type": "execute_result"
    }
   ],
   "source": [
    "nums"
   ]
  },
  {
   "cell_type": "code",
   "execution_count": 138,
   "id": "0c966725",
   "metadata": {},
   "outputs": [
    {
     "data": {
      "text/plain": [
       "0"
      ]
     },
     "execution_count": 138,
     "metadata": {},
     "output_type": "execute_result"
    }
   ],
   "source": [
    "nums.index(100)"
   ]
  },
  {
   "cell_type": "code",
   "execution_count": 139,
   "id": "ebd4a749",
   "metadata": {},
   "outputs": [
    {
     "data": {
      "text/plain": [
       "4"
      ]
     },
     "execution_count": 139,
     "metadata": {},
     "output_type": "execute_result"
    }
   ],
   "source": [
    "nums.index(22)"
   ]
  },
  {
   "cell_type": "code",
   "execution_count": 140,
   "id": "35225d94",
   "metadata": {},
   "outputs": [
    {
     "data": {
      "text/plain": [
       "2"
      ]
     },
     "execution_count": 140,
     "metadata": {},
     "output_type": "execute_result"
    }
   ],
   "source": [
    "nums.count(3)"
   ]
  },
  {
   "cell_type": "code",
   "execution_count": 141,
   "id": "e094c1b7",
   "metadata": {},
   "outputs": [
    {
     "data": {
      "text/plain": [
       "1"
      ]
     },
     "execution_count": 141,
     "metadata": {},
     "output_type": "execute_result"
    }
   ],
   "source": [
    "nums.count(66)"
   ]
  },
  {
   "cell_type": "code",
   "execution_count": 142,
   "id": "a6738f6b",
   "metadata": {},
   "outputs": [
    {
     "data": {
      "text/plain": [
       "11"
      ]
     },
     "execution_count": 142,
     "metadata": {},
     "output_type": "execute_result"
    }
   ],
   "source": [
    "nums.index(3)"
   ]
  },
  {
   "cell_type": "code",
   "execution_count": 143,
   "id": "26b1a473",
   "metadata": {},
   "outputs": [],
   "source": [
    "nums.clear()"
   ]
  },
  {
   "cell_type": "code",
   "execution_count": 144,
   "id": "f8663b70",
   "metadata": {},
   "outputs": [
    {
     "data": {
      "text/plain": [
       "[]"
      ]
     },
     "execution_count": 144,
     "metadata": {},
     "output_type": "execute_result"
    }
   ],
   "source": [
    "nums"
   ]
  },
  {
   "cell_type": "code",
   "execution_count": 145,
   "id": "f13efdf5",
   "metadata": {},
   "outputs": [],
   "source": [
    "# What is the difference between shallow copy and deep copy ?\n",
    "nums=[1,2,3,4,5]"
   ]
  },
  {
   "cell_type": "code",
   "execution_count": 146,
   "id": "0135986d",
   "metadata": {},
   "outputs": [
    {
     "data": {
      "text/plain": [
       "[1, 2, 3, 4, 5]"
      ]
     },
     "execution_count": 146,
     "metadata": {},
     "output_type": "execute_result"
    }
   ],
   "source": [
    "nums"
   ]
  },
  {
   "cell_type": "code",
   "execution_count": 147,
   "id": "a3e58a78",
   "metadata": {},
   "outputs": [],
   "source": [
    "nums_backup=nums"
   ]
  },
  {
   "cell_type": "code",
   "execution_count": 148,
   "id": "f4b0b54a",
   "metadata": {},
   "outputs": [
    {
     "data": {
      "text/plain": [
       "[1, 2, 3, 4, 5]"
      ]
     },
     "execution_count": 148,
     "metadata": {},
     "output_type": "execute_result"
    }
   ],
   "source": [
    "nums"
   ]
  },
  {
   "cell_type": "code",
   "execution_count": 149,
   "id": "9a6959dd",
   "metadata": {},
   "outputs": [
    {
     "data": {
      "text/plain": [
       "[1, 2, 3, 4, 5]"
      ]
     },
     "execution_count": 149,
     "metadata": {},
     "output_type": "execute_result"
    }
   ],
   "source": [
    "nums_backup"
   ]
  },
  {
   "cell_type": "code",
   "execution_count": 150,
   "id": "69b4b47f",
   "metadata": {},
   "outputs": [],
   "source": [
    "nums.extend([100,200,300])"
   ]
  },
  {
   "cell_type": "code",
   "execution_count": 151,
   "id": "47e08120",
   "metadata": {},
   "outputs": [
    {
     "data": {
      "text/plain": [
       "[1, 2, 3, 4, 5, 100, 200, 300]"
      ]
     },
     "execution_count": 151,
     "metadata": {},
     "output_type": "execute_result"
    }
   ],
   "source": [
    "nums"
   ]
  },
  {
   "cell_type": "code",
   "execution_count": 152,
   "id": "37eab1a4",
   "metadata": {},
   "outputs": [
    {
     "data": {
      "text/plain": [
       "[1, 2, 3, 4, 5, 100, 200, 300]"
      ]
     },
     "execution_count": 152,
     "metadata": {},
     "output_type": "execute_result"
    }
   ],
   "source": [
    "nums_backup"
   ]
  },
  {
   "cell_type": "code",
   "execution_count": 153,
   "id": "8e65db45",
   "metadata": {},
   "outputs": [],
   "source": [
    "nums_backup.insert(0,'Hello')"
   ]
  },
  {
   "cell_type": "code",
   "execution_count": 154,
   "id": "2dc8a67d",
   "metadata": {},
   "outputs": [
    {
     "data": {
      "text/plain": [
       "['Hello', 1, 2, 3, 4, 5, 100, 200, 300]"
      ]
     },
     "execution_count": 154,
     "metadata": {},
     "output_type": "execute_result"
    }
   ],
   "source": [
    "nums_backup"
   ]
  },
  {
   "cell_type": "code",
   "execution_count": 155,
   "id": "614033d6",
   "metadata": {},
   "outputs": [
    {
     "data": {
      "text/plain": [
       "['Hello', 1, 2, 3, 4, 5, 100, 200, 300]"
      ]
     },
     "execution_count": 155,
     "metadata": {},
     "output_type": "execute_result"
    }
   ],
   "source": [
    "nums"
   ]
  },
  {
   "cell_type": "code",
   "execution_count": 156,
   "id": "773bd0bf",
   "metadata": {},
   "outputs": [
    {
     "data": {
      "text/plain": [
       "2873111434048"
      ]
     },
     "execution_count": 156,
     "metadata": {},
     "output_type": "execute_result"
    }
   ],
   "source": [
    "id(nums)"
   ]
  },
  {
   "cell_type": "code",
   "execution_count": 157,
   "id": "d74294ec",
   "metadata": {},
   "outputs": [
    {
     "data": {
      "text/plain": [
       "2873111434048"
      ]
     },
     "execution_count": 157,
     "metadata": {},
     "output_type": "execute_result"
    }
   ],
   "source": [
    "id(nums_backup)"
   ]
  },
  {
   "cell_type": "code",
   "execution_count": 164,
   "id": "e53db95c",
   "metadata": {},
   "outputs": [],
   "source": [
    "ages=[20,25,[26,27],30,35,40]"
   ]
  },
  {
   "cell_type": "code",
   "execution_count": 165,
   "id": "711feb81",
   "metadata": {},
   "outputs": [],
   "source": [
    "ages_bkup=ages.copy()"
   ]
  },
  {
   "cell_type": "code",
   "execution_count": 166,
   "id": "6eecdd0f",
   "metadata": {},
   "outputs": [
    {
     "data": {
      "text/plain": [
       "[20, 25, [26, 27], 30, 35, 40]"
      ]
     },
     "execution_count": 166,
     "metadata": {},
     "output_type": "execute_result"
    }
   ],
   "source": [
    "ages"
   ]
  },
  {
   "cell_type": "code",
   "execution_count": 167,
   "id": "f7d548fe",
   "metadata": {},
   "outputs": [
    {
     "data": {
      "text/plain": [
       "[20, 25, [26, 27], 30, 35, 40]"
      ]
     },
     "execution_count": 167,
     "metadata": {},
     "output_type": "execute_result"
    }
   ],
   "source": [
    "ages_bkup"
   ]
  },
  {
   "cell_type": "code",
   "execution_count": 168,
   "id": "7e3adfb6",
   "metadata": {},
   "outputs": [
    {
     "data": {
      "text/plain": [
       "2873111511360"
      ]
     },
     "execution_count": 168,
     "metadata": {},
     "output_type": "execute_result"
    }
   ],
   "source": [
    "id(ages)"
   ]
  },
  {
   "cell_type": "code",
   "execution_count": 169,
   "id": "a5dd7c3e",
   "metadata": {},
   "outputs": [
    {
     "data": {
      "text/plain": [
       "2873111457408"
      ]
     },
     "execution_count": 169,
     "metadata": {},
     "output_type": "execute_result"
    }
   ],
   "source": [
    "id(ages_bkup)"
   ]
  },
  {
   "cell_type": "code",
   "execution_count": 170,
   "id": "74618cdb",
   "metadata": {},
   "outputs": [],
   "source": [
    "ages.append(100)"
   ]
  },
  {
   "cell_type": "code",
   "execution_count": 171,
   "id": "1c4e4f00",
   "metadata": {},
   "outputs": [
    {
     "data": {
      "text/plain": [
       "[20, 25, [26, 27], 30, 35, 40, 100]"
      ]
     },
     "execution_count": 171,
     "metadata": {},
     "output_type": "execute_result"
    }
   ],
   "source": [
    "ages"
   ]
  },
  {
   "cell_type": "code",
   "execution_count": 172,
   "id": "1ed255dd",
   "metadata": {},
   "outputs": [
    {
     "data": {
      "text/plain": [
       "[20, 25, [26, 27], 30, 35, 40]"
      ]
     },
     "execution_count": 172,
     "metadata": {},
     "output_type": "execute_result"
    }
   ],
   "source": [
    "ages_bkup"
   ]
  },
  {
   "cell_type": "code",
   "execution_count": 173,
   "id": "6cab52b0",
   "metadata": {},
   "outputs": [],
   "source": [
    "ages_bkup.append(99)"
   ]
  },
  {
   "cell_type": "code",
   "execution_count": 174,
   "id": "20f2ae44",
   "metadata": {},
   "outputs": [
    {
     "data": {
      "text/plain": [
       "[20, 25, [26, 27], 30, 35, 40, 99]"
      ]
     },
     "execution_count": 174,
     "metadata": {},
     "output_type": "execute_result"
    }
   ],
   "source": [
    "ages_bkup"
   ]
  },
  {
   "cell_type": "code",
   "execution_count": 175,
   "id": "20aefb4b",
   "metadata": {},
   "outputs": [
    {
     "data": {
      "text/plain": [
       "[20, 25, [26, 27], 30, 35, 40, 100]"
      ]
     },
     "execution_count": 175,
     "metadata": {},
     "output_type": "execute_result"
    }
   ],
   "source": [
    "ages"
   ]
  },
  {
   "cell_type": "code",
   "execution_count": 177,
   "id": "ce172fb7",
   "metadata": {},
   "outputs": [],
   "source": [
    "ages[2].append(28)"
   ]
  },
  {
   "cell_type": "code",
   "execution_count": 178,
   "id": "14022e20",
   "metadata": {},
   "outputs": [
    {
     "data": {
      "text/plain": [
       "[20, 25, [26, 27, 28], 30, 35, 40, 100]"
      ]
     },
     "execution_count": 178,
     "metadata": {},
     "output_type": "execute_result"
    }
   ],
   "source": [
    "ages"
   ]
  },
  {
   "cell_type": "code",
   "execution_count": 179,
   "id": "8a52c733",
   "metadata": {},
   "outputs": [
    {
     "data": {
      "text/plain": [
       "[20, 25, [26, 27, 28], 30, 35, 40, 99]"
      ]
     },
     "execution_count": 179,
     "metadata": {},
     "output_type": "execute_result"
    }
   ],
   "source": [
    "ages_bkup"
   ]
  },
  {
   "cell_type": "code",
   "execution_count": 180,
   "id": "d38436e5",
   "metadata": {},
   "outputs": [],
   "source": [
    "# Shallow Vs Deep Copy"
   ]
  },
  {
   "cell_type": "code",
   "execution_count": 181,
   "id": "bf2c3e88",
   "metadata": {},
   "outputs": [],
   "source": [
    "nums=[1,2,[3,4],5]"
   ]
  },
  {
   "cell_type": "code",
   "execution_count": 182,
   "id": "f971f4bc",
   "metadata": {},
   "outputs": [],
   "source": [
    "import copy"
   ]
  },
  {
   "cell_type": "code",
   "execution_count": 183,
   "id": "6fea08a8",
   "metadata": {},
   "outputs": [],
   "source": [
    "nums_s=copy.copy(nums)   # shallow copy"
   ]
  },
  {
   "cell_type": "code",
   "execution_count": 184,
   "id": "ab926d0b",
   "metadata": {},
   "outputs": [
    {
     "data": {
      "text/plain": [
       "[1, 2, [3, 4], 5]"
      ]
     },
     "execution_count": 184,
     "metadata": {},
     "output_type": "execute_result"
    }
   ],
   "source": [
    "nums"
   ]
  },
  {
   "cell_type": "code",
   "execution_count": 185,
   "id": "5ceeee2e",
   "metadata": {},
   "outputs": [
    {
     "data": {
      "text/plain": [
       "[1, 2, [3, 4], 5]"
      ]
     },
     "execution_count": 185,
     "metadata": {},
     "output_type": "execute_result"
    }
   ],
   "source": [
    "nums_s"
   ]
  },
  {
   "cell_type": "code",
   "execution_count": 187,
   "id": "946f8415",
   "metadata": {},
   "outputs": [],
   "source": [
    "nums.append(6)"
   ]
  },
  {
   "cell_type": "code",
   "execution_count": 188,
   "id": "daf9a214",
   "metadata": {},
   "outputs": [
    {
     "data": {
      "text/plain": [
       "[1, 2, [3, 4], 5, 6]"
      ]
     },
     "execution_count": 188,
     "metadata": {},
     "output_type": "execute_result"
    }
   ],
   "source": [
    "nums"
   ]
  },
  {
   "cell_type": "code",
   "execution_count": 189,
   "id": "cccfed70",
   "metadata": {},
   "outputs": [
    {
     "data": {
      "text/plain": [
       "[1, 2, [3, 4], 5]"
      ]
     },
     "execution_count": 189,
     "metadata": {},
     "output_type": "execute_result"
    }
   ],
   "source": [
    "nums_s"
   ]
  },
  {
   "cell_type": "code",
   "execution_count": 191,
   "id": "535f26cf",
   "metadata": {},
   "outputs": [],
   "source": [
    "nums[2].insert(1,3.5)"
   ]
  },
  {
   "cell_type": "code",
   "execution_count": 192,
   "id": "69e2a00d",
   "metadata": {},
   "outputs": [
    {
     "data": {
      "text/plain": [
       "[1, 2, [3, 3.5, 4], 5, 6]"
      ]
     },
     "execution_count": 192,
     "metadata": {},
     "output_type": "execute_result"
    }
   ],
   "source": [
    "nums"
   ]
  },
  {
   "cell_type": "code",
   "execution_count": 193,
   "id": "067096ad",
   "metadata": {},
   "outputs": [
    {
     "data": {
      "text/plain": [
       "[1, 2, [3, 3.5, 4], 5]"
      ]
     },
     "execution_count": 193,
     "metadata": {},
     "output_type": "execute_result"
    }
   ],
   "source": [
    "nums_s"
   ]
  },
  {
   "cell_type": "code",
   "execution_count": 194,
   "id": "5b1f1d90",
   "metadata": {},
   "outputs": [],
   "source": [
    "nums=[1,2,[3,4],5]"
   ]
  },
  {
   "cell_type": "code",
   "execution_count": 195,
   "id": "8ddb51b9",
   "metadata": {},
   "outputs": [],
   "source": [
    "nums_d=copy.deepcopy(nums)"
   ]
  },
  {
   "cell_type": "code",
   "execution_count": 196,
   "id": "ddbefdfd",
   "metadata": {},
   "outputs": [
    {
     "data": {
      "text/plain": [
       "[1, 2, [3, 4], 5]"
      ]
     },
     "execution_count": 196,
     "metadata": {},
     "output_type": "execute_result"
    }
   ],
   "source": [
    "nums"
   ]
  },
  {
   "cell_type": "code",
   "execution_count": 197,
   "id": "e7bd5801",
   "metadata": {},
   "outputs": [
    {
     "data": {
      "text/plain": [
       "[1, 2, [3, 4], 5]"
      ]
     },
     "execution_count": 197,
     "metadata": {},
     "output_type": "execute_result"
    }
   ],
   "source": [
    "nums_d"
   ]
  },
  {
   "cell_type": "code",
   "execution_count": 200,
   "id": "9b2539be",
   "metadata": {},
   "outputs": [],
   "source": [
    "nums.append(6)"
   ]
  },
  {
   "cell_type": "code",
   "execution_count": 201,
   "id": "2b7f3c18",
   "metadata": {},
   "outputs": [
    {
     "data": {
      "text/plain": [
       "[1, 2, [3, 4], 5, 6]"
      ]
     },
     "execution_count": 201,
     "metadata": {},
     "output_type": "execute_result"
    }
   ],
   "source": [
    "nums"
   ]
  },
  {
   "cell_type": "code",
   "execution_count": 202,
   "id": "b5ed80fd",
   "metadata": {},
   "outputs": [
    {
     "data": {
      "text/plain": [
       "[1, 2, [3, 4], 5]"
      ]
     },
     "execution_count": 202,
     "metadata": {},
     "output_type": "execute_result"
    }
   ],
   "source": [
    "nums_d"
   ]
  },
  {
   "cell_type": "code",
   "execution_count": 204,
   "id": "dac01daa",
   "metadata": {},
   "outputs": [],
   "source": [
    "nums[2].insert(1,3.5)"
   ]
  },
  {
   "cell_type": "code",
   "execution_count": 205,
   "id": "22bc06b9",
   "metadata": {},
   "outputs": [
    {
     "data": {
      "text/plain": [
       "[1, 2, [3, 3.5, 4], 5, 6]"
      ]
     },
     "execution_count": 205,
     "metadata": {},
     "output_type": "execute_result"
    }
   ],
   "source": [
    "nums"
   ]
  },
  {
   "cell_type": "code",
   "execution_count": 206,
   "id": "10272ab3",
   "metadata": {},
   "outputs": [
    {
     "data": {
      "text/plain": [
       "[1, 2, [3, 4], 5]"
      ]
     },
     "execution_count": 206,
     "metadata": {},
     "output_type": "execute_result"
    }
   ],
   "source": [
    "nums_d"
   ]
  },
  {
   "cell_type": "code",
   "execution_count": null,
   "id": "e8d17840",
   "metadata": {},
   "outputs": [],
   "source": []
  }
 ],
 "metadata": {
  "kernelspec": {
   "display_name": "Python 3 (ipykernel)",
   "language": "python",
   "name": "python3"
  },
  "language_info": {
   "codemirror_mode": {
    "name": "ipython",
    "version": 3
   },
   "file_extension": ".py",
   "mimetype": "text/x-python",
   "name": "python",
   "nbconvert_exporter": "python",
   "pygments_lexer": "ipython3",
   "version": "3.8.10"
  }
 },
 "nbformat": 4,
 "nbformat_minor": 5
}
