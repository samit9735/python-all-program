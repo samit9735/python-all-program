{
 "cells": [
  {
   "cell_type": "code",
   "execution_count": 5,
   "id": "9912d83e",
   "metadata": {},
   "outputs": [
    {
     "data": {
      "text/plain": [
       "'I am part of data engg visualization ML DL batch at excelR'"
      ]
     },
     "execution_count": 5,
     "metadata": {},
     "output_type": "execute_result"
    }
   ],
   "source": [
    "str=\"I am part of data analytics batch at excelR\"\n",
    "str.replace('analytics','engg visualization ML DL')"
   ]
  },
  {
   "cell_type": "code",
   "execution_count": 4,
   "id": "eb8db90f",
   "metadata": {},
   "outputs": [
    {
     "data": {
      "text/plain": [
       "'I Am pArt of dAtA AnAlytiCs BAtCh At exCelR'"
      ]
     },
     "execution_count": 4,
     "metadata": {},
     "output_type": "execute_result"
    }
   ],
   "source": [
    "#str.translate('abc','ABC')\n",
    "change=str.maketrans('abc','ABC')\n",
    "str.translate(change)"
   ]
  },
  {
   "cell_type": "code",
   "execution_count": 10,
   "id": "be42858f",
   "metadata": {},
   "outputs": [
    {
     "data": {
      "text/plain": [
       "'I am part of data analytics batch at excelR'"
      ]
     },
     "execution_count": 10,
     "metadata": {},
     "output_type": "execute_result"
    }
   ],
   "source": [
    "str=\"I-am_part,of.data~analytics_batch-at~excelR\"\n",
    "changes=str.maketrans('.,~!@#$%^&*()_+-','                ' )\n",
    "str.translate(changes)"
   ]
  },
  {
   "cell_type": "markdown",
   "id": "fc012acf",
   "metadata": {},
   "source": [
    "# TUPLE"
   ]
  },
  {
   "cell_type": "code",
   "execution_count": 11,
   "id": "209fc1d1",
   "metadata": {},
   "outputs": [],
   "source": [
    "x=[]"
   ]
  },
  {
   "cell_type": "code",
   "execution_count": 12,
   "id": "f00c15bc",
   "metadata": {},
   "outputs": [
    {
     "data": {
      "text/plain": [
       "list"
      ]
     },
     "execution_count": 12,
     "metadata": {},
     "output_type": "execute_result"
    }
   ],
   "source": [
    "type(x)"
   ]
  },
  {
   "cell_type": "code",
   "execution_count": 13,
   "id": "192aeaf6",
   "metadata": {},
   "outputs": [],
   "source": [
    "x=()"
   ]
  },
  {
   "cell_type": "code",
   "execution_count": 14,
   "id": "b90537d3",
   "metadata": {},
   "outputs": [
    {
     "data": {
      "text/plain": [
       "tuple"
      ]
     },
     "execution_count": 14,
     "metadata": {},
     "output_type": "execute_result"
    }
   ],
   "source": [
    "type(x)"
   ]
  },
  {
   "cell_type": "code",
   "execution_count": 15,
   "id": "500bcc1f",
   "metadata": {},
   "outputs": [],
   "source": [
    "y=tuple()"
   ]
  },
  {
   "cell_type": "code",
   "execution_count": 16,
   "id": "a5bc4cf4",
   "metadata": {},
   "outputs": [
    {
     "data": {
      "text/plain": [
       "tuple"
      ]
     },
     "execution_count": 16,
     "metadata": {},
     "output_type": "execute_result"
    }
   ],
   "source": [
    "type(y)"
   ]
  },
  {
   "cell_type": "code",
   "execution_count": 17,
   "id": "5753af7e",
   "metadata": {},
   "outputs": [],
   "source": [
    "data=('Wednesday','AIML',100,'ExcelR')"
   ]
  },
  {
   "cell_type": "code",
   "execution_count": 19,
   "id": "a44bcef5",
   "metadata": {},
   "outputs": [
    {
     "data": {
      "text/plain": [
       "tuple"
      ]
     },
     "execution_count": 19,
     "metadata": {},
     "output_type": "execute_result"
    }
   ],
   "source": [
    "type(data)"
   ]
  },
  {
   "cell_type": "code",
   "execution_count": 20,
   "id": "e8ea49ef",
   "metadata": {},
   "outputs": [
    {
     "data": {
      "text/plain": [
       "4"
      ]
     },
     "execution_count": 20,
     "metadata": {},
     "output_type": "execute_result"
    }
   ],
   "source": [
    "len(data)"
   ]
  },
  {
   "cell_type": "code",
   "execution_count": 21,
   "id": "245afcdc",
   "metadata": {},
   "outputs": [],
   "source": [
    "nums=(32,5,8,3,79,55,45)"
   ]
  },
  {
   "cell_type": "code",
   "execution_count": 22,
   "id": "18b99000",
   "metadata": {},
   "outputs": [
    {
     "data": {
      "text/plain": [
       "3"
      ]
     },
     "execution_count": 22,
     "metadata": {},
     "output_type": "execute_result"
    }
   ],
   "source": [
    "min(nums)"
   ]
  },
  {
   "cell_type": "code",
   "execution_count": 23,
   "id": "76285b0a",
   "metadata": {},
   "outputs": [
    {
     "data": {
      "text/plain": [
       "79"
      ]
     },
     "execution_count": 23,
     "metadata": {},
     "output_type": "execute_result"
    }
   ],
   "source": [
    "max(nums)"
   ]
  },
  {
   "cell_type": "code",
   "execution_count": 24,
   "id": "b96ca1a9",
   "metadata": {},
   "outputs": [
    {
     "data": {
      "text/plain": [
       "227"
      ]
     },
     "execution_count": 24,
     "metadata": {},
     "output_type": "execute_result"
    }
   ],
   "source": [
    "sum(nums)"
   ]
  },
  {
   "cell_type": "code",
   "execution_count": null,
   "id": "cebfc433",
   "metadata": {},
   "outputs": [],
   "source": [
    "# append, extend , insert, pop, remove, sort, reverse, copy, clear, index, count"
   ]
  },
  {
   "cell_type": "code",
   "execution_count": null,
   "id": "35a9f0db",
   "metadata": {},
   "outputs": [],
   "source": [
    "# index, count"
   ]
  },
  {
   "cell_type": "code",
   "execution_count": 25,
   "id": "dd2035eb",
   "metadata": {},
   "outputs": [
    {
     "name": "stdout",
     "output_type": "stream",
     "text": [
      "['__add__', '__class__', '__contains__', '__delattr__', '__dir__', '__doc__', '__eq__', '__format__', '__ge__', '__getattribute__', '__getitem__', '__getnewargs__', '__gt__', '__hash__', '__init__', '__init_subclass__', '__iter__', '__le__', '__len__', '__lt__', '__mul__', '__ne__', '__new__', '__reduce__', '__reduce_ex__', '__repr__', '__rmul__', '__setattr__', '__sizeof__', '__str__', '__subclasshook__', 'count', 'index']\n"
     ]
    }
   ],
   "source": [
    "print(dir(nums))"
   ]
  },
  {
   "cell_type": "code",
   "execution_count": 62,
   "id": "71086dc4",
   "metadata": {},
   "outputs": [],
   "source": [
    "mytuple=('Python','R','SAS','Hadoop','Spark','Java','Python','Java','AIML')"
   ]
  },
  {
   "cell_type": "code",
   "execution_count": 65,
   "id": "64294639",
   "metadata": {},
   "outputs": [
    {
     "data": {
      "text/plain": [
       "'AIML'"
      ]
     },
     "execution_count": 65,
     "metadata": {},
     "output_type": "execute_result"
    }
   ],
   "source": [
    "mytuple[-1]"
   ]
  },
  {
   "cell_type": "code",
   "execution_count": 27,
   "id": "d67085db",
   "metadata": {},
   "outputs": [
    {
     "data": {
      "text/plain": [
       "2"
      ]
     },
     "execution_count": 27,
     "metadata": {},
     "output_type": "execute_result"
    }
   ],
   "source": [
    "mytuple.count('Python')"
   ]
  },
  {
   "cell_type": "code",
   "execution_count": 29,
   "id": "5ca21e66",
   "metadata": {},
   "outputs": [
    {
     "data": {
      "text/plain": [
       "2"
      ]
     },
     "execution_count": 29,
     "metadata": {},
     "output_type": "execute_result"
    }
   ],
   "source": [
    "mytuple.index('SAS')"
   ]
  },
  {
   "cell_type": "code",
   "execution_count": null,
   "id": "66c9493f",
   "metadata": {},
   "outputs": [],
   "source": [
    "List is Mutable                         Tuple is immutable\n",
    "[]                                      ()\n",
    "List take more memory                   Tuple takes less memory\n",
    "List takes more time to process         Tuple takes less time to process"
   ]
  },
  {
   "cell_type": "code",
   "execution_count": 38,
   "id": "c6cc2638",
   "metadata": {},
   "outputs": [
    {
     "name": "stdout",
     "output_type": "stream",
     "text": [
      "LIST SIZE: 136\n",
      "TUPLE SIZE: 120\n"
     ]
    }
   ],
   "source": [
    "import sys\n",
    "\n",
    "print(\"LIST SIZE:\",sys.getsizeof([1,2,3,4,5,6,7,8,9,10]))\n",
    "print(\"TUPLE SIZE:\",sys.getsizeof((1,2,3,4,5,6,7,8,9,10)))"
   ]
  },
  {
   "cell_type": "code",
   "execution_count": 37,
   "id": "5a8c7e56",
   "metadata": {},
   "outputs": [
    {
     "name": "stdout",
     "output_type": "stream",
     "text": [
      "List takes: 80.64409999997224\n",
      "Tuple takes: 7.604899999932968\n"
     ]
    }
   ],
   "source": [
    "import timeit\n",
    "\n",
    "print(\"List takes:\",timeit.timeit(stmt=\"[1,2,3,4,5,6,7,8,9,10]\",number=1000000)*1000)\n",
    "print(\"Tuple takes:\",timeit.timeit(stmt=\"(1,2,3,4,5,6,7,8,9,10)\",number=1000000)*1000)"
   ]
  },
  {
   "cell_type": "code",
   "execution_count": null,
   "id": "8abb58e0",
   "metadata": {},
   "outputs": [],
   "source": [
    "HPC => High Performance Computers"
   ]
  },
  {
   "cell_type": "code",
   "execution_count": 39,
   "id": "8579953a",
   "metadata": {},
   "outputs": [],
   "source": [
    "x=[1,2,3,4,5,6,7,8,9,10]"
   ]
  },
  {
   "cell_type": "code",
   "execution_count": 40,
   "id": "7e02b540",
   "metadata": {},
   "outputs": [
    {
     "data": {
      "text/plain": [
       "list"
      ]
     },
     "execution_count": 40,
     "metadata": {},
     "output_type": "execute_result"
    }
   ],
   "source": [
    "type(x)"
   ]
  },
  {
   "cell_type": "code",
   "execution_count": 41,
   "id": "6f169b19",
   "metadata": {},
   "outputs": [],
   "source": [
    "y=tuple(x)"
   ]
  },
  {
   "cell_type": "code",
   "execution_count": 42,
   "id": "1e7841b0",
   "metadata": {},
   "outputs": [
    {
     "data": {
      "text/plain": [
       "tuple"
      ]
     },
     "execution_count": 42,
     "metadata": {},
     "output_type": "execute_result"
    }
   ],
   "source": [
    "type(y)"
   ]
  },
  {
   "cell_type": "code",
   "execution_count": 43,
   "id": "18f09c4f",
   "metadata": {},
   "outputs": [
    {
     "data": {
      "text/plain": [
       "(1, 2, 3, 4, 5, 6, 7, 8, 9, 10)"
      ]
     },
     "execution_count": 43,
     "metadata": {},
     "output_type": "execute_result"
    }
   ],
   "source": [
    "y"
   ]
  },
  {
   "cell_type": "code",
   "execution_count": 48,
   "id": "426e42b8",
   "metadata": {},
   "outputs": [],
   "source": [
    "x=(10)\n",
    "y=[10]"
   ]
  },
  {
   "cell_type": "code",
   "execution_count": 49,
   "id": "5c31cf6f",
   "metadata": {},
   "outputs": [
    {
     "data": {
      "text/plain": [
       "list"
      ]
     },
     "execution_count": 49,
     "metadata": {},
     "output_type": "execute_result"
    }
   ],
   "source": [
    "type(y)"
   ]
  },
  {
   "cell_type": "code",
   "execution_count": 50,
   "id": "15305171",
   "metadata": {},
   "outputs": [
    {
     "data": {
      "text/plain": [
       "int"
      ]
     },
     "execution_count": 50,
     "metadata": {},
     "output_type": "execute_result"
    }
   ],
   "source": [
    "type(x)"
   ]
  },
  {
   "cell_type": "code",
   "execution_count": 51,
   "id": "80359e6b",
   "metadata": {},
   "outputs": [],
   "source": [
    "city=('Chennai')"
   ]
  },
  {
   "cell_type": "code",
   "execution_count": 52,
   "id": "4eacc5d6",
   "metadata": {},
   "outputs": [
    {
     "data": {
      "text/plain": [
       "str"
      ]
     },
     "execution_count": 52,
     "metadata": {},
     "output_type": "execute_result"
    }
   ],
   "source": [
    "type(city)"
   ]
  },
  {
   "cell_type": "code",
   "execution_count": 53,
   "id": "6def60b4",
   "metadata": {},
   "outputs": [],
   "source": [
    "data=(10,20)"
   ]
  },
  {
   "cell_type": "code",
   "execution_count": 54,
   "id": "258d670c",
   "metadata": {},
   "outputs": [
    {
     "data": {
      "text/plain": [
       "tuple"
      ]
     },
     "execution_count": 54,
     "metadata": {},
     "output_type": "execute_result"
    }
   ],
   "source": [
    "type(data)"
   ]
  },
  {
   "cell_type": "code",
   "execution_count": 55,
   "id": "ce119ea9",
   "metadata": {},
   "outputs": [],
   "source": [
    "location=('Chennai','banagalore')"
   ]
  },
  {
   "cell_type": "code",
   "execution_count": 56,
   "id": "82a10248",
   "metadata": {},
   "outputs": [
    {
     "data": {
      "text/plain": [
       "tuple"
      ]
     },
     "execution_count": 56,
     "metadata": {},
     "output_type": "execute_result"
    }
   ],
   "source": [
    "type(location)"
   ]
  },
  {
   "cell_type": "code",
   "execution_count": 57,
   "id": "e82ca27c",
   "metadata": {},
   "outputs": [],
   "source": [
    "x=(10,)"
   ]
  },
  {
   "cell_type": "code",
   "execution_count": 58,
   "id": "14bf6329",
   "metadata": {},
   "outputs": [
    {
     "data": {
      "text/plain": [
       "tuple"
      ]
     },
     "execution_count": 58,
     "metadata": {},
     "output_type": "execute_result"
    }
   ],
   "source": [
    "type(x)"
   ]
  },
  {
   "cell_type": "code",
   "execution_count": 60,
   "id": "50372685",
   "metadata": {},
   "outputs": [],
   "source": [
    "c=('Chennai',)"
   ]
  },
  {
   "cell_type": "code",
   "execution_count": 61,
   "id": "0fe49d4f",
   "metadata": {},
   "outputs": [
    {
     "data": {
      "text/plain": [
       "tuple"
      ]
     },
     "execution_count": 61,
     "metadata": {},
     "output_type": "execute_result"
    }
   ],
   "source": [
    "type(c)"
   ]
  },
  {
   "cell_type": "markdown",
   "id": "4a408f5e",
   "metadata": {},
   "source": [
    "# DICTIONARY "
   ]
  },
  {
   "cell_type": "code",
   "execution_count": null,
   "id": "7b29f718",
   "metadata": {},
   "outputs": [],
   "source": [
    "key value pairs of element\n",
    "it is unordered array\n",
    "dictionary|hash|hash map|associative array"
   ]
  },
  {
   "cell_type": "code",
   "execution_count": 66,
   "id": "323e21f6",
   "metadata": {},
   "outputs": [],
   "source": [
    "mydata={}"
   ]
  },
  {
   "cell_type": "code",
   "execution_count": 67,
   "id": "0826c570",
   "metadata": {},
   "outputs": [
    {
     "data": {
      "text/plain": [
       "dict"
      ]
     },
     "execution_count": 67,
     "metadata": {},
     "output_type": "execute_result"
    }
   ],
   "source": [
    "type(mydata)"
   ]
  },
  {
   "cell_type": "code",
   "execution_count": 68,
   "id": "e1d20b23",
   "metadata": {},
   "outputs": [],
   "source": [
    "mydata={'today':'Wednesday','age':37,'tech':'python','company':'excelR'}"
   ]
  },
  {
   "cell_type": "code",
   "execution_count": 73,
   "id": "d1b52252",
   "metadata": {},
   "outputs": [
    {
     "data": {
      "text/plain": [
       "37"
      ]
     },
     "execution_count": 73,
     "metadata": {},
     "output_type": "execute_result"
    }
   ],
   "source": [
    "mydata['age']"
   ]
  },
  {
   "cell_type": "code",
   "execution_count": 70,
   "id": "0d0049ac",
   "metadata": {},
   "outputs": [
    {
     "data": {
      "text/plain": [
       "'Wednesday'"
      ]
     },
     "execution_count": 70,
     "metadata": {},
     "output_type": "execute_result"
    }
   ],
   "source": [
    "mydata['today']"
   ]
  },
  {
   "cell_type": "code",
   "execution_count": 71,
   "id": "d0da0a36",
   "metadata": {},
   "outputs": [
    {
     "data": {
      "text/plain": [
       "'python'"
      ]
     },
     "execution_count": 71,
     "metadata": {},
     "output_type": "execute_result"
    }
   ],
   "source": [
    "mydata['tech']"
   ]
  },
  {
   "cell_type": "code",
   "execution_count": 74,
   "id": "84e40513",
   "metadata": {},
   "outputs": [
    {
     "ename": "KeyError",
     "evalue": "'name'",
     "output_type": "error",
     "traceback": [
      "\u001b[1;31m---------------------------------------------------------------------------\u001b[0m",
      "\u001b[1;31mKeyError\u001b[0m                                  Traceback (most recent call last)",
      "Input \u001b[1;32mIn [74]\u001b[0m, in \u001b[0;36m<cell line: 1>\u001b[1;34m()\u001b[0m\n\u001b[1;32m----> 1\u001b[0m \u001b[43mmydata\u001b[49m\u001b[43m[\u001b[49m\u001b[38;5;124;43m'\u001b[39;49m\u001b[38;5;124;43mname\u001b[39;49m\u001b[38;5;124;43m'\u001b[39;49m\u001b[43m]\u001b[49m\n",
      "\u001b[1;31mKeyError\u001b[0m: 'name'"
     ]
    }
   ],
   "source": [
    "mydata['name']"
   ]
  },
  {
   "cell_type": "code",
   "execution_count": 75,
   "id": "f6b4c953",
   "metadata": {},
   "outputs": [
    {
     "data": {
      "text/plain": [
       "37"
      ]
     },
     "execution_count": 75,
     "metadata": {},
     "output_type": "execute_result"
    }
   ],
   "source": [
    "# get and setdefault\n",
    "\n",
    "mydata.get('age')"
   ]
  },
  {
   "cell_type": "code",
   "execution_count": 76,
   "id": "f8f44494",
   "metadata": {},
   "outputs": [
    {
     "data": {
      "text/plain": [
       "'excelR'"
      ]
     },
     "execution_count": 76,
     "metadata": {},
     "output_type": "execute_result"
    }
   ],
   "source": [
    "mydata.get('company')"
   ]
  },
  {
   "cell_type": "code",
   "execution_count": 78,
   "id": "9ec7b47f",
   "metadata": {},
   "outputs": [
    {
     "name": "stdout",
     "output_type": "stream",
     "text": [
      "None\n"
     ]
    }
   ],
   "source": [
    "print(mydata.get('name'))"
   ]
  },
  {
   "cell_type": "code",
   "execution_count": 81,
   "id": "06fcfaef",
   "metadata": {},
   "outputs": [
    {
     "data": {
      "text/plain": [
       "'Balamurugan'"
      ]
     },
     "execution_count": 81,
     "metadata": {},
     "output_type": "execute_result"
    }
   ],
   "source": [
    "mydata.get('name','Balamurugan')"
   ]
  },
  {
   "cell_type": "code",
   "execution_count": 82,
   "id": "19761589",
   "metadata": {},
   "outputs": [
    {
     "data": {
      "text/plain": [
       "{'today': 'Wednesday', 'age': 37, 'tech': 'python', 'company': 'excelR'}"
      ]
     },
     "execution_count": 82,
     "metadata": {},
     "output_type": "execute_result"
    }
   ],
   "source": [
    "mydata"
   ]
  },
  {
   "cell_type": "code",
   "execution_count": 83,
   "id": "7b7e4ca5",
   "metadata": {},
   "outputs": [
    {
     "data": {
      "text/plain": [
       "37"
      ]
     },
     "execution_count": 83,
     "metadata": {},
     "output_type": "execute_result"
    }
   ],
   "source": [
    "mydata.setdefault('age','Balamurugan')"
   ]
  },
  {
   "cell_type": "code",
   "execution_count": 84,
   "id": "a0e369b8",
   "metadata": {},
   "outputs": [
    {
     "data": {
      "text/plain": [
       "{'today': 'Wednesday', 'age': 37, 'tech': 'python', 'company': 'excelR'}"
      ]
     },
     "execution_count": 84,
     "metadata": {},
     "output_type": "execute_result"
    }
   ],
   "source": [
    "mydata"
   ]
  },
  {
   "cell_type": "code",
   "execution_count": 85,
   "id": "8601522d",
   "metadata": {},
   "outputs": [
    {
     "data": {
      "text/plain": [
       "'Balamurugan'"
      ]
     },
     "execution_count": 85,
     "metadata": {},
     "output_type": "execute_result"
    }
   ],
   "source": [
    "mydata.setdefault('name','Balamurugan')"
   ]
  },
  {
   "cell_type": "code",
   "execution_count": 87,
   "id": "400e7d5b",
   "metadata": {},
   "outputs": [
    {
     "name": "stdout",
     "output_type": "stream",
     "text": [
      "{'today': 'Wednesday', 'age': 37, 'tech': 'python', 'company': 'excelR', 'name': 'Balamurugan'}\n"
     ]
    }
   ],
   "source": [
    "print(mydata)"
   ]
  },
  {
   "cell_type": "code",
   "execution_count": 88,
   "id": "1d1f7702",
   "metadata": {},
   "outputs": [],
   "source": [
    "mydata['location']='Chennai'"
   ]
  },
  {
   "cell_type": "code",
   "execution_count": 89,
   "id": "709c53f6",
   "metadata": {},
   "outputs": [
    {
     "name": "stdout",
     "output_type": "stream",
     "text": [
      "{'today': 'Wednesday', 'age': 37, 'tech': 'python', 'company': 'excelR', 'name': 'Balamurugan', 'location': 'Chennai'}\n"
     ]
    }
   ],
   "source": [
    "print(mydata)"
   ]
  },
  {
   "cell_type": "code",
   "execution_count": 90,
   "id": "15d7ac92",
   "metadata": {},
   "outputs": [],
   "source": [
    "mydata['country']='India'"
   ]
  },
  {
   "cell_type": "code",
   "execution_count": 91,
   "id": "4bea40c5",
   "metadata": {},
   "outputs": [
    {
     "name": "stdout",
     "output_type": "stream",
     "text": [
      "{'today': 'Wednesday', 'age': 37, 'tech': 'python', 'company': 'excelR', 'name': 'Balamurugan', 'location': 'Chennai', 'country': 'India'}\n"
     ]
    }
   ],
   "source": [
    "print(mydata)"
   ]
  },
  {
   "cell_type": "code",
   "execution_count": 92,
   "id": "42b8eea9",
   "metadata": {},
   "outputs": [],
   "source": [
    "mydata['today']='Thursday'"
   ]
  },
  {
   "cell_type": "code",
   "execution_count": 93,
   "id": "7e07a972",
   "metadata": {},
   "outputs": [
    {
     "name": "stdout",
     "output_type": "stream",
     "text": [
      "{'today': 'Thursday', 'age': 37, 'tech': 'python', 'company': 'excelR', 'name': 'Balamurugan', 'location': 'Chennai', 'country': 'India'}\n"
     ]
    }
   ],
   "source": [
    "print(mydata)"
   ]
  },
  {
   "cell_type": "code",
   "execution_count": 94,
   "id": "8a114ead",
   "metadata": {},
   "outputs": [],
   "source": [
    "mydata.update({'salary':5000,'exp':10,'manager':'Nataraj','location':'Bangalore','tech':['Excel','Python','R','AI','Stats']})"
   ]
  },
  {
   "cell_type": "code",
   "execution_count": 95,
   "id": "7c3e9434",
   "metadata": {},
   "outputs": [
    {
     "name": "stdout",
     "output_type": "stream",
     "text": [
      "{'today': 'Thursday', 'age': 37, 'tech': ['Excel', 'Python', 'R', 'AI', 'Stats'], 'company': 'excelR', 'name': 'Balamurugan', 'location': 'Bangalore', 'country': 'India', 'salary': 5000, 'exp': 10, 'manager': 'Nataraj'}\n"
     ]
    }
   ],
   "source": [
    "print(mydata)"
   ]
  },
  {
   "cell_type": "code",
   "execution_count": 96,
   "id": "fe0a907c",
   "metadata": {},
   "outputs": [],
   "source": [
    "del mydata['today']"
   ]
  },
  {
   "cell_type": "code",
   "execution_count": 97,
   "id": "dbac7f4a",
   "metadata": {},
   "outputs": [
    {
     "name": "stdout",
     "output_type": "stream",
     "text": [
      "{'age': 37, 'tech': ['Excel', 'Python', 'R', 'AI', 'Stats'], 'company': 'excelR', 'name': 'Balamurugan', 'location': 'Bangalore', 'country': 'India', 'salary': 5000, 'exp': 10, 'manager': 'Nataraj'}\n"
     ]
    }
   ],
   "source": [
    "print(mydata)"
   ]
  },
  {
   "cell_type": "code",
   "execution_count": 98,
   "id": "62d183d3",
   "metadata": {},
   "outputs": [
    {
     "data": {
      "text/plain": [
       "10"
      ]
     },
     "execution_count": 98,
     "metadata": {},
     "output_type": "execute_result"
    }
   ],
   "source": [
    "mydata.pop('exp')"
   ]
  },
  {
   "cell_type": "code",
   "execution_count": 99,
   "id": "cda4f8eb",
   "metadata": {},
   "outputs": [
    {
     "name": "stdout",
     "output_type": "stream",
     "text": [
      "{'age': 37, 'tech': ['Excel', 'Python', 'R', 'AI', 'Stats'], 'company': 'excelR', 'name': 'Balamurugan', 'location': 'Bangalore', 'country': 'India', 'salary': 5000, 'manager': 'Nataraj'}\n"
     ]
    }
   ],
   "source": [
    "print(mydata)"
   ]
  },
  {
   "cell_type": "code",
   "execution_count": 100,
   "id": "b5d760c4",
   "metadata": {},
   "outputs": [
    {
     "data": {
      "text/plain": [
       "('manager', 'Nataraj')"
      ]
     },
     "execution_count": 100,
     "metadata": {},
     "output_type": "execute_result"
    }
   ],
   "source": [
    "mydata.popitem()"
   ]
  },
  {
   "cell_type": "code",
   "execution_count": 101,
   "id": "3eb09542",
   "metadata": {},
   "outputs": [
    {
     "name": "stdout",
     "output_type": "stream",
     "text": [
      "{'age': 37, 'tech': ['Excel', 'Python', 'R', 'AI', 'Stats'], 'company': 'excelR', 'name': 'Balamurugan', 'location': 'Bangalore', 'country': 'India', 'salary': 5000}\n"
     ]
    }
   ],
   "source": [
    "print(mydata)"
   ]
  },
  {
   "cell_type": "code",
   "execution_count": 102,
   "id": "7e1b7a07",
   "metadata": {},
   "outputs": [
    {
     "data": {
      "text/plain": [
       "5000"
      ]
     },
     "execution_count": 102,
     "metadata": {},
     "output_type": "execute_result"
    }
   ],
   "source": [
    "mydata.pop('salary')"
   ]
  },
  {
   "cell_type": "code",
   "execution_count": 103,
   "id": "45a8d10f",
   "metadata": {},
   "outputs": [
    {
     "name": "stdout",
     "output_type": "stream",
     "text": [
      "{'age': 37, 'tech': ['Excel', 'Python', 'R', 'AI', 'Stats'], 'company': 'excelR', 'name': 'Balamurugan', 'location': 'Bangalore', 'country': 'India'}\n"
     ]
    }
   ],
   "source": [
    "print(mydata)"
   ]
  },
  {
   "cell_type": "code",
   "execution_count": 105,
   "id": "d190167c",
   "metadata": {},
   "outputs": [
    {
     "data": {
      "text/plain": [
       "'Excel'"
      ]
     },
     "execution_count": 105,
     "metadata": {},
     "output_type": "execute_result"
    }
   ],
   "source": [
    "mydata['tech'].pop(0)"
   ]
  },
  {
   "cell_type": "code",
   "execution_count": 106,
   "id": "94ad7d4c",
   "metadata": {},
   "outputs": [
    {
     "name": "stdout",
     "output_type": "stream",
     "text": [
      "{'age': 37, 'tech': ['Python', 'R', 'AI', 'Stats'], 'company': 'excelR', 'name': 'Balamurugan', 'location': 'Bangalore', 'country': 'India'}\n"
     ]
    }
   ],
   "source": [
    "print(mydata)"
   ]
  },
  {
   "cell_type": "code",
   "execution_count": null,
   "id": "5c875a42",
   "metadata": {},
   "outputs": [],
   "source": [
    "#keys, values, items"
   ]
  },
  {
   "cell_type": "code",
   "execution_count": 107,
   "id": "d52a3954",
   "metadata": {},
   "outputs": [
    {
     "data": {
      "text/plain": [
       "{'age': 37,\n",
       " 'tech': ['Python', 'R', 'AI', 'Stats'],\n",
       " 'company': 'excelR',\n",
       " 'name': 'Balamurugan',\n",
       " 'location': 'Bangalore',\n",
       " 'country': 'India'}"
      ]
     },
     "execution_count": 107,
     "metadata": {},
     "output_type": "execute_result"
    }
   ],
   "source": [
    "mydata"
   ]
  },
  {
   "cell_type": "code",
   "execution_count": 108,
   "id": "5f0c8209",
   "metadata": {},
   "outputs": [
    {
     "data": {
      "text/plain": [
       "dict_keys(['age', 'tech', 'company', 'name', 'location', 'country'])"
      ]
     },
     "execution_count": 108,
     "metadata": {},
     "output_type": "execute_result"
    }
   ],
   "source": [
    "mydata.keys()"
   ]
  },
  {
   "cell_type": "code",
   "execution_count": 109,
   "id": "d3ad99b6",
   "metadata": {},
   "outputs": [
    {
     "data": {
      "text/plain": [
       "dict_values([37, ['Python', 'R', 'AI', 'Stats'], 'excelR', 'Balamurugan', 'Bangalore', 'India'])"
      ]
     },
     "execution_count": 109,
     "metadata": {},
     "output_type": "execute_result"
    }
   ],
   "source": [
    "mydata.values()"
   ]
  },
  {
   "cell_type": "code",
   "execution_count": 110,
   "id": "e663efec",
   "metadata": {},
   "outputs": [
    {
     "data": {
      "text/plain": [
       "dict_items([('age', 37), ('tech', ['Python', 'R', 'AI', 'Stats']), ('company', 'excelR'), ('name', 'Balamurugan'), ('location', 'Bangalore'), ('country', 'India')])"
      ]
     },
     "execution_count": 110,
     "metadata": {},
     "output_type": "execute_result"
    }
   ],
   "source": [
    "mydata.items()"
   ]
  },
  {
   "cell_type": "code",
   "execution_count": 122,
   "id": "d4691cdb",
   "metadata": {},
   "outputs": [
    {
     "data": {
      "text/plain": [
       "['Python', 'R', 'AI', 'Stats']"
      ]
     },
     "execution_count": 122,
     "metadata": {},
     "output_type": "execute_result"
    }
   ],
   "source": [
    "mydata.pop('tech')"
   ]
  },
  {
   "cell_type": "code",
   "execution_count": 126,
   "id": "62125865",
   "metadata": {},
   "outputs": [
    {
     "name": "stdout",
     "output_type": "stream",
     "text": [
      "company ===> excelR\n",
      "name ===> Balamurugan\n",
      "location ===> Bangalore\n",
      "country ===> India\n"
     ]
    }
   ],
   "source": [
    "for k in mydata.keys():\n",
    "    print(k +\" ===> \"+ str(mydata[k]))"
   ]
  },
  {
   "cell_type": "code",
   "execution_count": 127,
   "id": "8ebcebac",
   "metadata": {},
   "outputs": [],
   "source": [
    "mydata['age']=37"
   ]
  },
  {
   "cell_type": "code",
   "execution_count": 132,
   "id": "75321454",
   "metadata": {},
   "outputs": [
    {
     "name": "stdout",
     "output_type": "stream",
     "text": [
      "excelR\n",
      "Balamurugan\n",
      "Bangalore\n",
      "India\n",
      "37\n"
     ]
    }
   ],
   "source": [
    "for k in mydata.keys():\n",
    "    print(mydata[k] )"
   ]
  },
  {
   "cell_type": "code",
   "execution_count": 134,
   "id": "05ea3e7f",
   "metadata": {},
   "outputs": [
    {
     "name": "stdout",
     "output_type": "stream",
     "text": [
      "excelR\n",
      "Balamurugan\n",
      "Bangalore\n",
      "India\n",
      "37\n"
     ]
    }
   ],
   "source": [
    "for v in mydata.values():\n",
    "    print(mydata[v])"
   ]
  },
  {
   "cell_type": "code",
   "execution_count": 135,
   "id": "8a0d591d",
   "metadata": {},
   "outputs": [
    {
     "data": {
      "text/plain": [
       "dict_items([('company', 'excelR'), ('name', 'Balamurugan'), ('location', 'Bangalore'), ('country', 'India'), ('age', 37)])"
      ]
     },
     "execution_count": 135,
     "metadata": {},
     "output_type": "execute_result"
    }
   ],
   "source": [
    "mydata.items()"
   ]
  },
  {
   "cell_type": "code",
   "execution_count": 138,
   "id": "16d707df",
   "metadata": {},
   "outputs": [
    {
     "name": "stdout",
     "output_type": "stream",
     "text": [
      "company excelR\n",
      "name Balamurugan\n",
      "location Bangalore\n",
      "country India\n",
      "age 37\n"
     ]
    }
   ],
   "source": [
    "for x , y in mydata.items():\n",
    "    print(x, y)"
   ]
  },
  {
   "cell_type": "code",
   "execution_count": 139,
   "id": "efb7eddb",
   "metadata": {},
   "outputs": [
    {
     "name": "stdout",
     "output_type": "stream",
     "text": [
      "['__class__', '__contains__', '__delattr__', '__delitem__', '__dir__', '__doc__', '__eq__', '__format__', '__ge__', '__getattribute__', '__getitem__', '__gt__', '__hash__', '__init__', '__init_subclass__', '__iter__', '__le__', '__len__', '__lt__', '__ne__', '__new__', '__reduce__', '__reduce_ex__', '__repr__', '__reversed__', '__setattr__', '__setitem__', '__sizeof__', '__str__', '__subclasshook__', 'clear', 'copy', 'fromkeys', 'get', 'items', 'keys', 'pop', 'popitem', 'setdefault', 'update', 'values']\n"
     ]
    }
   ],
   "source": [
    "print(dir(mydata))"
   ]
  },
  {
   "cell_type": "code",
   "execution_count": 168,
   "id": "e039d19d",
   "metadata": {},
   "outputs": [],
   "source": [
    "empdata={'fname','lname','age','degree','exp','gender','address'}"
   ]
  },
  {
   "cell_type": "code",
   "execution_count": 169,
   "id": "f75096c5",
   "metadata": {},
   "outputs": [],
   "source": [
    "emp_info=dict.fromkeys(empdata,'ExcelR')"
   ]
  },
  {
   "cell_type": "code",
   "execution_count": 170,
   "id": "1566e03a",
   "metadata": {},
   "outputs": [
    {
     "data": {
      "text/plain": [
       "{'degree': 'ExcelR',\n",
       " 'exp': 'ExcelR',\n",
       " 'lname': 'ExcelR',\n",
       " 'age': 'ExcelR',\n",
       " 'address': 'ExcelR',\n",
       " 'gender': 'ExcelR',\n",
       " 'fname': 'ExcelR'}"
      ]
     },
     "execution_count": 170,
     "metadata": {},
     "output_type": "execute_result"
    }
   ],
   "source": [
    "emp_info"
   ]
  },
  {
   "cell_type": "code",
   "execution_count": 145,
   "id": "25b2fbd8",
   "metadata": {},
   "outputs": [],
   "source": [
    "sample_dict={\n",
    "    'name':'Raghul Ramesh',\n",
    "    'age':37,\n",
    "    'exp':{\n",
    "        'infosys':['Python','Perl','Java'],\n",
    "        'Paypal':['Python','AIML','AWS'],\n",
    "        'walmart':['AIML',['AWS','GCP']],\n",
    "        'Shell':['BigData','Snowflakes'],\n",
    "        'Amazon':['Bigdata','AWS']\n",
    "    }\n",
    "}"
   ]
  },
  {
   "cell_type": "code",
   "execution_count": 150,
   "id": "a63f3bf9",
   "metadata": {},
   "outputs": [
    {
     "data": {
      "text/plain": [
       "'GCP'"
      ]
     },
     "execution_count": 150,
     "metadata": {},
     "output_type": "execute_result"
    }
   ],
   "source": [
    "sample_dict.get('exp').get('walmart')[1][-1]"
   ]
  },
  {
   "cell_type": "code",
   "execution_count": 153,
   "id": "a55d80ad",
   "metadata": {},
   "outputs": [],
   "source": [
    "myset=set()"
   ]
  },
  {
   "cell_type": "code",
   "execution_count": 154,
   "id": "cc9c6c65",
   "metadata": {},
   "outputs": [
    {
     "data": {
      "text/plain": [
       "set"
      ]
     },
     "execution_count": 154,
     "metadata": {},
     "output_type": "execute_result"
    }
   ],
   "source": [
    "type(myset)"
   ]
  },
  {
   "cell_type": "code",
   "execution_count": 155,
   "id": "e91996c1",
   "metadata": {},
   "outputs": [],
   "source": [
    "myset={1,3,4,2,3,4,3,2,5,6,5,4,9,10,6,8,7,4,2,5,3,1,3,1,1,1}"
   ]
  },
  {
   "cell_type": "code",
   "execution_count": 156,
   "id": "ce2b1a2e",
   "metadata": {},
   "outputs": [
    {
     "data": {
      "text/plain": [
       "{1, 2, 3, 4, 5, 6, 7, 8, 9, 10}"
      ]
     },
     "execution_count": 156,
     "metadata": {},
     "output_type": "execute_result"
    }
   ],
   "source": [
    "myset"
   ]
  },
  {
   "cell_type": "code",
   "execution_count": 157,
   "id": "dfee0f59",
   "metadata": {},
   "outputs": [],
   "source": [
    "myset.add(11)"
   ]
  },
  {
   "cell_type": "code",
   "execution_count": 158,
   "id": "f35ff30c",
   "metadata": {},
   "outputs": [
    {
     "data": {
      "text/plain": [
       "{1, 2, 3, 4, 5, 6, 7, 8, 9, 10, 11}"
      ]
     },
     "execution_count": 158,
     "metadata": {},
     "output_type": "execute_result"
    }
   ],
   "source": [
    "myset"
   ]
  },
  {
   "cell_type": "code",
   "execution_count": 159,
   "id": "11242931",
   "metadata": {},
   "outputs": [],
   "source": [
    "myset.add(15)"
   ]
  },
  {
   "cell_type": "code",
   "execution_count": 160,
   "id": "99bb86c4",
   "metadata": {},
   "outputs": [
    {
     "data": {
      "text/plain": [
       "{1, 2, 3, 4, 5, 6, 7, 8, 9, 10, 11, 15}"
      ]
     },
     "execution_count": 160,
     "metadata": {},
     "output_type": "execute_result"
    }
   ],
   "source": [
    "myset"
   ]
  },
  {
   "cell_type": "code",
   "execution_count": 161,
   "id": "fc97741d",
   "metadata": {},
   "outputs": [],
   "source": [
    "myset.add(13)"
   ]
  },
  {
   "cell_type": "code",
   "execution_count": 162,
   "id": "9c0cc055",
   "metadata": {},
   "outputs": [
    {
     "data": {
      "text/plain": [
       "{1, 2, 3, 4, 5, 6, 7, 8, 9, 10, 11, 13, 15}"
      ]
     },
     "execution_count": 162,
     "metadata": {},
     "output_type": "execute_result"
    }
   ],
   "source": [
    "myset"
   ]
  },
  {
   "cell_type": "code",
   "execution_count": 163,
   "id": "161a3bab",
   "metadata": {},
   "outputs": [],
   "source": [
    "myset.add(10)"
   ]
  },
  {
   "cell_type": "code",
   "execution_count": 164,
   "id": "cc08ba5c",
   "metadata": {},
   "outputs": [
    {
     "data": {
      "text/plain": [
       "{1, 2, 3, 4, 5, 6, 7, 8, 9, 10, 11, 13, 15}"
      ]
     },
     "execution_count": 164,
     "metadata": {},
     "output_type": "execute_result"
    }
   ],
   "source": [
    "myset"
   ]
  },
  {
   "cell_type": "code",
   "execution_count": 173,
   "id": "d0de727b",
   "metadata": {},
   "outputs": [
    {
     "name": "stdout",
     "output_type": "stream",
     "text": [
      "['__and__', '__class__', '__contains__', '__delattr__', '__dir__', '__doc__', '__eq__', '__format__', '__ge__', '__getattribute__', '__gt__', '__hash__', '__iand__', '__init__', '__init_subclass__', '__ior__', '__isub__', '__iter__', '__ixor__', '__le__', '__len__', '__lt__', '__ne__', '__new__', '__or__', '__rand__', '__reduce__', '__reduce_ex__', '__repr__', '__ror__', '__rsub__', '__rxor__', '__setattr__', '__sizeof__', '__str__', '__sub__', '__subclasshook__', '__xor__', 'add', 'clear', 'copy', 'difference', 'difference_update', 'discard', 'intersection', 'intersection_update', 'isdisjoint', 'issubset', 'issuperset', 'pop', 'remove', 'symmetric_difference', 'symmetric_difference_update', 'union', 'update']\n"
     ]
    }
   ],
   "source": [
    "print(dir(myset))"
   ]
  },
  {
   "cell_type": "code",
   "execution_count": 175,
   "id": "0b75e73e",
   "metadata": {},
   "outputs": [
    {
     "data": {
      "text/plain": [
       "{1, 2, 3, 4, 5, 6, 7, 8, 9, 10, 11, 13, 15}"
      ]
     },
     "execution_count": 175,
     "metadata": {},
     "output_type": "execute_result"
    }
   ],
   "source": [
    "myset"
   ]
  },
  {
   "cell_type": "code",
   "execution_count": 179,
   "id": "8233d3b3",
   "metadata": {},
   "outputs": [
    {
     "data": {
      "text/plain": [
       "15"
      ]
     },
     "execution_count": 179,
     "metadata": {},
     "output_type": "execute_result"
    }
   ],
   "source": [
    "list(myset)[-1]"
   ]
  },
  {
   "cell_type": "code",
   "execution_count": 183,
   "id": "44815344",
   "metadata": {},
   "outputs": [
    {
     "name": "stdout",
     "output_type": "stream",
     "text": [
      "Enter a value and exit for come out:EXIT\n"
     ]
    }
   ],
   "source": [
    "while True:\n",
    "    data=input(\"Enter a value and exit for come out:\")\n",
    "    if data.casefold()=='exit':\n",
    "        break\n",
    "    print(\"Value:\", data)"
   ]
  },
  {
   "cell_type": "code",
   "execution_count": null,
   "id": "660e64ae",
   "metadata": {},
   "outputs": [],
   "source": []
  }
 ],
 "metadata": {
  "kernelspec": {
   "display_name": "Python 3 (ipykernel)",
   "language": "python",
   "name": "python3"
  },
  "language_info": {
   "codemirror_mode": {
    "name": "ipython",
    "version": 3
   },
   "file_extension": ".py",
   "mimetype": "text/x-python",
   "name": "python",
   "nbconvert_exporter": "python",
   "pygments_lexer": "ipython3",
   "version": "3.8.10"
  }
 },
 "nbformat": 4,
 "nbformat_minor": 5
}
