{
 "cells": [
  {
   "cell_type": "code",
   "execution_count": 1,
   "id": "d7fb63dc",
   "metadata": {},
   "outputs": [
    {
     "data": {
      "text/plain": [
       "11"
      ]
     },
     "execution_count": 1,
     "metadata": {},
     "output_type": "execute_result"
    }
   ],
   "source": [
    "5+6   # Run"
   ]
  },
  {
   "cell_type": "code",
   "execution_count": 3,
   "id": "485418a9",
   "metadata": {},
   "outputs": [
    {
     "data": {
      "text/plain": [
       "30"
      ]
     },
     "execution_count": 3,
     "metadata": {},
     "output_type": "execute_result"
    }
   ],
   "source": [
    "5*6   # shift + enter"
   ]
  },
  {
   "cell_type": "code",
   "execution_count": 4,
   "id": "0b5221c0",
   "metadata": {},
   "outputs": [
    {
     "data": {
      "text/plain": [
       "-1"
      ]
     },
     "execution_count": 4,
     "metadata": {},
     "output_type": "execute_result"
    }
   ],
   "source": [
    "5-6   # ctrl + enter"
   ]
  },
  {
   "cell_type": "markdown",
   "id": "30c13eb4",
   "metadata": {},
   "source": [
    "# Comments"
   ]
  },
  {
   "cell_type": "code",
   "execution_count": 1,
   "id": "f3c44b43",
   "metadata": {},
   "outputs": [
    {
     "data": {
      "text/plain": [
       "30"
      ]
     },
     "execution_count": 1,
     "metadata": {},
     "output_type": "execute_result"
    }
   ],
   "source": [
    "# Single line comment\n",
    "\n",
    "# is used for commenting a line \n",
    "\n",
    "#add two numbers\n",
    "10+20"
   ]
  },
  {
   "cell_type": "code",
   "execution_count": 2,
   "id": "2dee1fa2",
   "metadata": {},
   "outputs": [
    {
     "data": {
      "text/plain": [
       "30"
      ]
     },
     "execution_count": 2,
     "metadata": {},
     "output_type": "execute_result"
    }
   ],
   "source": [
    "\"\"\"\n",
    "Line1\n",
    "Line2\n",
    ".\n",
    ".\n",
    ".\n",
    "LineN\n",
    "\"\"\"\n",
    "\n",
    "5*6"
   ]
  },
  {
   "cell_type": "markdown",
   "id": "9818e88f",
   "metadata": {},
   "source": [
    "# QUOTES"
   ]
  },
  {
   "cell_type": "code",
   "execution_count": null,
   "id": "472f6412",
   "metadata": {},
   "outputs": [],
   "source": [
    "'\n",
    "\"\n",
    "'''  | \"\"\""
   ]
  },
  {
   "cell_type": "code",
   "execution_count": 3,
   "id": "31cc4d99",
   "metadata": {},
   "outputs": [
    {
     "name": "stdout",
     "output_type": "stream",
     "text": [
      "Raghul Ramesh\n"
     ]
    }
   ],
   "source": [
    "name='Raghul Ramesh'\n",
    "print(name)"
   ]
  },
  {
   "cell_type": "code",
   "execution_count": 4,
   "id": "70ff20b6",
   "metadata": {},
   "outputs": [
    {
     "name": "stdout",
     "output_type": "stream",
     "text": [
      "Raghul Ramesh\n"
     ]
    }
   ],
   "source": [
    "name=\"Raghul Ramesh\"\n",
    "print(name)"
   ]
  },
  {
   "cell_type": "code",
   "execution_count": 6,
   "id": "9fa53eb8",
   "metadata": {},
   "outputs": [],
   "source": [
    "college=\"st's joseph engg college\""
   ]
  },
  {
   "cell_type": "code",
   "execution_count": 7,
   "id": "2a92f15d",
   "metadata": {},
   "outputs": [
    {
     "name": "stdout",
     "output_type": "stream",
     "text": [
      "st's joseph engg college\n"
     ]
    }
   ],
   "source": [
    "print(college)"
   ]
  },
  {
   "cell_type": "code",
   "execution_count": 8,
   "id": "a175b2ae",
   "metadata": {},
   "outputs": [],
   "source": [
    "college='st\\'s joseph engg college'"
   ]
  },
  {
   "cell_type": "code",
   "execution_count": 9,
   "id": "f5571080",
   "metadata": {},
   "outputs": [
    {
     "name": "stdout",
     "output_type": "stream",
     "text": [
      "st's joseph engg college\n"
     ]
    }
   ],
   "source": [
    "print(college)"
   ]
  },
  {
   "cell_type": "code",
   "execution_count": 11,
   "id": "5bd157b2",
   "metadata": {},
   "outputs": [],
   "source": [
    "about='Python support both \"Porcedural\" as well as \"OOPS\"'"
   ]
  },
  {
   "cell_type": "code",
   "execution_count": 12,
   "id": "b21fdaa4",
   "metadata": {},
   "outputs": [
    {
     "name": "stdout",
     "output_type": "stream",
     "text": [
      "Python support both \"Porcedural\" as well as \"OOPS\"\n"
     ]
    }
   ],
   "source": [
    "print(about)"
   ]
  },
  {
   "cell_type": "code",
   "execution_count": 17,
   "id": "9119efdd",
   "metadata": {},
   "outputs": [],
   "source": [
    "about='Python support both \\'Porcedural\\' as well as \"OOPS\"'"
   ]
  },
  {
   "cell_type": "code",
   "execution_count": 18,
   "id": "6d09832e",
   "metadata": {},
   "outputs": [
    {
     "name": "stdout",
     "output_type": "stream",
     "text": [
      "Python support both 'Porcedural' as well as \"OOPS\"\n"
     ]
    }
   ],
   "source": [
    "print(about)"
   ]
  },
  {
   "cell_type": "code",
   "execution_count": 26,
   "id": "434868b1",
   "metadata": {},
   "outputs": [],
   "source": [
    "about_python=\"\"\"Python is a high level, dynamic, procedural and object orietnted programming language\n",
    "It was developed by \"GUIDO VAN ROUSSUM\"\n",
    "He is from NETHERLAND\n",
    "It was releaed in to market on early 1990 \"\"\""
   ]
  },
  {
   "cell_type": "code",
   "execution_count": 30,
   "id": "c1e77613",
   "metadata": {},
   "outputs": [
    {
     "name": "stdout",
     "output_type": "stream",
     "text": [
      "Python is a high level, dynamic, procedural and object orietnted programming language\n",
      "It was developed by \"GUIDO VAN ROUSSUM\"\n",
      "He is from NETHERLAND\n",
      "It was releaed in to market on early 1990 \n"
     ]
    }
   ],
   "source": [
    "print(about_python)"
   ]
  },
  {
   "cell_type": "code",
   "execution_count": 7,
   "id": "369f1cf9",
   "metadata": {},
   "outputs": [
    {
     "name": "stdout",
     "output_type": "stream",
     "text": [
      "You can vote\n",
      "It is valid only for indian citizen\n",
      "Please check your own contry standards if you are from other country\n",
      "Out of conditional statement\n"
     ]
    }
   ],
   "source": [
    "age=100\n",
    "if age>18 and age<=100:\n",
    "    print(\"You can vote\")\n",
    "    print(\"It is valid only for indian citizen\")\n",
    "    print(\"Please check your own contry standards if you are from other country\")\n",
    "elif age<0 or age>100:\n",
    "    print(\"Invalid age. Please check\")\n",
    "elif age==0:\n",
    "    print(\"You are a just born baby!\")\n",
    "else:\n",
    "    print(\"You cannot vote\")\n",
    "    print(\"Because you are less than 18 years old\")\n",
    "print(\"Out of conditional statement\")"
   ]
  },
  {
   "cell_type": "code",
   "execution_count": 10,
   "id": "bbac3ccf",
   "metadata": {},
   "outputs": [
    {
     "name": "stdout",
     "output_type": "stream",
     "text": [
      "can't go for voting\n"
     ]
    }
   ],
   "source": [
    "age=3\n",
    "country='India'\n",
    "\n",
    "if country == 'India':\n",
    "    if age > 18:\n",
    "        print(\"You are eligible to vote\")\n",
    "    else:\n",
    "        print(\"can't go for voting\")\n",
    "else:\n",
    "    print(\"Please follow your own contry:{} standard\".format(country))"
   ]
  },
  {
   "cell_type": "code",
   "execution_count": 15,
   "id": "d3027a9f",
   "metadata": {},
   "outputs": [
    {
     "name": "stdout",
     "output_type": "stream",
     "text": [
      "-2\n"
     ]
    }
   ],
   "source": [
    "age=-2\n",
    "if age>0:\n",
    "    print(\"Your age is:\",age)\n",
    "    \n",
    "elif age==100:\n",
    "    print(\"Invalid age\")\n",
    "    \n",
    "else:\n",
    "    print(age)"
   ]
  },
  {
   "cell_type": "code",
   "execution_count": null,
   "id": "ca7bcc87",
   "metadata": {},
   "outputs": [],
   "source": []
  }
 ],
 "metadata": {
  "kernelspec": {
   "display_name": "Python 3 (ipykernel)",
   "language": "python",
   "name": "python3"
  },
  "language_info": {
   "codemirror_mode": {
    "name": "ipython",
    "version": 3
   },
   "file_extension": ".py",
   "mimetype": "text/x-python",
   "name": "python",
   "nbconvert_exporter": "python",
   "pygments_lexer": "ipython3",
   "version": "3.8.10"
  }
 },
 "nbformat": 4,
 "nbformat_minor": 5
}
