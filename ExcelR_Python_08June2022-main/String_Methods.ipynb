{
 "cells": [
  {
   "cell_type": "code",
   "execution_count": 1,
   "id": "ce51f98e",
   "metadata": {},
   "outputs": [],
   "source": [
    "name='Raghul Ramesh'"
   ]
  },
  {
   "cell_type": "code",
   "execution_count": 2,
   "id": "e9151457",
   "metadata": {},
   "outputs": [
    {
     "data": {
      "text/plain": [
       "'Raghul Ramesh'"
      ]
     },
     "execution_count": 2,
     "metadata": {},
     "output_type": "execute_result"
    }
   ],
   "source": [
    "name"
   ]
  },
  {
   "cell_type": "code",
   "execution_count": 3,
   "id": "21e830fc",
   "metadata": {},
   "outputs": [
    {
     "data": {
      "text/plain": [
       "'R'"
      ]
     },
     "execution_count": 3,
     "metadata": {},
     "output_type": "execute_result"
    }
   ],
   "source": [
    "name[0]"
   ]
  },
  {
   "cell_type": "code",
   "execution_count": 4,
   "id": "18f10327",
   "metadata": {},
   "outputs": [
    {
     "data": {
      "text/plain": [
       "'h'"
      ]
     },
     "execution_count": 4,
     "metadata": {},
     "output_type": "execute_result"
    }
   ],
   "source": [
    "name[12]"
   ]
  },
  {
   "cell_type": "code",
   "execution_count": 5,
   "id": "86bfd3c1",
   "metadata": {},
   "outputs": [
    {
     "data": {
      "text/plain": [
       "'h'"
      ]
     },
     "execution_count": 5,
     "metadata": {},
     "output_type": "execute_result"
    }
   ],
   "source": [
    "name[-1]"
   ]
  },
  {
   "cell_type": "code",
   "execution_count": 6,
   "id": "cf83ea90",
   "metadata": {},
   "outputs": [
    {
     "data": {
      "text/plain": [
       "'s'"
      ]
     },
     "execution_count": 6,
     "metadata": {},
     "output_type": "execute_result"
    }
   ],
   "source": [
    "name[-2]"
   ]
  },
  {
   "cell_type": "code",
   "execution_count": 7,
   "id": "f12033dd",
   "metadata": {},
   "outputs": [
    {
     "data": {
      "text/plain": [
       "'Raghul Ramesh'"
      ]
     },
     "execution_count": 7,
     "metadata": {},
     "output_type": "execute_result"
    }
   ],
   "source": [
    "name"
   ]
  },
  {
   "cell_type": "code",
   "execution_count": 8,
   "id": "8346eb85",
   "metadata": {},
   "outputs": [
    {
     "data": {
      "text/plain": [
       "'Raghul'"
      ]
     },
     "execution_count": 8,
     "metadata": {},
     "output_type": "execute_result"
    }
   ],
   "source": [
    "name[0:6]"
   ]
  },
  {
   "cell_type": "code",
   "execution_count": 9,
   "id": "0fde3d06",
   "metadata": {},
   "outputs": [
    {
     "data": {
      "text/plain": [
       "'Ramesh'"
      ]
     },
     "execution_count": 9,
     "metadata": {},
     "output_type": "execute_result"
    }
   ],
   "source": [
    "name[7:13]"
   ]
  },
  {
   "cell_type": "code",
   "execution_count": 10,
   "id": "b9092daa",
   "metadata": {},
   "outputs": [
    {
     "data": {
      "text/plain": [
       "'Raghul'"
      ]
     },
     "execution_count": 10,
     "metadata": {},
     "output_type": "execute_result"
    }
   ],
   "source": [
    "name[:6]"
   ]
  },
  {
   "cell_type": "code",
   "execution_count": 11,
   "id": "fffd0f18",
   "metadata": {},
   "outputs": [
    {
     "data": {
      "text/plain": [
       "'Ramesh'"
      ]
     },
     "execution_count": 11,
     "metadata": {},
     "output_type": "execute_result"
    }
   ],
   "source": [
    "name[7:]"
   ]
  },
  {
   "cell_type": "code",
   "execution_count": 12,
   "id": "f2f8c97e",
   "metadata": {},
   "outputs": [
    {
     "data": {
      "text/plain": [
       "13"
      ]
     },
     "execution_count": 12,
     "metadata": {},
     "output_type": "execute_result"
    }
   ],
   "source": [
    "len(name)"
   ]
  },
  {
   "cell_type": "code",
   "execution_count": 13,
   "id": "fcfc7a2b",
   "metadata": {},
   "outputs": [
    {
     "data": {
      "text/plain": [
       "str"
      ]
     },
     "execution_count": 13,
     "metadata": {},
     "output_type": "execute_result"
    }
   ],
   "source": [
    "type(name)"
   ]
  },
  {
   "cell_type": "code",
   "execution_count": 15,
   "id": "c8d09d45",
   "metadata": {},
   "outputs": [
    {
     "name": "stdout",
     "output_type": "stream",
     "text": [
      "['__add__', '__class__', '__contains__', '__delattr__', '__dir__', '__doc__', '__eq__', '__format__', '__ge__', '__getattribute__', '__getitem__', '__getnewargs__', '__gt__', '__hash__', '__init__', '__init_subclass__', '__iter__', '__le__', '__len__', '__lt__', '__mod__', '__mul__', '__ne__', '__new__', '__reduce__', '__reduce_ex__', '__repr__', '__rmod__', '__rmul__', '__setattr__', '__sizeof__', '__str__', '__subclasshook__', 'capitalize', 'casefold', 'center', 'count', 'encode', 'endswith', 'expandtabs', 'find', 'format', 'format_map', 'index', 'isalnum', 'isalpha', 'isascii', 'isdecimal', 'isdigit', 'isidentifier', 'islower', 'isnumeric', 'isprintable', 'isspace', 'istitle', 'isupper', 'join', 'ljust', 'lower', 'lstrip', 'maketrans', 'partition', 'replace', 'rfind', 'rindex', 'rjust', 'rpartition', 'rsplit', 'rstrip', 'split', 'splitlines', 'startswith', 'strip', 'swapcase', 'title', 'translate', 'upper', 'zfill']\n"
     ]
    }
   ],
   "source": [
    "print(dir(name))"
   ]
  },
  {
   "cell_type": "code",
   "execution_count": 16,
   "id": "675b38bd",
   "metadata": {},
   "outputs": [
    {
     "data": {
      "text/plain": [
       "'Raghul Ramesh'"
      ]
     },
     "execution_count": 16,
     "metadata": {},
     "output_type": "execute_result"
    }
   ],
   "source": [
    "name"
   ]
  },
  {
   "cell_type": "code",
   "execution_count": 17,
   "id": "9a3e2ea0",
   "metadata": {},
   "outputs": [
    {
     "data": {
      "text/plain": [
       "'RAGHUL RAMESH'"
      ]
     },
     "execution_count": 17,
     "metadata": {},
     "output_type": "execute_result"
    }
   ],
   "source": [
    "name.upper()"
   ]
  },
  {
   "cell_type": "code",
   "execution_count": 18,
   "id": "2fd0e7b2",
   "metadata": {},
   "outputs": [
    {
     "data": {
      "text/plain": [
       "'Raghul Ramesh'"
      ]
     },
     "execution_count": 18,
     "metadata": {},
     "output_type": "execute_result"
    }
   ],
   "source": [
    "name"
   ]
  },
  {
   "cell_type": "code",
   "execution_count": 22,
   "id": "b183df81",
   "metadata": {},
   "outputs": [],
   "source": [
    "name=name.upper()"
   ]
  },
  {
   "cell_type": "code",
   "execution_count": 23,
   "id": "732df260",
   "metadata": {},
   "outputs": [
    {
     "data": {
      "text/plain": [
       "'RAGHUL RAMESH'"
      ]
     },
     "execution_count": 23,
     "metadata": {},
     "output_type": "execute_result"
    }
   ],
   "source": [
    "name"
   ]
  },
  {
   "cell_type": "code",
   "execution_count": 24,
   "id": "8dc1742f",
   "metadata": {},
   "outputs": [],
   "source": [
    "del name"
   ]
  },
  {
   "cell_type": "code",
   "execution_count": 25,
   "id": "8e05b088",
   "metadata": {},
   "outputs": [
    {
     "ename": "NameError",
     "evalue": "name 'name' is not defined",
     "output_type": "error",
     "traceback": [
      "\u001b[1;31m---------------------------------------------------------------------------\u001b[0m",
      "\u001b[1;31mNameError\u001b[0m                                 Traceback (most recent call last)",
      "Input \u001b[1;32mIn [25]\u001b[0m, in \u001b[0;36m<cell line: 1>\u001b[1;34m()\u001b[0m\n\u001b[1;32m----> 1\u001b[0m \u001b[43mname\u001b[49m\n",
      "\u001b[1;31mNameError\u001b[0m: name 'name' is not defined"
     ]
    }
   ],
   "source": [
    "name"
   ]
  },
  {
   "cell_type": "code",
   "execution_count": 26,
   "id": "7d8cc2e3",
   "metadata": {},
   "outputs": [],
   "source": [
    "name='Raghul Ramesh'"
   ]
  },
  {
   "cell_type": "code",
   "execution_count": 27,
   "id": "9ec31e91",
   "metadata": {},
   "outputs": [
    {
     "data": {
      "text/plain": [
       "'raghul ramesh'"
      ]
     },
     "execution_count": 27,
     "metadata": {},
     "output_type": "execute_result"
    }
   ],
   "source": [
    "name.lower()"
   ]
  },
  {
   "cell_type": "code",
   "execution_count": 28,
   "id": "bc786628",
   "metadata": {},
   "outputs": [
    {
     "data": {
      "text/plain": [
       "'Raghul Ramesh'"
      ]
     },
     "execution_count": 28,
     "metadata": {},
     "output_type": "execute_result"
    }
   ],
   "source": [
    "name"
   ]
  },
  {
   "cell_type": "code",
   "execution_count": 29,
   "id": "2ac7323c",
   "metadata": {},
   "outputs": [],
   "source": [
    "name='raghul ramesh'"
   ]
  },
  {
   "cell_type": "code",
   "execution_count": 30,
   "id": "b6ca28b9",
   "metadata": {},
   "outputs": [
    {
     "data": {
      "text/plain": [
       "'Raghul Ramesh'"
      ]
     },
     "execution_count": 30,
     "metadata": {},
     "output_type": "execute_result"
    }
   ],
   "source": [
    "name.title()"
   ]
  },
  {
   "cell_type": "code",
   "execution_count": 31,
   "id": "8b6dcfe1",
   "metadata": {},
   "outputs": [
    {
     "data": {
      "text/plain": [
       "'raghul ramesh'"
      ]
     },
     "execution_count": 31,
     "metadata": {},
     "output_type": "execute_result"
    }
   ],
   "source": [
    "name"
   ]
  },
  {
   "cell_type": "code",
   "execution_count": 32,
   "id": "0c1ef936",
   "metadata": {},
   "outputs": [
    {
     "data": {
      "text/plain": [
       "'Raghul ramesh'"
      ]
     },
     "execution_count": 32,
     "metadata": {},
     "output_type": "execute_result"
    }
   ],
   "source": [
    "name.capitalize()"
   ]
  },
  {
   "cell_type": "code",
   "execution_count": 33,
   "id": "2de412cc",
   "metadata": {},
   "outputs": [],
   "source": [
    "info='''python programming\n",
    "java\n",
    "machine learning\n",
    "bigdata'''"
   ]
  },
  {
   "cell_type": "code",
   "execution_count": 35,
   "id": "2fcc8c4a",
   "metadata": {},
   "outputs": [
    {
     "name": "stdout",
     "output_type": "stream",
     "text": [
      "Python programming\n",
      "java\n",
      "machine learning\n",
      "bigdata\n"
     ]
    }
   ],
   "source": [
    "print(info.capitalize())"
   ]
  },
  {
   "cell_type": "code",
   "execution_count": 36,
   "id": "63c0c169",
   "metadata": {},
   "outputs": [],
   "source": [
    "columns=[\"sno\",\"customer\",\"location\",\"balance\"]"
   ]
  },
  {
   "cell_type": "code",
   "execution_count": 37,
   "id": "5bb97bc0",
   "metadata": {},
   "outputs": [],
   "source": [
    "columns_update=[]\n",
    "for x in columns:\n",
    "    columns_update.append(x.title())"
   ]
  },
  {
   "cell_type": "code",
   "execution_count": 38,
   "id": "7b20aa94",
   "metadata": {},
   "outputs": [
    {
     "data": {
      "text/plain": [
       "['Sno', 'Customer', 'Location', 'Balance']"
      ]
     },
     "execution_count": 38,
     "metadata": {},
     "output_type": "execute_result"
    }
   ],
   "source": [
    "columns_update"
   ]
  },
  {
   "cell_type": "code",
   "execution_count": 39,
   "id": "c34fff17",
   "metadata": {},
   "outputs": [
    {
     "data": {
      "text/plain": [
       "'raghul ramesh'"
      ]
     },
     "execution_count": 39,
     "metadata": {},
     "output_type": "execute_result"
    }
   ],
   "source": [
    "name"
   ]
  },
  {
   "cell_type": "code",
   "execution_count": 40,
   "id": "116dee2f",
   "metadata": {},
   "outputs": [],
   "source": [
    "name='Raghul Ramesh'"
   ]
  },
  {
   "cell_type": "code",
   "execution_count": 41,
   "id": "ef6a1202",
   "metadata": {},
   "outputs": [
    {
     "data": {
      "text/plain": [
       "'rAGHUL rAMESH'"
      ]
     },
     "execution_count": 41,
     "metadata": {},
     "output_type": "execute_result"
    }
   ],
   "source": [
    "name.swapcase()"
   ]
  },
  {
   "cell_type": "code",
   "execution_count": 42,
   "id": "2bcf136a",
   "metadata": {},
   "outputs": [
    {
     "data": {
      "text/plain": [
       "'raghul ramesh'"
      ]
     },
     "execution_count": 42,
     "metadata": {},
     "output_type": "execute_result"
    }
   ],
   "source": [
    "name.casefold()"
   ]
  },
  {
   "cell_type": "code",
   "execution_count": null,
   "id": "1c7eda72",
   "metadata": {},
   "outputs": [],
   "source": [
    "#'isalnum', 'isalpha', 'isascii', 'isdecimal', 'isdigit', 'isidentifier', 'islower', \n",
    "#'isnumeric', 'isprintable', 'isspace', 'istitle', 'isupper',"
   ]
  },
  {
   "cell_type": "code",
   "execution_count": 43,
   "id": "d972b66e",
   "metadata": {},
   "outputs": [],
   "source": [
    "city='chennai'"
   ]
  },
  {
   "cell_type": "code",
   "execution_count": 44,
   "id": "bc1c412b",
   "metadata": {},
   "outputs": [
    {
     "data": {
      "text/plain": [
       "True"
      ]
     },
     "execution_count": 44,
     "metadata": {},
     "output_type": "execute_result"
    }
   ],
   "source": [
    "city.islower()"
   ]
  },
  {
   "cell_type": "code",
   "execution_count": 45,
   "id": "f9040d83",
   "metadata": {},
   "outputs": [
    {
     "data": {
      "text/plain": [
       "False"
      ]
     },
     "execution_count": 45,
     "metadata": {},
     "output_type": "execute_result"
    }
   ],
   "source": [
    "city.isupper()"
   ]
  },
  {
   "cell_type": "code",
   "execution_count": 46,
   "id": "19c716ac",
   "metadata": {},
   "outputs": [
    {
     "data": {
      "text/plain": [
       "False"
      ]
     },
     "execution_count": 46,
     "metadata": {},
     "output_type": "execute_result"
    }
   ],
   "source": [
    "city.istitle()"
   ]
  },
  {
   "cell_type": "code",
   "execution_count": 47,
   "id": "cb15fb35",
   "metadata": {},
   "outputs": [
    {
     "data": {
      "text/plain": [
       "'Raghul Ramesh'"
      ]
     },
     "execution_count": 47,
     "metadata": {},
     "output_type": "execute_result"
    }
   ],
   "source": [
    "name"
   ]
  },
  {
   "cell_type": "code",
   "execution_count": 48,
   "id": "e8998abf",
   "metadata": {},
   "outputs": [
    {
     "data": {
      "text/plain": [
       "True"
      ]
     },
     "execution_count": 48,
     "metadata": {},
     "output_type": "execute_result"
    }
   ],
   "source": [
    "name.istitle()"
   ]
  },
  {
   "cell_type": "code",
   "execution_count": 49,
   "id": "07cfff95",
   "metadata": {},
   "outputs": [
    {
     "data": {
      "text/plain": [
       "False"
      ]
     },
     "execution_count": 49,
     "metadata": {},
     "output_type": "execute_result"
    }
   ],
   "source": [
    "name.isspace()"
   ]
  },
  {
   "cell_type": "code",
   "execution_count": 50,
   "id": "4148820a",
   "metadata": {},
   "outputs": [],
   "source": [
    "age=' '"
   ]
  },
  {
   "cell_type": "code",
   "execution_count": 51,
   "id": "7ed4fe53",
   "metadata": {},
   "outputs": [
    {
     "data": {
      "text/plain": [
       "True"
      ]
     },
     "execution_count": 51,
     "metadata": {},
     "output_type": "execute_result"
    }
   ],
   "source": [
    "age.isspace()"
   ]
  },
  {
   "cell_type": "code",
   "execution_count": 52,
   "id": "74e8e67b",
   "metadata": {},
   "outputs": [],
   "source": [
    "age='37'"
   ]
  },
  {
   "cell_type": "code",
   "execution_count": 53,
   "id": "37ef2b4f",
   "metadata": {},
   "outputs": [
    {
     "data": {
      "text/plain": [
       "True"
      ]
     },
     "execution_count": 53,
     "metadata": {},
     "output_type": "execute_result"
    }
   ],
   "source": [
    "age.isnumeric()"
   ]
  },
  {
   "cell_type": "code",
   "execution_count": 55,
   "id": "9a0d9538",
   "metadata": {},
   "outputs": [
    {
     "data": {
      "text/plain": [
       "True"
      ]
     },
     "execution_count": 55,
     "metadata": {},
     "output_type": "execute_result"
    }
   ],
   "source": [
    "city.isalpha()"
   ]
  },
  {
   "cell_type": "code",
   "execution_count": 56,
   "id": "9a3ccc22",
   "metadata": {},
   "outputs": [],
   "source": [
    "emp='SC148372'"
   ]
  },
  {
   "cell_type": "code",
   "execution_count": 57,
   "id": "26dbdfdd",
   "metadata": {},
   "outputs": [
    {
     "data": {
      "text/plain": [
       "True"
      ]
     },
     "execution_count": 57,
     "metadata": {},
     "output_type": "execute_result"
    }
   ],
   "source": [
    "emp.isalnum()"
   ]
  },
  {
   "cell_type": "code",
   "execution_count": 58,
   "id": "ace44999",
   "metadata": {},
   "outputs": [],
   "source": [
    "# center, ljust , rjust"
   ]
  },
  {
   "cell_type": "code",
   "execution_count": 59,
   "id": "4b08483a",
   "metadata": {},
   "outputs": [
    {
     "data": {
      "text/plain": [
       "'Raghul Ramesh'"
      ]
     },
     "execution_count": 59,
     "metadata": {},
     "output_type": "execute_result"
    }
   ],
   "source": [
    "name"
   ]
  },
  {
   "cell_type": "code",
   "execution_count": 60,
   "id": "cc30e817",
   "metadata": {},
   "outputs": [
    {
     "data": {
      "text/plain": [
       "'                  Raghul Ramesh                   '"
      ]
     },
     "execution_count": 60,
     "metadata": {},
     "output_type": "execute_result"
    }
   ],
   "source": [
    "name.center(50)"
   ]
  },
  {
   "cell_type": "code",
   "execution_count": 61,
   "id": "bbaf4766",
   "metadata": {},
   "outputs": [
    {
     "data": {
      "text/plain": [
       "'******************Raghul Ramesh*******************'"
      ]
     },
     "execution_count": 61,
     "metadata": {},
     "output_type": "execute_result"
    }
   ],
   "source": [
    "name.center(50,'*')"
   ]
  },
  {
   "cell_type": "code",
   "execution_count": 62,
   "id": "08381c48",
   "metadata": {},
   "outputs": [
    {
     "data": {
      "text/plain": [
       "'------------------Raghul Ramesh-------------------'"
      ]
     },
     "execution_count": 62,
     "metadata": {},
     "output_type": "execute_result"
    }
   ],
   "source": [
    "name.center(50,'-')"
   ]
  },
  {
   "cell_type": "code",
   "execution_count": 63,
   "id": "6c6e8a2d",
   "metadata": {},
   "outputs": [
    {
     "data": {
      "text/plain": [
       "'..................Raghul Ramesh...................'"
      ]
     },
     "execution_count": 63,
     "metadata": {},
     "output_type": "execute_result"
    }
   ],
   "source": [
    "name.center(50,'.')"
   ]
  },
  {
   "cell_type": "code",
   "execution_count": 64,
   "id": "ec295b3a",
   "metadata": {},
   "outputs": [
    {
     "data": {
      "text/plain": [
       "'Raghul Ramesh                                     '"
      ]
     },
     "execution_count": 64,
     "metadata": {},
     "output_type": "execute_result"
    }
   ],
   "source": [
    "name.ljust(50)"
   ]
  },
  {
   "cell_type": "code",
   "execution_count": 65,
   "id": "93f640c7",
   "metadata": {},
   "outputs": [
    {
     "data": {
      "text/plain": [
       "'Raghul Ramesh_____________________________________'"
      ]
     },
     "execution_count": 65,
     "metadata": {},
     "output_type": "execute_result"
    }
   ],
   "source": [
    "name.ljust(50,'_')"
   ]
  },
  {
   "cell_type": "code",
   "execution_count": 68,
   "id": "9e4721d5",
   "metadata": {},
   "outputs": [
    {
     "data": {
      "text/plain": [
       "'                                     Raghul Ramesh'"
      ]
     },
     "execution_count": 68,
     "metadata": {},
     "output_type": "execute_result"
    }
   ],
   "source": [
    "name.rjust(50)"
   ]
  },
  {
   "cell_type": "code",
   "execution_count": 69,
   "id": "3955a5c6",
   "metadata": {},
   "outputs": [
    {
     "data": {
      "text/plain": [
       "'~~~~~~~~~~~~~~~~~~~~~~~~~~~~~~~~~~~~~Raghul Ramesh'"
      ]
     },
     "execution_count": 69,
     "metadata": {},
     "output_type": "execute_result"
    }
   ],
   "source": [
    "name.rjust(50,'~')"
   ]
  },
  {
   "cell_type": "code",
   "execution_count": 70,
   "id": "e61bbb5d",
   "metadata": {},
   "outputs": [],
   "source": [
    "# index , fine"
   ]
  },
  {
   "cell_type": "code",
   "execution_count": 71,
   "id": "90b03123",
   "metadata": {},
   "outputs": [
    {
     "data": {
      "text/plain": [
       "'Raghul Ramesh'"
      ]
     },
     "execution_count": 71,
     "metadata": {},
     "output_type": "execute_result"
    }
   ],
   "source": [
    "name"
   ]
  },
  {
   "cell_type": "code",
   "execution_count": 72,
   "id": "28032b0d",
   "metadata": {},
   "outputs": [
    {
     "data": {
      "text/plain": [
       "1"
      ]
     },
     "execution_count": 72,
     "metadata": {},
     "output_type": "execute_result"
    }
   ],
   "source": [
    "name.index('a')"
   ]
  },
  {
   "cell_type": "code",
   "execution_count": 74,
   "id": "64808164",
   "metadata": {},
   "outputs": [
    {
     "data": {
      "text/plain": [
       "8"
      ]
     },
     "execution_count": 74,
     "metadata": {},
     "output_type": "execute_result"
    }
   ],
   "source": [
    "name.rindex('a')"
   ]
  },
  {
   "cell_type": "code",
   "execution_count": 91,
   "id": "e7b6758d",
   "metadata": {},
   "outputs": [],
   "source": [
    "name=\"Ram Raj Rakesh\""
   ]
  },
  {
   "cell_type": "code",
   "execution_count": 92,
   "id": "f27b099e",
   "metadata": {},
   "outputs": [
    {
     "data": {
      "text/plain": [
       "3"
      ]
     },
     "execution_count": 92,
     "metadata": {},
     "output_type": "execute_result"
    }
   ],
   "source": [
    "name.count('a')"
   ]
  },
  {
   "cell_type": "code",
   "execution_count": 83,
   "id": "2f23ba58",
   "metadata": {},
   "outputs": [
    {
     "data": {
      "text/plain": [
       "1"
      ]
     },
     "execution_count": 83,
     "metadata": {},
     "output_type": "execute_result"
    }
   ],
   "source": [
    "name.index('a')"
   ]
  },
  {
   "cell_type": "code",
   "execution_count": 84,
   "id": "e9cac9c0",
   "metadata": {},
   "outputs": [
    {
     "data": {
      "text/plain": [
       "9"
      ]
     },
     "execution_count": 84,
     "metadata": {},
     "output_type": "execute_result"
    }
   ],
   "source": [
    "name.rindex('a')"
   ]
  },
  {
   "cell_type": "code",
   "execution_count": 85,
   "id": "5ec8ae3f",
   "metadata": {},
   "outputs": [
    {
     "data": {
      "text/plain": [
       "5"
      ]
     },
     "execution_count": 85,
     "metadata": {},
     "output_type": "execute_result"
    }
   ],
   "source": [
    "name.index('a',2)"
   ]
  },
  {
   "cell_type": "code",
   "execution_count": 86,
   "id": "fd5d9e7b",
   "metadata": {},
   "outputs": [
    {
     "data": {
      "text/plain": [
       "9"
      ]
     },
     "execution_count": 86,
     "metadata": {},
     "output_type": "execute_result"
    }
   ],
   "source": [
    "name.index('a',6)"
   ]
  },
  {
   "cell_type": "code",
   "execution_count": 87,
   "id": "2c430983",
   "metadata": {},
   "outputs": [],
   "source": [
    "name='Raghul Ramesh'"
   ]
  },
  {
   "cell_type": "code",
   "execution_count": 88,
   "id": "48ef8a43",
   "metadata": {},
   "outputs": [
    {
     "data": {
      "text/plain": [
       "7"
      ]
     },
     "execution_count": 88,
     "metadata": {},
     "output_type": "execute_result"
    }
   ],
   "source": [
    "name.index('Ramesh')"
   ]
  },
  {
   "cell_type": "code",
   "execution_count": 89,
   "id": "333fe34b",
   "metadata": {},
   "outputs": [
    {
     "ename": "ValueError",
     "evalue": "substring not found",
     "output_type": "error",
     "traceback": [
      "\u001b[1;31m---------------------------------------------------------------------------\u001b[0m",
      "\u001b[1;31mValueError\u001b[0m                                Traceback (most recent call last)",
      "Input \u001b[1;32mIn [89]\u001b[0m, in \u001b[0;36m<cell line: 1>\u001b[1;34m()\u001b[0m\n\u001b[1;32m----> 1\u001b[0m \u001b[43mname\u001b[49m\u001b[38;5;241;43m.\u001b[39;49m\u001b[43mindex\u001b[49m\u001b[43m(\u001b[49m\u001b[38;5;124;43m'\u001b[39;49m\u001b[38;5;124;43mz\u001b[39;49m\u001b[38;5;124;43m'\u001b[39;49m\u001b[43m)\u001b[49m\n",
      "\u001b[1;31mValueError\u001b[0m: substring not found"
     ]
    }
   ],
   "source": [
    "name.index('z')"
   ]
  },
  {
   "cell_type": "code",
   "execution_count": 90,
   "id": "f889b314",
   "metadata": {},
   "outputs": [
    {
     "data": {
      "text/plain": [
       "2"
      ]
     },
     "execution_count": 90,
     "metadata": {},
     "output_type": "execute_result"
    }
   ],
   "source": [
    "name.count('a')"
   ]
  },
  {
   "cell_type": "code",
   "execution_count": 101,
   "id": "1b341cfe",
   "metadata": {},
   "outputs": [],
   "source": [
    "name='Raghul Ramesh'"
   ]
  },
  {
   "cell_type": "code",
   "execution_count": 102,
   "id": "79860094",
   "metadata": {},
   "outputs": [
    {
     "data": {
      "text/plain": [
       "1"
      ]
     },
     "execution_count": 102,
     "metadata": {},
     "output_type": "execute_result"
    }
   ],
   "source": [
    "name.find('a')"
   ]
  },
  {
   "cell_type": "code",
   "execution_count": 103,
   "id": "350b81c4",
   "metadata": {},
   "outputs": [
    {
     "data": {
      "text/plain": [
       "8"
      ]
     },
     "execution_count": 103,
     "metadata": {},
     "output_type": "execute_result"
    }
   ],
   "source": [
    "name.rfind('a')"
   ]
  },
  {
   "cell_type": "code",
   "execution_count": 104,
   "id": "d3621999",
   "metadata": {},
   "outputs": [
    {
     "data": {
      "text/plain": [
       "-1"
      ]
     },
     "execution_count": 104,
     "metadata": {},
     "output_type": "execute_result"
    }
   ],
   "source": [
    "name.find('z')"
   ]
  },
  {
   "cell_type": "code",
   "execution_count": 121,
   "id": "eb44de77",
   "metadata": {},
   "outputs": [],
   "source": [
    "city='Chennai-Cochin-Bangalore-_Hyderabad-Pune-Mumbai-Kolkatta-Delhi'"
   ]
  },
  {
   "cell_type": "code",
   "execution_count": 108,
   "id": "2da7ac5c",
   "metadata": {},
   "outputs": [
    {
     "name": "stdout",
     "output_type": "stream",
     "text": [
      "['Chennai', 'Cochin', 'Bangalore', 'Hyderabad', 'Pune', 'Mumbai', 'Kolkatta', 'Delhi']\n"
     ]
    }
   ],
   "source": [
    "print(city.split('-'))"
   ]
  },
  {
   "cell_type": "code",
   "execution_count": 110,
   "id": "ad8273b7",
   "metadata": {},
   "outputs": [
    {
     "data": {
      "text/plain": [
       "('Chennai', '-', 'Cochin-Bangalore-Hyderabad-Pune-Mumbai-Kolkatta-Delhi')"
      ]
     },
     "execution_count": 110,
     "metadata": {},
     "output_type": "execute_result"
    }
   ],
   "source": [
    "#partition\n",
    "city.partition('-')"
   ]
  },
  {
   "cell_type": "code",
   "execution_count": 111,
   "id": "85ea6ecd",
   "metadata": {},
   "outputs": [
    {
     "data": {
      "text/plain": [
       "('Chennai-Cochin-Bangalore-Hyderabad-Pune-Mumbai-Kolkatta', '-', 'Delhi')"
      ]
     },
     "execution_count": 111,
     "metadata": {},
     "output_type": "execute_result"
    }
   ],
   "source": [
    "city.rpartition('-')"
   ]
  },
  {
   "cell_type": "code",
   "execution_count": 122,
   "id": "ca46ba17",
   "metadata": {},
   "outputs": [
    {
     "data": {
      "text/plain": [
       "['Chennai-Cochin-Bangalore', 'Hyderabad-Pune-Mumbai-Kolkatta-Delhi']"
      ]
     },
     "execution_count": 122,
     "metadata": {},
     "output_type": "execute_result"
    }
   ],
   "source": [
    "city.split('-_')"
   ]
  },
  {
   "cell_type": "code",
   "execution_count": 115,
   "id": "ad75f592",
   "metadata": {},
   "outputs": [
    {
     "name": "stdout",
     "output_type": "stream",
     "text": [
      "Help on built-in function split:\n",
      "\n",
      "split(sep=None, maxsplit=-1) method of builtins.str instance\n",
      "    Return a list of the words in the string, using sep as the delimiter string.\n",
      "    \n",
      "    sep\n",
      "      The delimiter according which to split the string.\n",
      "      None (the default value) means split according to any whitespace,\n",
      "      and discard empty strings from the result.\n",
      "    maxsplit\n",
      "      Maximum number of splits to do.\n",
      "      -1 (the default value) means no limit.\n",
      "\n"
     ]
    }
   ],
   "source": [
    "help(city.split)"
   ]
  },
  {
   "cell_type": "code",
   "execution_count": 123,
   "id": "b2d4cc33",
   "metadata": {},
   "outputs": [],
   "source": [
    "# strip, lstrip, rstrip"
   ]
  },
  {
   "cell_type": "code",
   "execution_count": 124,
   "id": "f05e29aa",
   "metadata": {},
   "outputs": [],
   "source": [
    "name=\"         Raghul Ramesh        \""
   ]
  },
  {
   "cell_type": "code",
   "execution_count": 125,
   "id": "fc2ec552",
   "metadata": {},
   "outputs": [
    {
     "data": {
      "text/plain": [
       "'         Raghul Ramesh        '"
      ]
     },
     "execution_count": 125,
     "metadata": {},
     "output_type": "execute_result"
    }
   ],
   "source": [
    "name"
   ]
  },
  {
   "cell_type": "code",
   "execution_count": 126,
   "id": "2ac5db00",
   "metadata": {},
   "outputs": [
    {
     "data": {
      "text/plain": [
       "'Raghul Ramesh'"
      ]
     },
     "execution_count": 126,
     "metadata": {},
     "output_type": "execute_result"
    }
   ],
   "source": [
    "name.strip()"
   ]
  },
  {
   "cell_type": "code",
   "execution_count": 127,
   "id": "260eabdb",
   "metadata": {},
   "outputs": [
    {
     "data": {
      "text/plain": [
       "'Raghul Ramesh        '"
      ]
     },
     "execution_count": 127,
     "metadata": {},
     "output_type": "execute_result"
    }
   ],
   "source": [
    "name.lstrip()"
   ]
  },
  {
   "cell_type": "code",
   "execution_count": 128,
   "id": "4fd608ea",
   "metadata": {},
   "outputs": [
    {
     "data": {
      "text/plain": [
       "'         Raghul Ramesh'"
      ]
     },
     "execution_count": 128,
     "metadata": {},
     "output_type": "execute_result"
    }
   ],
   "source": [
    "name.rstrip()"
   ]
  },
  {
   "cell_type": "code",
   "execution_count": 131,
   "id": "6e3ba65e",
   "metadata": {},
   "outputs": [
    {
     "data": {
      "text/plain": [
       "'RaghulRamesh'"
      ]
     },
     "execution_count": 131,
     "metadata": {},
     "output_type": "execute_result"
    }
   ],
   "source": [
    "name.replace(' ','')"
   ]
  },
  {
   "cell_type": "code",
   "execution_count": null,
   "id": "d1321a51",
   "metadata": {},
   "outputs": [],
   "source": [
    "#ljust,rjust"
   ]
  },
  {
   "cell_type": "code",
   "execution_count": 135,
   "id": "6b70eec8",
   "metadata": {},
   "outputs": [],
   "source": [
    "salary='5000000'"
   ]
  },
  {
   "cell_type": "code",
   "execution_count": 137,
   "id": "16d73a33",
   "metadata": {},
   "outputs": [
    {
     "data": {
      "text/plain": [
       "'5000000000'"
      ]
     },
     "execution_count": 137,
     "metadata": {},
     "output_type": "execute_result"
    }
   ],
   "source": [
    "salary.ljust(10,'0')"
   ]
  },
  {
   "cell_type": "code",
   "execution_count": 138,
   "id": "eb739dd6",
   "metadata": {},
   "outputs": [
    {
     "data": {
      "text/plain": [
       "'0005000000'"
      ]
     },
     "execution_count": 138,
     "metadata": {},
     "output_type": "execute_result"
    }
   ],
   "source": [
    "salary.zfill(10)"
   ]
  },
  {
   "cell_type": "code",
   "execution_count": null,
   "id": "1fca7e2d",
   "metadata": {},
   "outputs": [],
   "source": []
  },
  {
   "cell_type": "code",
   "execution_count": null,
   "id": "43b87ed7",
   "metadata": {},
   "outputs": [],
   "source": []
  },
  {
   "cell_type": "code",
   "execution_count": 94,
   "id": "0c48d167",
   "metadata": {},
   "outputs": [],
   "source": [
    "mystr='''\n",
    "Congress plans for a show of strength with a march to the Enforcement Directorate offices today with senior leader Rahul Gandhi, has received a jolt, with the Delhi police refusing to allow it. Permission was denied in view of the \"communal and law and order situation,\" the Delhi Police said.\n",
    "Congress sources said the party has approached the Delhi Police again, asking them to reconsider the decision.\n",
    "\n",
    "Mr Gandhi has been summoned to the offices of the Enforcement Directorate on Monday for questioning in the National Herald money laundering case.\n",
    "\n",
    "The Congress has planned a nationwide stir on the day. The workers in its state units are expected to hold protests outside the city offices of the agency.\n",
    "\n",
    "In Delhi, the party's MPs and other senior leaders are expected to hold a foot-march to the ED offices.'''"
   ]
  },
  {
   "cell_type": "code",
   "execution_count": 96,
   "id": "53c74803",
   "metadata": {},
   "outputs": [
    {
     "name": "stdout",
     "output_type": "stream",
     "text": [
      "the present in mystr at 17 number of occurances\n",
      "of present in mystr at 8 number of occurances\n",
      "a present in mystr at 50 number of occurances\n",
      "to present in mystr at 10 number of occurances\n",
      "or present in mystr at 10 number of occurances\n"
     ]
    }
   ],
   "source": [
    "words=['the','of','a','to','or']\n",
    "\n",
    "for each_word  in words:\n",
    "    print(\"{} present in {} at {} number of occurances\".format(each_word,'mystr',mystr.count(each_word)))"
   ]
  },
  {
   "cell_type": "code",
   "execution_count": 97,
   "id": "3e3e0cdb",
   "metadata": {},
   "outputs": [
    {
     "data": {
      "text/plain": [
       "17"
      ]
     },
     "execution_count": 97,
     "metadata": {},
     "output_type": "execute_result"
    }
   ],
   "source": [
    "mystr.count('the')"
   ]
  },
  {
   "cell_type": "code",
   "execution_count": 99,
   "id": "018324ca",
   "metadata": {},
   "outputs": [
    {
     "name": "stdout",
     "output_type": "stream",
     "text": [
      "state present in mystr at 1 number of occurances\n",
      "MPs present in mystr at 1 number of occurances\n",
      "outside present in mystr at 1 number of occurances\n",
      "summoned present in mystr at 1 number of occurances\n",
      "the present in mystr at 17 number of occurances\n",
      "National present in mystr at 1 number of occurances\n",
      "leaders present in mystr at 1 number of occurances\n",
      "allow present in mystr at 1 number of occurances\n",
      "leader present in mystr at 2 number of occurances\n",
      "police present in mystr at 1 number of occurances\n",
      "senior present in mystr at 2 number of occurances\n",
      "nationwide present in mystr at 1 number of occurances\n",
      "show present in mystr at 1 number of occurances\n",
      "Permission present in mystr at 1 number of occurances\n",
      "asking present in mystr at 1 number of occurances\n",
      "its present in mystr at 2 number of occurances\n",
      "workers present in mystr at 1 number of occurances\n",
      "city present in mystr at 1 number of occurances\n",
      "plans present in mystr at 1 number of occurances\n",
      "\n",
      "Congress present in mystr at 2 number of occurances\n",
      "questioning present in mystr at 1 number of occurances\n",
      "The present in mystr at 2 number of occurances\n",
      "again, present in mystr at 1 number of occurances\n",
      "on present in mystr at 15 number of occurances\n",
      "refusing present in mystr at 1 number of occurances\n",
      "march present in mystr at 2 number of occurances\n",
      "today present in mystr at 1 number of occurances\n",
      "been present in mystr at 1 number of occurances\n",
      "to present in mystr at 10 number of occurances\n",
      "money present in mystr at 1 number of occurances\n",
      "view present in mystr at 1 number of occurances\n",
      "said present in mystr at 2 number of occurances\n",
      "Delhi, present in mystr at 1 number of occurances\n",
      "has present in mystr at 4 number of occurances\n",
      "protests present in mystr at 1 number of occurances\n",
      "order present in mystr at 1 number of occurances\n",
      "for present in mystr at 4 number of occurances\n",
      "it. present in mystr at 1 number of occurances\n",
      "stir present in mystr at 1 number of occurances\n",
      "sources present in mystr at 1 number of occurances\n",
      "with present in mystr at 3 number of occurances\n",
      "agency.\n",
      "\n",
      "In present in mystr at 1 number of occurances\n",
      "Police present in mystr at 2 number of occurances\n",
      "expected present in mystr at 2 number of occurances\n",
      "Enforcement present in mystr at 2 number of occurances\n",
      "Delhi present in mystr at 4 number of occurances\n",
      "planned present in mystr at 1 number of occurances\n",
      "are present in mystr at 2 number of occurances\n",
      "a present in mystr at 50 number of occurances\n",
      "strength present in mystr at 1 number of occurances\n",
      "law present in mystr at 1 number of occurances\n",
      "Gandhi present in mystr at 2 number of occurances\n",
      "reconsider present in mystr at 1 number of occurances\n",
      "party present in mystr at 2 number of occurances\n",
      "of present in mystr at 8 number of occurances\n",
      "Gandhi, present in mystr at 1 number of occurances\n",
      "situation,\" present in mystr at 1 number of occurances\n",
      "Congress present in mystr at 3 number of occurances\n",
      "decision.\n",
      "\n",
      "Mr present in mystr at 1 number of occurances\n",
      "Rahul present in mystr at 1 number of occurances\n",
      "other present in mystr at 1 number of occurances\n",
      "denied present in mystr at 1 number of occurances\n",
      "Monday present in mystr at 1 number of occurances\n",
      "received present in mystr at 1 number of occurances\n",
      "laundering present in mystr at 1 number of occurances\n",
      "was present in mystr at 1 number of occurances\n",
      "units present in mystr at 1 number of occurances\n",
      "foot-march present in mystr at 1 number of occurances\n",
      "approached present in mystr at 1 number of occurances\n",
      "Herald present in mystr at 1 number of occurances\n",
      "them present in mystr at 1 number of occurances\n",
      "and present in mystr at 5 number of occurances\n",
      "case.\n",
      "\n",
      "The present in mystr at 1 number of occurances\n",
      "hold present in mystr at 2 number of occurances\n",
      "jolt, present in mystr at 1 number of occurances\n",
      "in present in mystr at 8 number of occurances\n",
      "offices. present in mystr at 1 number of occurances\n",
      "said.\n",
      "Congress present in mystr at 1 number of occurances\n",
      "day. present in mystr at 1 number of occurances\n",
      "\"communal present in mystr at 1 number of occurances\n",
      "Directorate present in mystr at 2 number of occurances\n",
      "ED present in mystr at 1 number of occurances\n",
      "party's present in mystr at 1 number of occurances\n",
      "offices present in mystr at 4 number of occurances\n"
     ]
    }
   ],
   "source": [
    "words=set(mystr.split(' '))\n",
    "\n",
    "for each_word  in words:\n",
    "    print(\"{} present in {} at {} number of occurances\".format(each_word,'mystr',mystr.count(each_word)))"
   ]
  },
  {
   "cell_type": "code",
   "execution_count": null,
   "id": "8f31f2ca",
   "metadata": {},
   "outputs": [],
   "source": []
  }
 ],
 "metadata": {
  "kernelspec": {
   "display_name": "Python 3 (ipykernel)",
   "language": "python",
   "name": "python3"
  },
  "language_info": {
   "codemirror_mode": {
    "name": "ipython",
    "version": 3
   },
   "file_extension": ".py",
   "mimetype": "text/x-python",
   "name": "python",
   "nbconvert_exporter": "python",
   "pygments_lexer": "ipython3",
   "version": "3.8.10"
  }
 },
 "nbformat": 4,
 "nbformat_minor": 5
}
