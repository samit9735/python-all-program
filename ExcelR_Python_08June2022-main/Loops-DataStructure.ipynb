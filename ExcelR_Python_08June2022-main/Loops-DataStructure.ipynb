{
 "cells": [
  {
   "cell_type": "markdown",
   "id": "f1b4eb44",
   "metadata": {},
   "source": [
    "# print functions"
   ]
  },
  {
   "cell_type": "code",
   "execution_count": 1,
   "id": "3c223db5",
   "metadata": {},
   "outputs": [
    {
     "name": "stdout",
     "output_type": "stream",
     "text": [
      "Hello\n"
     ]
    }
   ],
   "source": [
    "print(\"Hello\")"
   ]
  },
  {
   "cell_type": "code",
   "execution_count": 2,
   "id": "1783bebb",
   "metadata": {},
   "outputs": [],
   "source": [
    "name='Raghul Ramesh'"
   ]
  },
  {
   "cell_type": "code",
   "execution_count": 3,
   "id": "6b014959",
   "metadata": {},
   "outputs": [
    {
     "name": "stdout",
     "output_type": "stream",
     "text": [
      "name\n"
     ]
    }
   ],
   "source": [
    "print('name')"
   ]
  },
  {
   "cell_type": "code",
   "execution_count": 4,
   "id": "e0cbe74e",
   "metadata": {},
   "outputs": [
    {
     "name": "stdout",
     "output_type": "stream",
     "text": [
      "Raghul Ramesh\n"
     ]
    }
   ],
   "source": [
    "print(name)"
   ]
  },
  {
   "cell_type": "code",
   "execution_count": 5,
   "id": "6aae1fb2",
   "metadata": {},
   "outputs": [
    {
     "name": "stdout",
     "output_type": "stream",
     "text": [
      "Trainer name is : name\n"
     ]
    }
   ],
   "source": [
    "print('Trainer name is : name')"
   ]
  },
  {
   "cell_type": "code",
   "execution_count": 6,
   "id": "b106b3c9",
   "metadata": {},
   "outputs": [
    {
     "name": "stdout",
     "output_type": "stream",
     "text": [
      "Trainer name is :  Raghul Ramesh\n"
     ]
    }
   ],
   "source": [
    "print('Trainer name is : ',name)"
   ]
  },
  {
   "cell_type": "code",
   "execution_count": 7,
   "id": "f1c0ab02",
   "metadata": {},
   "outputs": [
    {
     "name": "stdout",
     "output_type": "stream",
     "text": [
      "Trainer name is  Raghul Ramesh and he is  37 years old\n"
     ]
    }
   ],
   "source": [
    "name='Raghul Ramesh'\n",
    "age=37\n",
    "city='Chennai'\n",
    "\n",
    "#Trainer name is Raghul Ramesh and he is 37 years old\n",
    "\n",
    "print(\"Trainer name is \", name , \"and he is \", age , \"years old\")"
   ]
  },
  {
   "cell_type": "code",
   "execution_count": 8,
   "id": "1af88384",
   "metadata": {},
   "outputs": [
    {
     "name": "stdout",
     "output_type": "stream",
     "text": [
      "Trainer name is Raghul Ramesh and he is 37 years old and he is from Chennai\n"
     ]
    }
   ],
   "source": [
    "print(\"Trainer name is {} and he is {} years old and he is from {}\".format(name,age,city))"
   ]
  },
  {
   "cell_type": "code",
   "execution_count": 9,
   "id": "c641c93e",
   "metadata": {},
   "outputs": [
    {
     "name": "stdout",
     "output_type": "stream",
     "text": [
      "Trainer name is Raghul Ramesh and he is 37 years old and he is from Chennai\n"
     ]
    }
   ],
   "source": [
    "print(f\"Trainer name is {name} and he is {age} years old and he is from {city}\")"
   ]
  },
  {
   "cell_type": "code",
   "execution_count": 10,
   "id": "4d4081a1",
   "metadata": {},
   "outputs": [
    {
     "name": "stdout",
     "output_type": "stream",
     "text": [
      "Trainer name is Raghul Ramesh and he is 37 years old and he is from Chennai\n"
     ]
    }
   ],
   "source": [
    "print(\"Trainer name is {2} and he is {0} years old and he is from {1}\".format(age,city,name))"
   ]
  },
  {
   "cell_type": "code",
   "execution_count": 11,
   "id": "26e32bcc",
   "metadata": {},
   "outputs": [
    {
     "name": "stdout",
     "output_type": "stream",
     "text": [
      "The product's price is : 565.659\n"
     ]
    }
   ],
   "source": [
    "price=565.6587432\n",
    "print(\"The product's price is : {0:.3f}\".format(price))"
   ]
  },
  {
   "cell_type": "code",
   "execution_count": 12,
   "id": "595d116f",
   "metadata": {},
   "outputs": [
    {
     "data": {
      "text/plain": [
       "565.659"
      ]
     },
     "execution_count": 12,
     "metadata": {},
     "output_type": "execute_result"
    }
   ],
   "source": [
    "round(price,3)"
   ]
  },
  {
   "cell_type": "code",
   "execution_count": 13,
   "id": "8fdc0bc5",
   "metadata": {},
   "outputs": [
    {
     "name": "stdout",
     "output_type": "stream",
     "text": [
      "The product's price is : 565.66\n"
     ]
    }
   ],
   "source": [
    "print(\"The product's price is : {}\".format(round(price,2)))"
   ]
  },
  {
   "cell_type": "markdown",
   "id": "3520948a",
   "metadata": {},
   "source": [
    "# input function"
   ]
  },
  {
   "cell_type": "code",
   "execution_count": 14,
   "id": "b561f492",
   "metadata": {},
   "outputs": [
    {
     "name": "stdout",
     "output_type": "stream",
     "text": [
      "Enter your name:Raghul Ramesh\n",
      "Enter your age:37\n",
      "The type of name is : <class 'str'>\n",
      "The type of age is : <class 'int'>\n",
      "Age is: 38\n"
     ]
    }
   ],
   "source": [
    "name=input(\"Enter your name:\")\n",
    "age=int(input(\"Enter your age:\"))\n",
    "age=age+1\n",
    "print(\"The type of name is :\", type(name))\n",
    "print(\"The type of age is :\", type(age))\n",
    "print(\"Age is:\",age)"
   ]
  },
  {
   "cell_type": "code",
   "execution_count": 15,
   "id": "b63b0bb8",
   "metadata": {},
   "outputs": [
    {
     "name": "stdout",
     "output_type": "stream",
     "text": [
      "Enter your account number:43728734432\n",
      "Enter your name:Raghul Ramesh\n",
      "Enter 4 digit pin:44542\n",
      "43728734432,Raghul Ramesh,44542\n",
      "Type of acct:<class 'str'>, name:<class 'str'> and pin:<class 'int'>\n"
     ]
    }
   ],
   "source": [
    "acct=input(\"Enter your account number:\")\n",
    "name=input(\"Enter your name:\")\n",
    "pin=int(input(\"Enter 4 digit pin:\"))\n",
    "\n",
    "print(\"{},{},{}\".format(acct,name,pin))\n",
    "print(\"Type of acct:{}, name:{} and pin:{}\".format(type(acct),type(name),type(pin)))"
   ]
  },
  {
   "cell_type": "markdown",
   "id": "07c2de6d",
   "metadata": {},
   "source": [
    "# range function"
   ]
  },
  {
   "cell_type": "code",
   "execution_count": 16,
   "id": "1492ceb7",
   "metadata": {},
   "outputs": [
    {
     "name": "stdout",
     "output_type": "stream",
     "text": [
      "1 2 3 4 5 6 7 8 9 10 11 12 13 14 15 16 17 18 19 20 21 22 23 24 25 26 27 28 29 30 31 32 33 34 35 36 37 38 39 40 41 42 43 44 45 46 47 48 49 50 51 52 53 54 55 56 57 58 59 60 61 62 63 64 65 66 67 68 69 70 71 72 73 74 75 76 77 78 79 80 81 82 83 84 85 86 87 88 89 90 91 92 93 94 95 96 97 98 99 100 "
     ]
    }
   ],
   "source": [
    "for x in range(1,101):\n",
    "    print(x,end =' ')"
   ]
  },
  {
   "cell_type": "code",
   "execution_count": 17,
   "id": "5a769db2",
   "metadata": {},
   "outputs": [
    {
     "name": "stdout",
     "output_type": "stream",
     "text": [
      "1 3 5 7 9 11 13 15 17 19 21 23 25 27 29 31 33 35 37 39 41 43 45 47 49 51 53 55 57 59 61 63 65 67 69 71 73 75 77 79 81 83 85 87 89 91 93 95 97 99 "
     ]
    }
   ],
   "source": [
    "for x in range(1,101,2):\n",
    "    print(x,end =' ')"
   ]
  },
  {
   "cell_type": "code",
   "execution_count": 18,
   "id": "a4335d9e",
   "metadata": {},
   "outputs": [
    {
     "name": "stdout",
     "output_type": "stream",
     "text": [
      "2 4 6 8 10 12 14 16 18 20 22 24 26 28 30 32 34 36 38 40 42 44 46 48 50 52 54 56 58 60 62 64 66 68 70 72 74 76 78 80 82 84 86 88 90 92 94 96 98 100 "
     ]
    }
   ],
   "source": [
    "for x in range(2,101,2):\n",
    "    print(x,end =' ')"
   ]
  },
  {
   "cell_type": "markdown",
   "id": "3ddcfa6e",
   "metadata": {},
   "source": [
    "# LOOPS"
   ]
  },
  {
   "cell_type": "code",
   "execution_count": 19,
   "id": "c12a1d17",
   "metadata": {},
   "outputs": [
    {
     "data": {
      "text/plain": [
       "'\\nwhile \\nfor \\n'"
      ]
     },
     "execution_count": 19,
     "metadata": {},
     "output_type": "execute_result"
    }
   ],
   "source": [
    "'''\n",
    "while \n",
    "for \n",
    "'''"
   ]
  },
  {
   "cell_type": "code",
   "execution_count": 21,
   "id": "83c2510d",
   "metadata": {},
   "outputs": [
    {
     "name": "stdout",
     "output_type": "stream",
     "text": [
      "1\n",
      "2\n",
      "3\n",
      "4\n",
      "5\n",
      "6\n",
      "7\n",
      "8\n",
      "9\n",
      "10\n",
      "The value of the x is : 11\n"
     ]
    }
   ],
   "source": [
    "# while <cond>:\n",
    "#     statements\n",
    "\n",
    "x=1\n",
    "\n",
    "while x<=10:\n",
    "    print(x)\n",
    "    x=x+1\n",
    "else:\n",
    "    print(\"The value of the x is :\",x)"
   ]
  },
  {
   "cell_type": "code",
   "execution_count": 22,
   "id": "5b6a9aeb",
   "metadata": {},
   "outputs": [],
   "source": [
    "info=['ExcelR','Data Analytics','Python',2022,100]    "
   ]
  },
  {
   "cell_type": "code",
   "execution_count": 23,
   "id": "903c35d9",
   "metadata": {},
   "outputs": [
    {
     "name": "stdout",
     "output_type": "stream",
     "text": [
      "ExcelR\n",
      "Data Analytics\n",
      "Python\n",
      "2022\n",
      "100\n"
     ]
    }
   ],
   "source": [
    "for x in info:\n",
    "    print(x)"
   ]
  },
  {
   "cell_type": "code",
   "execution_count": 39,
   "id": "9dc87558",
   "metadata": {},
   "outputs": [
    {
     "name": "stdout",
     "output_type": "stream",
     "text": [
      "1 2 3 4 5 6 7 8 9 10 \n",
      " 11 12 13 14 15 16 17 18 19 20 21 \n",
      " 22 23 24 25 26 27 28 29 30 31 32 \n",
      " 33 34 35 36 37 38 39 40 41 42 43 \n",
      " 44 45 46 47 48 49 50 51 52 53 54 \n",
      " 55 56 57 58 59 60 61 62 63 64 65 \n",
      " 66 67 68 69 70 71 72 73 74 75 76 \n",
      " 77 78 79 80 81 82 83 84 85 86 87 \n",
      " 88 89 90 91 92 93 94 95 96 97 98 \n",
      " 99 100 "
     ]
    }
   ],
   "source": [
    "i=1\n",
    "for x in range(1,101):\n",
    "    if i<=10:\n",
    "        print(x, end=' ')\n",
    "        i=i+1   \n",
    "    else:\n",
    "        print('\\n',x, end=' ')\n",
    "        i=1\n"
   ]
  },
  {
   "cell_type": "markdown",
   "id": "07e9fe5f",
   "metadata": {},
   "source": [
    "# Flow control statements"
   ]
  },
  {
   "cell_type": "code",
   "execution_count": null,
   "id": "76b9e1c9",
   "metadata": {},
   "outputs": [],
   "source": [
    "'''\n",
    "break\n",
    "continue\n",
    "'''"
   ]
  },
  {
   "cell_type": "code",
   "execution_count": 41,
   "id": "48ebccb9",
   "metadata": {},
   "outputs": [
    {
     "name": "stdout",
     "output_type": "stream",
     "text": [
      "1\n",
      "2\n",
      "3\n",
      "4\n",
      "This is the next line to the loop\n",
      "Thanks\n"
     ]
    }
   ],
   "source": [
    "x=1\n",
    "\n",
    "while x<=10:\n",
    "    if x==5:\n",
    "        break\n",
    "    print(x)\n",
    "    x=x+1\n",
    "    \n",
    "print(\"This is the next line to the loop\")\n",
    "print(\"Thanks\")"
   ]
  },
  {
   "cell_type": "code",
   "execution_count": 42,
   "id": "335f8082",
   "metadata": {},
   "outputs": [
    {
     "name": "stdout",
     "output_type": "stream",
     "text": [
      "1\n",
      "2\n",
      "3\n",
      "4\n",
      "6\n",
      "7\n",
      "8\n",
      "9\n",
      "10\n",
      "11\n",
      "This is the next line to the loop\n",
      "Thanks\n"
     ]
    }
   ],
   "source": [
    "x=0\n",
    "\n",
    "while x<=10:\n",
    "    x=x+1\n",
    "    if x==5:\n",
    "        continue\n",
    "    print(x)\n",
    "    \n",
    "    \n",
    "print(\"This is the next line to the loop\")\n",
    "print(\"Thanks\")"
   ]
  },
  {
   "cell_type": "markdown",
   "id": "3966963b",
   "metadata": {},
   "source": [
    "# DATA STRUCTURE"
   ]
  },
  {
   "cell_type": "code",
   "execution_count": null,
   "id": "f3bfa742",
   "metadata": {},
   "outputs": [],
   "source": [
    "'''\n",
    "Immutable\n",
    "    - Numbers\n",
    "    - String\n",
    "    - Tuple\n",
    "Mutable\n",
    "    - List\n",
    "    - Dictionary\n",
    "    - Set\n",
    "'''"
   ]
  },
  {
   "cell_type": "code",
   "execution_count": 43,
   "id": "9000b335",
   "metadata": {},
   "outputs": [
    {
     "ename": "SyntaxError",
     "evalue": "cannot assign to literal (2169748992.py, line 1)",
     "output_type": "error",
     "traceback": [
      "\u001b[1;36m  Input \u001b[1;32mIn [43]\u001b[1;36m\u001b[0m\n\u001b[1;33m    5=7\u001b[0m\n\u001b[1;37m    ^\u001b[0m\n\u001b[1;31mSyntaxError\u001b[0m\u001b[1;31m:\u001b[0m cannot assign to literal\n"
     ]
    }
   ],
   "source": [
    "'''\n",
    "Arithmetic Opearators\n",
    "Assignment\n",
    "Comparison\n",
    "Bitwise\n",
    "Binary\n",
    "Identity \n",
    "Membership\n",
    "'''"
   ]
  },
  {
   "cell_type": "code",
   "execution_count": 44,
   "id": "00440d85",
   "metadata": {},
   "outputs": [
    {
     "data": {
      "text/plain": [
       "11"
      ]
     },
     "execution_count": 44,
     "metadata": {},
     "output_type": "execute_result"
    }
   ],
   "source": [
    "# + (Addtion), -(subraction), * (multiplication), / (division), ** ( Exponent), % (modulus) , // (Floor Division)\n",
    "\n",
    "5+6"
   ]
  },
  {
   "cell_type": "code",
   "execution_count": 45,
   "id": "a309c8d4",
   "metadata": {},
   "outputs": [
    {
     "data": {
      "text/plain": [
       "-1"
      ]
     },
     "execution_count": 45,
     "metadata": {},
     "output_type": "execute_result"
    }
   ],
   "source": [
    "5-6"
   ]
  },
  {
   "cell_type": "code",
   "execution_count": 46,
   "id": "aa70cfb5",
   "metadata": {},
   "outputs": [
    {
     "data": {
      "text/plain": [
       "30"
      ]
     },
     "execution_count": 46,
     "metadata": {},
     "output_type": "execute_result"
    }
   ],
   "source": [
    "5*6"
   ]
  },
  {
   "cell_type": "code",
   "execution_count": 47,
   "id": "056eac97",
   "metadata": {},
   "outputs": [
    {
     "data": {
      "text/plain": [
       "0.8333333333333334"
      ]
     },
     "execution_count": 47,
     "metadata": {},
     "output_type": "execute_result"
    }
   ],
   "source": [
    "5/6"
   ]
  },
  {
   "cell_type": "code",
   "execution_count": 48,
   "id": "eb3971c7",
   "metadata": {},
   "outputs": [
    {
     "data": {
      "text/plain": [
       "8"
      ]
     },
     "execution_count": 48,
     "metadata": {},
     "output_type": "execute_result"
    }
   ],
   "source": [
    "2**3"
   ]
  },
  {
   "cell_type": "code",
   "execution_count": 49,
   "id": "d25a8387",
   "metadata": {},
   "outputs": [
    {
     "data": {
      "text/plain": [
       "1"
      ]
     },
     "execution_count": 49,
     "metadata": {},
     "output_type": "execute_result"
    }
   ],
   "source": [
    "11%2   # Return the reminder"
   ]
  },
  {
   "cell_type": "code",
   "execution_count": 50,
   "id": "cf1dda42",
   "metadata": {},
   "outputs": [
    {
     "data": {
      "text/plain": [
       "5"
      ]
     },
     "execution_count": 50,
     "metadata": {},
     "output_type": "execute_result"
    }
   ],
   "source": [
    "11//2  "
   ]
  },
  {
   "cell_type": "code",
   "execution_count": 52,
   "id": "f90e83d0",
   "metadata": {},
   "outputs": [],
   "source": [
    "# Assignment\n",
    "\n",
    "x=10"
   ]
  },
  {
   "cell_type": "code",
   "execution_count": 53,
   "id": "64cf68e9",
   "metadata": {},
   "outputs": [
    {
     "data": {
      "text/plain": [
       "10"
      ]
     },
     "execution_count": 53,
     "metadata": {},
     "output_type": "execute_result"
    }
   ],
   "source": [
    "x"
   ]
  },
  {
   "cell_type": "code",
   "execution_count": 54,
   "id": "f16ae03a",
   "metadata": {},
   "outputs": [],
   "source": [
    "y=x"
   ]
  },
  {
   "cell_type": "code",
   "execution_count": 55,
   "id": "5506c05b",
   "metadata": {},
   "outputs": [
    {
     "data": {
      "text/plain": [
       "10"
      ]
     },
     "execution_count": 55,
     "metadata": {},
     "output_type": "execute_result"
    }
   ],
   "source": [
    "y"
   ]
  },
  {
   "cell_type": "code",
   "execution_count": 56,
   "id": "89dd3ec8",
   "metadata": {},
   "outputs": [],
   "source": [
    "z=x*2"
   ]
  },
  {
   "cell_type": "code",
   "execution_count": 57,
   "id": "9ac9212d",
   "metadata": {},
   "outputs": [
    {
     "data": {
      "text/plain": [
       "20"
      ]
     },
     "execution_count": 57,
     "metadata": {},
     "output_type": "execute_result"
    }
   ],
   "source": [
    "z"
   ]
  },
  {
   "cell_type": "code",
   "execution_count": 61,
   "id": "dce7f310",
   "metadata": {},
   "outputs": [],
   "source": [
    "res=x+y+z"
   ]
  },
  {
   "cell_type": "code",
   "execution_count": 62,
   "id": "b620f33d",
   "metadata": {},
   "outputs": [
    {
     "data": {
      "text/plain": [
       "40"
      ]
     },
     "execution_count": 62,
     "metadata": {},
     "output_type": "execute_result"
    }
   ],
   "source": [
    "res"
   ]
  },
  {
   "cell_type": "code",
   "execution_count": 63,
   "id": "b3c28953",
   "metadata": {},
   "outputs": [
    {
     "data": {
      "text/plain": [
       "10"
      ]
     },
     "execution_count": 63,
     "metadata": {},
     "output_type": "execute_result"
    }
   ],
   "source": [
    "#Comparison\n",
    "\n",
    "x"
   ]
  },
  {
   "cell_type": "code",
   "execution_count": 64,
   "id": "14ede553",
   "metadata": {},
   "outputs": [
    {
     "data": {
      "text/plain": [
       "True"
      ]
     },
     "execution_count": 64,
     "metadata": {},
     "output_type": "execute_result"
    }
   ],
   "source": [
    "x==10"
   ]
  },
  {
   "cell_type": "code",
   "execution_count": 65,
   "id": "1628201f",
   "metadata": {},
   "outputs": [
    {
     "data": {
      "text/plain": [
       "True"
      ]
     },
     "execution_count": 65,
     "metadata": {},
     "output_type": "execute_result"
    }
   ],
   "source": [
    "x>0"
   ]
  },
  {
   "cell_type": "code",
   "execution_count": 66,
   "id": "85ba09db",
   "metadata": {},
   "outputs": [
    {
     "data": {
      "text/plain": [
       "False"
      ]
     },
     "execution_count": 66,
     "metadata": {},
     "output_type": "execute_result"
    }
   ],
   "source": [
    "x>100"
   ]
  },
  {
   "cell_type": "code",
   "execution_count": 67,
   "id": "d180e87d",
   "metadata": {},
   "outputs": [
    {
     "data": {
      "text/plain": [
       "False"
      ]
     },
     "execution_count": 67,
     "metadata": {},
     "output_type": "execute_result"
    }
   ],
   "source": [
    "x==0"
   ]
  },
  {
   "cell_type": "code",
   "execution_count": 68,
   "id": "317c8603",
   "metadata": {},
   "outputs": [
    {
     "data": {
      "text/plain": [
       "True"
      ]
     },
     "execution_count": 68,
     "metadata": {},
     "output_type": "execute_result"
    }
   ],
   "source": [
    "x != 0"
   ]
  },
  {
   "cell_type": "code",
   "execution_count": null,
   "id": "7598748c",
   "metadata": {},
   "outputs": [],
   "source": []
  }
 ],
 "metadata": {
  "kernelspec": {
   "display_name": "Python 3 (ipykernel)",
   "language": "python",
   "name": "python3"
  },
  "language_info": {
   "codemirror_mode": {
    "name": "ipython",
    "version": 3
   },
   "file_extension": ".py",
   "mimetype": "text/x-python",
   "name": "python",
   "nbconvert_exporter": "python",
   "pygments_lexer": "ipython3",
   "version": "3.8.10"
  }
 },
 "nbformat": 4,
 "nbformat_minor": 5
}
