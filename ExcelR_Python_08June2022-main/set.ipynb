{
 "cells": [
  {
   "cell_type": "code",
   "execution_count": 1,
   "id": "6b39ee06",
   "metadata": {},
   "outputs": [],
   "source": [
    "odds={1,3,5,7,9}\n",
    "even={2,4,6,8,10}\n",
    "prime={1,3,5,7}\n",
    "composites={1,2,4,5,6,8,9}"
   ]
  },
  {
   "cell_type": "code",
   "execution_count": 2,
   "id": "0de4d92b",
   "metadata": {},
   "outputs": [
    {
     "data": {
      "text/plain": [
       "{1, 2, 3, 4, 5, 6, 7, 8, 9, 10}"
      ]
     },
     "execution_count": 2,
     "metadata": {},
     "output_type": "execute_result"
    }
   ],
   "source": [
    "odds.union(even)"
   ]
  },
  {
   "cell_type": "code",
   "execution_count": 3,
   "id": "605bc2d4",
   "metadata": {},
   "outputs": [
    {
     "data": {
      "text/plain": [
       "{1, 2, 3, 4, 5, 6, 7, 8, 9, 10}"
      ]
     },
     "execution_count": 3,
     "metadata": {},
     "output_type": "execute_result"
    }
   ],
   "source": [
    "even.union(odds)"
   ]
  },
  {
   "cell_type": "code",
   "execution_count": 4,
   "id": "e97fba14",
   "metadata": {},
   "outputs": [
    {
     "data": {
      "text/plain": [
       "set()"
      ]
     },
     "execution_count": 4,
     "metadata": {},
     "output_type": "execute_result"
    }
   ],
   "source": [
    "odds.intersection(even)"
   ]
  },
  {
   "cell_type": "code",
   "execution_count": 5,
   "id": "0bfee494",
   "metadata": {},
   "outputs": [
    {
     "data": {
      "text/plain": [
       "{1, 5, 9}"
      ]
     },
     "execution_count": 5,
     "metadata": {},
     "output_type": "execute_result"
    }
   ],
   "source": [
    "odds.intersection(composites)"
   ]
  },
  {
   "cell_type": "code",
   "execution_count": 6,
   "id": "cfb9eb28",
   "metadata": {},
   "outputs": [
    {
     "data": {
      "text/plain": [
       "{3, 7}"
      ]
     },
     "execution_count": 6,
     "metadata": {},
     "output_type": "execute_result"
    }
   ],
   "source": [
    "odds.difference(composites)"
   ]
  },
  {
   "cell_type": "code",
   "execution_count": 7,
   "id": "3712aa14",
   "metadata": {},
   "outputs": [
    {
     "data": {
      "text/plain": [
       "{2, 4, 6, 8}"
      ]
     },
     "execution_count": 7,
     "metadata": {},
     "output_type": "execute_result"
    }
   ],
   "source": [
    "composites.difference(odds)"
   ]
  },
  {
   "cell_type": "code",
   "execution_count": 9,
   "id": "2c6d7cc8",
   "metadata": {},
   "outputs": [],
   "source": [
    "a={1,3,5,7,9}\n",
    "b={1,2,4,5,6,8,9}"
   ]
  },
  {
   "cell_type": "code",
   "execution_count": 10,
   "id": "0aa42abf",
   "metadata": {},
   "outputs": [
    {
     "data": {
      "text/plain": [
       "{3, 7}"
      ]
     },
     "execution_count": 10,
     "metadata": {},
     "output_type": "execute_result"
    }
   ],
   "source": [
    "a-b"
   ]
  },
  {
   "cell_type": "code",
   "execution_count": 11,
   "id": "13f1fb7e",
   "metadata": {},
   "outputs": [
    {
     "data": {
      "text/plain": [
       "{2, 4, 6, 8}"
      ]
     },
     "execution_count": 11,
     "metadata": {},
     "output_type": "execute_result"
    }
   ],
   "source": [
    "b-a"
   ]
  },
  {
   "cell_type": "code",
   "execution_count": 12,
   "id": "909b277c",
   "metadata": {},
   "outputs": [
    {
     "data": {
      "text/plain": [
       "{1, 5, 9}"
      ]
     },
     "execution_count": 12,
     "metadata": {},
     "output_type": "execute_result"
    }
   ],
   "source": [
    "a&b"
   ]
  },
  {
   "cell_type": "code",
   "execution_count": 14,
   "id": "8a38b303",
   "metadata": {},
   "outputs": [
    {
     "data": {
      "text/plain": [
       "{2, 3, 4, 6, 7, 8}"
      ]
     },
     "execution_count": 14,
     "metadata": {},
     "output_type": "execute_result"
    }
   ],
   "source": [
    "(a-b).union(b-a)"
   ]
  },
  {
   "cell_type": "code",
   "execution_count": 15,
   "id": "274de3d3",
   "metadata": {},
   "outputs": [
    {
     "data": {
      "text/plain": [
       "{2, 3, 4, 6, 7, 8}"
      ]
     },
     "execution_count": 15,
     "metadata": {},
     "output_type": "execute_result"
    }
   ],
   "source": [
    "a.symmetric_difference(b)"
   ]
  },
  {
   "cell_type": "code",
   "execution_count": 16,
   "id": "c3c695b0",
   "metadata": {},
   "outputs": [
    {
     "data": {
      "text/plain": [
       "{2, 3, 4, 6, 7, 8}"
      ]
     },
     "execution_count": 16,
     "metadata": {},
     "output_type": "execute_result"
    }
   ],
   "source": [
    "a^b"
   ]
  },
  {
   "cell_type": "code",
   "execution_count": 17,
   "id": "0499de53",
   "metadata": {},
   "outputs": [],
   "source": [
    "mydata=[1,3,5,2,1,3,5,5,6,4,3,2,5,6,7,8,8,9,0,8,6,5,4,1]"
   ]
  },
  {
   "cell_type": "code",
   "execution_count": 18,
   "id": "fd1a54eb",
   "metadata": {},
   "outputs": [
    {
     "data": {
      "text/plain": [
       "[1, 3, 5, 2, 1, 3, 5, 5, 6, 4, 3, 2, 5, 6, 7, 8, 8, 9, 0, 8, 6, 5, 4, 1]"
      ]
     },
     "execution_count": 18,
     "metadata": {},
     "output_type": "execute_result"
    }
   ],
   "source": [
    "mydata"
   ]
  },
  {
   "cell_type": "code",
   "execution_count": 20,
   "id": "fdf45f2f",
   "metadata": {},
   "outputs": [],
   "source": [
    "mydata1=list(set(mydata))"
   ]
  },
  {
   "cell_type": "code",
   "execution_count": 21,
   "id": "8baa7707",
   "metadata": {},
   "outputs": [
    {
     "data": {
      "text/plain": [
       "[0, 1, 2, 3, 4, 5, 6, 7, 8, 9]"
      ]
     },
     "execution_count": 21,
     "metadata": {},
     "output_type": "execute_result"
    }
   ],
   "source": [
    "mydata1"
   ]
  },
  {
   "cell_type": "code",
   "execution_count": null,
   "id": "4b83cbc1",
   "metadata": {},
   "outputs": [],
   "source": [
    "immutable\n",
    "    Numbers\n",
    "    Strings\n",
    "    Tuples\n",
    "Mutable\n",
    "    List\n",
    "    Dictonary\n",
    "    Set"
   ]
  },
  {
   "cell_type": "code",
   "execution_count": null,
   "id": "0bbdc8a7",
   "metadata": {},
   "outputs": [],
   "source": [
    "#List Comprehension\n",
    "[ expr for x in collection/sequence]\n",
    "[ expr for x in collection/sequence if cond]\n",
    "[ expr for x in collection/sequence if cond1 & cond2]\n",
    "[ expr for x in collection/sequence for y in collection/sequence]"
   ]
  },
  {
   "cell_type": "code",
   "execution_count": 22,
   "id": "88224ae0",
   "metadata": {},
   "outputs": [
    {
     "data": {
      "text/plain": [
       "[1, 2, 3, 4, 5, 6, 7, 8, 9, 10]"
      ]
     },
     "execution_count": 22,
     "metadata": {},
     "output_type": "execute_result"
    }
   ],
   "source": [
    "list(range(1,11))"
   ]
  },
  {
   "cell_type": "code",
   "execution_count": 23,
   "id": "47d83c91",
   "metadata": {},
   "outputs": [
    {
     "data": {
      "text/plain": [
       "[1, 4, 9, 16, 25, 36, 49, 64, 81, 100]"
      ]
     },
     "execution_count": 23,
     "metadata": {},
     "output_type": "execute_result"
    }
   ],
   "source": [
    "[ x**2 for x in range(1,11)]"
   ]
  },
  {
   "cell_type": "code",
   "execution_count": 25,
   "id": "eea94368",
   "metadata": {},
   "outputs": [
    {
     "data": {
      "text/plain": [
       "[1, 3, 5, 7, 9]"
      ]
     },
     "execution_count": 25,
     "metadata": {},
     "output_type": "execute_result"
    }
   ],
   "source": [
    "[ x for x in range(1,11) if x%2==1]"
   ]
  },
  {
   "cell_type": "code",
   "execution_count": 26,
   "id": "46ea4b28",
   "metadata": {},
   "outputs": [
    {
     "data": {
      "text/plain": [
       "[2, 4, 6, 8, 10]"
      ]
     },
     "execution_count": 26,
     "metadata": {},
     "output_type": "execute_result"
    }
   ],
   "source": [
    "[ x for x in range(1,11) if x%2==0]"
   ]
  },
  {
   "cell_type": "code",
   "execution_count": 27,
   "id": "29a0483b",
   "metadata": {},
   "outputs": [
    {
     "data": {
      "text/plain": [
       "[7, 9]"
      ]
     },
     "execution_count": 27,
     "metadata": {},
     "output_type": "execute_result"
    }
   ],
   "source": [
    "[ x for x in range(1,11) if x%2==1 and x>5]"
   ]
  },
  {
   "cell_type": "code",
   "execution_count": 28,
   "id": "bf9c7089",
   "metadata": {},
   "outputs": [
    {
     "data": {
      "text/plain": [
       "[78.5, 113.04, 28.26, 153.86, 615.44, 706.5, 452.16, 379.94, 803.84]"
      ]
     },
     "execution_count": 28,
     "metadata": {},
     "output_type": "execute_result"
    }
   ],
   "source": [
    "#calc the circle's area : 3.14*r**2\n",
    "\n",
    "radius=[5,6,3,7,14,15,12,11,16]\n",
    "[3.14*r**2 for r in radius]"
   ]
  },
  {
   "cell_type": "code",
   "execution_count": 29,
   "id": "821ceed4",
   "metadata": {},
   "outputs": [
    {
     "data": {
      "text/plain": [
       "[(1, 6),\n",
       " (1, 7),\n",
       " (1, 8),\n",
       " (1, 9),\n",
       " (1, 10),\n",
       " (2, 6),\n",
       " (2, 7),\n",
       " (2, 8),\n",
       " (2, 9),\n",
       " (2, 10),\n",
       " (3, 6),\n",
       " (3, 7),\n",
       " (3, 8),\n",
       " (3, 9),\n",
       " (3, 10),\n",
       " (4, 6),\n",
       " (4, 7),\n",
       " (4, 8),\n",
       " (4, 9),\n",
       " (4, 10),\n",
       " (5, 6),\n",
       " (5, 7),\n",
       " (5, 8),\n",
       " (5, 9),\n",
       " (5, 10)]"
      ]
     },
     "execution_count": 29,
     "metadata": {},
     "output_type": "execute_result"
    }
   ],
   "source": [
    "x=[1,2,3,4,5]\n",
    "y=[6,7,8,9,10]\n",
    "\n",
    "[(a,b) for a in x for b in y]\n"
   ]
  },
  {
   "cell_type": "code",
   "execution_count": 38,
   "id": "296ef944",
   "metadata": {},
   "outputs": [
    {
     "data": {
      "text/plain": [
       "[45.25, 64.25, 87.25, 114.25, 145.25]"
      ]
     },
     "execution_count": 38,
     "metadata": {},
     "output_type": "execute_result"
    }
   ],
   "source": [
    "x=[1.5,2.5,3.5,4.5,5.5]\n",
    "y=[6,7,8,9,10]\n",
    "r=[7,9,11,13,15]\n",
    "\n",
    "[a**2+b**2+c for a,b,c in zip(x,y,r)]"
   ]
  },
  {
   "cell_type": "code",
   "execution_count": 40,
   "id": "eb8f6ee8",
   "metadata": {},
   "outputs": [],
   "source": [
    "employees={'Chandra','Aveek','Pankaj','Shyam','Jitendra','Rishabh','Mahima','Ramya'}\n",
    "developers={'Chandra','Aveek','Pankaj','Shyam'}\n",
    "Managers={'Mahima','Rishabh'}\n",
    "gym_users={'Chandra','Aveek','Rishabh','Ramya'}\n",
    "\n",
    "# 1. Get me the list of the employees who are not a developer, manager but member of gym_user\n",
    "# 2. Get me the list of employees who are not a manager or developer\n",
    "# 3. Get me the list of employees who are using gym being as a manager"
   ]
  },
  {
   "cell_type": "code",
   "execution_count": 43,
   "id": "036abbc7",
   "metadata": {},
   "outputs": [
    {
     "data": {
      "text/plain": [
       "{'Ramya'}"
      ]
     },
     "execution_count": 43,
     "metadata": {},
     "output_type": "execute_result"
    }
   ],
   "source": [
    "gym_users-(developers.union(Managers))"
   ]
  },
  {
   "cell_type": "code",
   "execution_count": 44,
   "id": "01e72225",
   "metadata": {},
   "outputs": [
    {
     "data": {
      "text/plain": [
       "{'Jitendra', 'Ramya'}"
      ]
     },
     "execution_count": 44,
     "metadata": {},
     "output_type": "execute_result"
    }
   ],
   "source": [
    "employees-(developers.union(Managers))"
   ]
  },
  {
   "cell_type": "code",
   "execution_count": 45,
   "id": "40e4528d",
   "metadata": {},
   "outputs": [
    {
     "data": {
      "text/plain": [
       "{'Rishabh'}"
      ]
     },
     "execution_count": 45,
     "metadata": {},
     "output_type": "execute_result"
    }
   ],
   "source": [
    "gym_users&Managers"
   ]
  },
  {
   "cell_type": "code",
   "execution_count": null,
   "id": "b739010f",
   "metadata": {},
   "outputs": [],
   "source": []
  }
 ],
 "metadata": {
  "kernelspec": {
   "display_name": "Python 3 (ipykernel)",
   "language": "python",
   "name": "python3"
  },
  "language_info": {
   "codemirror_mode": {
    "name": "ipython",
    "version": 3
   },
   "file_extension": ".py",
   "mimetype": "text/x-python",
   "name": "python",
   "nbconvert_exporter": "python",
   "pygments_lexer": "ipython3",
   "version": "3.8.10"
  }
 },
 "nbformat": 4,
 "nbformat_minor": 5
}
